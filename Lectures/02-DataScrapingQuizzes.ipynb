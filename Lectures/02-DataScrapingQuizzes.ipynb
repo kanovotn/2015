{
 "cells": [
  {
   "cell_type": "code",
   "execution_count": 12,
   "metadata": {},
   "outputs": [
    {
     "name": "stdout",
     "output_type": "stream",
     "text": [
      "Collecting cPickle\n",
      "\u001b[31m  ERROR: Could not find a version that satisfies the requirement cPickle (from versions: none)\u001b[0m\n",
      "\u001b[31mERROR: No matching distribution found for cPickle\u001b[0m\n"
     ]
    }
   ],
   "source": [
    "import sys\n",
    "!{sys.executable} -m pip install cPickle\n"
   ]
  },
  {
   "cell_type": "code",
   "execution_count": 13,
   "metadata": {
    "scrolled": true,
    "slideshow": {
     "slide_type": "skip"
    }
   },
   "outputs": [],
   "source": [
    "## all imports\n",
    "from IPython.display import HTML\n",
    "import numpy as np\n",
    "import urllib.request\n",
    "import urllib.error\n",
    "import bs4 #this is beautiful soup\n",
    "import time\n",
    "import operator\n",
    "import socket\n",
    "import pickle\n",
    "import re # regular expressions\n",
    "\n",
    "from pandas import Series\n",
    "import pandas as pd\n",
    "from pandas import DataFrame\n",
    "\n",
    "import matplotlib\n",
    "import matplotlib.pyplot as plt\n",
    "%matplotlib inline\n",
    "\n",
    "import seaborn as sns\n",
    "sns.set_context(\"talk\")\n",
    "sns.set_style(\"white\")"
   ]
  },
  {
   "cell_type": "code",
   "execution_count": null,
   "metadata": {},
   "outputs": [],
   "source": []
  },
  {
   "cell_type": "markdown",
   "metadata": {
    "slideshow": {
     "slide_type": "skip"
    }
   },
   "source": [
    "API registrations\n",
    "=================\n",
    "\n",
    "If you would like to run all the examples in this notebook, you need to register for the following APIs:\n",
    "\n",
    "* Rotten Tomatoes\n",
    "\n",
    "http://developer.rottentomatoes.com/member/register\n",
    "\n",
    "* Twitter\n",
    "\n",
    "https://apps.twitter.com/app/new\n",
    "\n",
    "* Twitter instructions\n",
    "\n",
    "https://twittercommunity.com/t/how-to-get-my-api-key/7033"
   ]
  },
  {
   "cell_type": "markdown",
   "metadata": {
    "slideshow": {
     "slide_type": "slide"
    }
   },
   "source": [
    "CS109\n",
    "=====\n",
    "\n",
    "Verena Kaynig-Fittkau, Joe Blitzstein, Hanspeter Pfister\n",
    "\n",
    "* vkaynig@seas.harvard.edu\n",
    "* staff@cs109.org"
   ]
  },
  {
   "cell_type": "markdown",
   "metadata": {
    "slideshow": {
     "slide_type": "slide"
    }
   },
   "source": [
    "Announcements\n",
    "==============\n",
    "\n",
    "* Over 400 sign ups on github!\n",
    "* If you are still missing, fill out the survey, time is running out!\n",
    "* Make sure you are on Piazza!\n",
    "\n",
    "\n",
    "* More [git help](https://www.youtube.com/channel/UC0-KaiZFXBlGOFN71YsEV8g/videos)\n",
    "\n",
    "\n",
    "* HW0 is due on Thursday \n",
    "* HW1 is coming out on Thursday\n"
   ]
  },
  {
   "cell_type": "markdown",
   "metadata": {
    "slideshow": {
     "slide_type": "slide"
    }
   },
   "source": [
    "Todays lecture:\n",
    "===============\n",
    "\n",
    "* introduction to pandas\n",
    "    - read a table\n",
    "    - do some plots\n",
    "\n",
    "* all about data scraping\n",
    "* ***What is it? ***\n",
    "* How to do it:\n",
    "    - from a website\n",
    "    - with an API"
   ]
  },
  {
   "cell_type": "markdown",
   "metadata": {
    "slideshow": {
     "slide_type": "slide"
    }
   },
   "source": [
    "IPython Notebooks:\n",
    "===================\n",
    "\n",
    "![IPython](images/ipython.png \"IPython\")"
   ]
  },
  {
   "cell_type": "markdown",
   "metadata": {
    "collapsed": true,
    "slideshow": {
     "slide_type": "slide"
    }
   },
   "source": [
    "IPython Notebooks:\n",
    "===================\n",
    "\n",
    "* These slides are an IPython notebook!\n",
    "* https://github.com/damianavila/live_reveal"
   ]
  },
  {
   "cell_type": "code",
   "execution_count": null,
   "metadata": {},
   "outputs": [],
   "source": [
    "print \"Hello CS109\"\n",
    "\n",
    "print \"I love IPython\"\n",
    "\n",
    "# Ipython notebook have tab completion!\n",
    "# and inbuild help\n",
    "  \n",
    "a = np.zeros(3)"
   ]
  },
  {
   "cell_type": "markdown",
   "metadata": {
    "slideshow": {
     "slide_type": "slide"
    }
   },
   "source": [
    "General advice about programming\n",
    "==================================\n",
    "\n",
    "* You will find nearly everything on google\n",
    "* Try: length of a list in python\n",
    "* A programmer is someone who can turn stack overflow snippets into running code\n",
    "* Use tab completion\n",
    "* Make your variable names meaningful\n"
   ]
  },
  {
   "cell_type": "markdown",
   "metadata": {
    "slideshow": {
     "slide_type": "slide"
    }
   },
   "source": [
    "How to load a table\n",
    "===================\n",
    "\n",
    "* we use Pandas for this\n",
    "* Pandas can do a __lot__ more\n",
    "* more about it later"
   ]
  },
  {
   "cell_type": "markdown",
   "metadata": {
    "slideshow": {
     "slide_type": "slide"
    }
   },
   "source": [
    "The MovieLens data\n",
    "===================\n",
    "\n",
    "http://grouplens.org/datasets/movielens/\n",
    "\n",
    "![Grouplens](images/grouplens.jpg \"Grouplens\")\n",
    "\n",
    "Example inspired by [Greg Reda](http://www.gregreda.com/2013/10/26/using-pandas-on-the-movielens-dataset/)"
   ]
  },
  {
   "cell_type": "markdown",
   "metadata": {
    "slideshow": {
     "slide_type": "slide"
    }
   },
   "source": [
    "Read the user data\n",
    "=================="
   ]
  },
  {
   "cell_type": "code",
   "execution_count": 14,
   "metadata": {
    "slideshow": {
     "slide_type": "-"
    }
   },
   "outputs": [
    {
     "data": {
      "text/html": [
       "<div>\n",
       "<style scoped>\n",
       "    .dataframe tbody tr th:only-of-type {\n",
       "        vertical-align: middle;\n",
       "    }\n",
       "\n",
       "    .dataframe tbody tr th {\n",
       "        vertical-align: top;\n",
       "    }\n",
       "\n",
       "    .dataframe thead th {\n",
       "        text-align: right;\n",
       "    }\n",
       "</style>\n",
       "<table border=\"1\" class=\"dataframe\">\n",
       "  <thead>\n",
       "    <tr style=\"text-align: right;\">\n",
       "      <th></th>\n",
       "      <th>user_id</th>\n",
       "      <th>age</th>\n",
       "      <th>sex</th>\n",
       "      <th>occupation</th>\n",
       "      <th>zip_code</th>\n",
       "    </tr>\n",
       "  </thead>\n",
       "  <tbody>\n",
       "    <tr>\n",
       "      <td>0</td>\n",
       "      <td>1</td>\n",
       "      <td>24</td>\n",
       "      <td>M</td>\n",
       "      <td>technician</td>\n",
       "      <td>85711</td>\n",
       "    </tr>\n",
       "    <tr>\n",
       "      <td>1</td>\n",
       "      <td>2</td>\n",
       "      <td>53</td>\n",
       "      <td>F</td>\n",
       "      <td>other</td>\n",
       "      <td>94043</td>\n",
       "    </tr>\n",
       "    <tr>\n",
       "      <td>2</td>\n",
       "      <td>3</td>\n",
       "      <td>23</td>\n",
       "      <td>M</td>\n",
       "      <td>writer</td>\n",
       "      <td>32067</td>\n",
       "    </tr>\n",
       "    <tr>\n",
       "      <td>3</td>\n",
       "      <td>4</td>\n",
       "      <td>24</td>\n",
       "      <td>M</td>\n",
       "      <td>technician</td>\n",
       "      <td>43537</td>\n",
       "    </tr>\n",
       "    <tr>\n",
       "      <td>4</td>\n",
       "      <td>5</td>\n",
       "      <td>33</td>\n",
       "      <td>F</td>\n",
       "      <td>other</td>\n",
       "      <td>15213</td>\n",
       "    </tr>\n",
       "  </tbody>\n",
       "</table>\n",
       "</div>"
      ],
      "text/plain": [
       "   user_id  age sex  occupation zip_code\n",
       "0        1   24   M  technician    85711\n",
       "1        2   53   F       other    94043\n",
       "2        3   23   M      writer    32067\n",
       "3        4   24   M  technician    43537\n",
       "4        5   33   F       other    15213"
      ]
     },
     "execution_count": 14,
     "metadata": {},
     "output_type": "execute_result"
    }
   ],
   "source": [
    "# pass in column names for each CSV\n",
    "u_cols = ['user_id', 'age', 'sex', 'occupation', 'zip_code']\n",
    "\n",
    "users = pd.read_csv(\n",
    "    'http://files.grouplens.org/datasets/movielens/ml-100k/u.user', \n",
    "    sep='|', names=u_cols)\n",
    "\n",
    "users.head()"
   ]
  },
  {
   "cell_type": "markdown",
   "metadata": {
    "slideshow": {
     "slide_type": "slide"
    }
   },
   "source": [
    "Read the ratings\n",
    "============"
   ]
  },
  {
   "cell_type": "code",
   "execution_count": 15,
   "metadata": {},
   "outputs": [
    {
     "data": {
      "text/html": [
       "<div>\n",
       "<style scoped>\n",
       "    .dataframe tbody tr th:only-of-type {\n",
       "        vertical-align: middle;\n",
       "    }\n",
       "\n",
       "    .dataframe tbody tr th {\n",
       "        vertical-align: top;\n",
       "    }\n",
       "\n",
       "    .dataframe thead th {\n",
       "        text-align: right;\n",
       "    }\n",
       "</style>\n",
       "<table border=\"1\" class=\"dataframe\">\n",
       "  <thead>\n",
       "    <tr style=\"text-align: right;\">\n",
       "      <th></th>\n",
       "      <th>user_id</th>\n",
       "      <th>movie_id</th>\n",
       "      <th>rating</th>\n",
       "      <th>unix_timestamp</th>\n",
       "    </tr>\n",
       "  </thead>\n",
       "  <tbody>\n",
       "    <tr>\n",
       "      <td>0</td>\n",
       "      <td>196</td>\n",
       "      <td>242</td>\n",
       "      <td>3</td>\n",
       "      <td>881250949</td>\n",
       "    </tr>\n",
       "    <tr>\n",
       "      <td>1</td>\n",
       "      <td>186</td>\n",
       "      <td>302</td>\n",
       "      <td>3</td>\n",
       "      <td>891717742</td>\n",
       "    </tr>\n",
       "    <tr>\n",
       "      <td>2</td>\n",
       "      <td>22</td>\n",
       "      <td>377</td>\n",
       "      <td>1</td>\n",
       "      <td>878887116</td>\n",
       "    </tr>\n",
       "    <tr>\n",
       "      <td>3</td>\n",
       "      <td>244</td>\n",
       "      <td>51</td>\n",
       "      <td>2</td>\n",
       "      <td>880606923</td>\n",
       "    </tr>\n",
       "    <tr>\n",
       "      <td>4</td>\n",
       "      <td>166</td>\n",
       "      <td>346</td>\n",
       "      <td>1</td>\n",
       "      <td>886397596</td>\n",
       "    </tr>\n",
       "  </tbody>\n",
       "</table>\n",
       "</div>"
      ],
      "text/plain": [
       "   user_id  movie_id  rating  unix_timestamp\n",
       "0      196       242       3       881250949\n",
       "1      186       302       3       891717742\n",
       "2       22       377       1       878887116\n",
       "3      244        51       2       880606923\n",
       "4      166       346       1       886397596"
      ]
     },
     "execution_count": 15,
     "metadata": {},
     "output_type": "execute_result"
    }
   ],
   "source": [
    "r_cols = ['user_id', 'movie_id', 'rating', 'unix_timestamp']\n",
    "ratings = pd.read_csv(\n",
    "    'http://files.grouplens.org/datasets/movielens/ml-100k/u.data', \n",
    "    sep='\\t', names=r_cols)\n",
    "\n",
    "ratings.head() "
   ]
  },
  {
   "cell_type": "markdown",
   "metadata": {
    "slideshow": {
     "slide_type": "slide"
    }
   },
   "source": [
    "Now data about the movies\n",
    "========================="
   ]
  },
  {
   "cell_type": "code",
   "execution_count": 21,
   "metadata": {},
   "outputs": [
    {
     "ename": "UnicodeDecodeError",
     "evalue": "'utf-8' codec can't decode byte 0xe9 in position 3: invalid continuation byte",
     "output_type": "error",
     "traceback": [
      "\u001b[0;31m---------------------------------------------------------------------------\u001b[0m",
      "\u001b[0;31mUnicodeDecodeError\u001b[0m                        Traceback (most recent call last)",
      "\u001b[0;32mpandas/_libs/parsers.pyx\u001b[0m in \u001b[0;36mpandas._libs.parsers.TextReader._convert_tokens\u001b[0;34m()\u001b[0m\n",
      "\u001b[0;32mpandas/_libs/parsers.pyx\u001b[0m in \u001b[0;36mpandas._libs.parsers.TextReader._convert_with_dtype\u001b[0;34m()\u001b[0m\n",
      "\u001b[0;32mpandas/_libs/parsers.pyx\u001b[0m in \u001b[0;36mpandas._libs.parsers.TextReader._string_convert\u001b[0;34m()\u001b[0m\n",
      "\u001b[0;32mpandas/_libs/parsers.pyx\u001b[0m in \u001b[0;36mpandas._libs.parsers._string_box_utf8\u001b[0;34m()\u001b[0m\n",
      "\u001b[0;31mUnicodeDecodeError\u001b[0m: 'utf-8' codec can't decode byte 0xe9 in position 3: invalid continuation byte",
      "\nDuring handling of the above exception, another exception occurred:\n",
      "\u001b[0;31mUnicodeDecodeError\u001b[0m                        Traceback (most recent call last)",
      "\u001b[0;32m<ipython-input-21-88355bfcd5c9>\u001b[0m in \u001b[0;36m<module>\u001b[0;34m\u001b[0m\n\u001b[1;32m      5\u001b[0m movies = pd.read_csv(\n\u001b[1;32m      6\u001b[0m     \u001b[0;34m'http://files.grouplens.org/datasets/movielens/ml-100k/u.item'\u001b[0m\u001b[0;34m,\u001b[0m\u001b[0;34m\u001b[0m\u001b[0;34m\u001b[0m\u001b[0m\n\u001b[0;32m----> 7\u001b[0;31m     sep='|', names=m_cols, usecols=[0,1,2,3])\n\u001b[0m\u001b[1;32m      8\u001b[0m \u001b[0;34m\u001b[0m\u001b[0m\n\u001b[1;32m      9\u001b[0m \u001b[0mmovies\u001b[0m\u001b[0;34m.\u001b[0m\u001b[0mhead\u001b[0m\u001b[0;34m(\u001b[0m\u001b[0;34m)\u001b[0m\u001b[0;34m\u001b[0m\u001b[0;34m\u001b[0m\u001b[0m\n",
      "\u001b[0;32m~/anaconda3/lib/python3.7/site-packages/pandas/io/parsers.py\u001b[0m in \u001b[0;36mparser_f\u001b[0;34m(filepath_or_buffer, sep, delimiter, header, names, index_col, usecols, squeeze, prefix, mangle_dupe_cols, dtype, engine, converters, true_values, false_values, skipinitialspace, skiprows, skipfooter, nrows, na_values, keep_default_na, na_filter, verbose, skip_blank_lines, parse_dates, infer_datetime_format, keep_date_col, date_parser, dayfirst, cache_dates, iterator, chunksize, compression, thousands, decimal, lineterminator, quotechar, quoting, doublequote, escapechar, comment, encoding, dialect, error_bad_lines, warn_bad_lines, delim_whitespace, low_memory, memory_map, float_precision)\u001b[0m\n\u001b[1;32m    683\u001b[0m         )\n\u001b[1;32m    684\u001b[0m \u001b[0;34m\u001b[0m\u001b[0m\n\u001b[0;32m--> 685\u001b[0;31m         \u001b[0;32mreturn\u001b[0m \u001b[0m_read\u001b[0m\u001b[0;34m(\u001b[0m\u001b[0mfilepath_or_buffer\u001b[0m\u001b[0;34m,\u001b[0m \u001b[0mkwds\u001b[0m\u001b[0;34m)\u001b[0m\u001b[0;34m\u001b[0m\u001b[0;34m\u001b[0m\u001b[0m\n\u001b[0m\u001b[1;32m    686\u001b[0m \u001b[0;34m\u001b[0m\u001b[0m\n\u001b[1;32m    687\u001b[0m     \u001b[0mparser_f\u001b[0m\u001b[0;34m.\u001b[0m\u001b[0m__name__\u001b[0m \u001b[0;34m=\u001b[0m \u001b[0mname\u001b[0m\u001b[0;34m\u001b[0m\u001b[0;34m\u001b[0m\u001b[0m\n",
      "\u001b[0;32m~/anaconda3/lib/python3.7/site-packages/pandas/io/parsers.py\u001b[0m in \u001b[0;36m_read\u001b[0;34m(filepath_or_buffer, kwds)\u001b[0m\n\u001b[1;32m    461\u001b[0m \u001b[0;34m\u001b[0m\u001b[0m\n\u001b[1;32m    462\u001b[0m     \u001b[0;32mtry\u001b[0m\u001b[0;34m:\u001b[0m\u001b[0;34m\u001b[0m\u001b[0;34m\u001b[0m\u001b[0m\n\u001b[0;32m--> 463\u001b[0;31m         \u001b[0mdata\u001b[0m \u001b[0;34m=\u001b[0m \u001b[0mparser\u001b[0m\u001b[0;34m.\u001b[0m\u001b[0mread\u001b[0m\u001b[0;34m(\u001b[0m\u001b[0mnrows\u001b[0m\u001b[0;34m)\u001b[0m\u001b[0;34m\u001b[0m\u001b[0;34m\u001b[0m\u001b[0m\n\u001b[0m\u001b[1;32m    464\u001b[0m     \u001b[0;32mfinally\u001b[0m\u001b[0;34m:\u001b[0m\u001b[0;34m\u001b[0m\u001b[0;34m\u001b[0m\u001b[0m\n\u001b[1;32m    465\u001b[0m         \u001b[0mparser\u001b[0m\u001b[0;34m.\u001b[0m\u001b[0mclose\u001b[0m\u001b[0;34m(\u001b[0m\u001b[0;34m)\u001b[0m\u001b[0;34m\u001b[0m\u001b[0;34m\u001b[0m\u001b[0m\n",
      "\u001b[0;32m~/anaconda3/lib/python3.7/site-packages/pandas/io/parsers.py\u001b[0m in \u001b[0;36mread\u001b[0;34m(self, nrows)\u001b[0m\n\u001b[1;32m   1152\u001b[0m     \u001b[0;32mdef\u001b[0m \u001b[0mread\u001b[0m\u001b[0;34m(\u001b[0m\u001b[0mself\u001b[0m\u001b[0;34m,\u001b[0m \u001b[0mnrows\u001b[0m\u001b[0;34m=\u001b[0m\u001b[0;32mNone\u001b[0m\u001b[0;34m)\u001b[0m\u001b[0;34m:\u001b[0m\u001b[0;34m\u001b[0m\u001b[0;34m\u001b[0m\u001b[0m\n\u001b[1;32m   1153\u001b[0m         \u001b[0mnrows\u001b[0m \u001b[0;34m=\u001b[0m \u001b[0m_validate_integer\u001b[0m\u001b[0;34m(\u001b[0m\u001b[0;34m\"nrows\"\u001b[0m\u001b[0;34m,\u001b[0m \u001b[0mnrows\u001b[0m\u001b[0;34m)\u001b[0m\u001b[0;34m\u001b[0m\u001b[0;34m\u001b[0m\u001b[0m\n\u001b[0;32m-> 1154\u001b[0;31m         \u001b[0mret\u001b[0m \u001b[0;34m=\u001b[0m \u001b[0mself\u001b[0m\u001b[0;34m.\u001b[0m\u001b[0m_engine\u001b[0m\u001b[0;34m.\u001b[0m\u001b[0mread\u001b[0m\u001b[0;34m(\u001b[0m\u001b[0mnrows\u001b[0m\u001b[0;34m)\u001b[0m\u001b[0;34m\u001b[0m\u001b[0;34m\u001b[0m\u001b[0m\n\u001b[0m\u001b[1;32m   1155\u001b[0m \u001b[0;34m\u001b[0m\u001b[0m\n\u001b[1;32m   1156\u001b[0m         \u001b[0;31m# May alter columns / col_dict\u001b[0m\u001b[0;34m\u001b[0m\u001b[0;34m\u001b[0m\u001b[0;34m\u001b[0m\u001b[0m\n",
      "\u001b[0;32m~/anaconda3/lib/python3.7/site-packages/pandas/io/parsers.py\u001b[0m in \u001b[0;36mread\u001b[0;34m(self, nrows)\u001b[0m\n\u001b[1;32m   2057\u001b[0m     \u001b[0;32mdef\u001b[0m \u001b[0mread\u001b[0m\u001b[0;34m(\u001b[0m\u001b[0mself\u001b[0m\u001b[0;34m,\u001b[0m \u001b[0mnrows\u001b[0m\u001b[0;34m=\u001b[0m\u001b[0;32mNone\u001b[0m\u001b[0;34m)\u001b[0m\u001b[0;34m:\u001b[0m\u001b[0;34m\u001b[0m\u001b[0;34m\u001b[0m\u001b[0m\n\u001b[1;32m   2058\u001b[0m         \u001b[0;32mtry\u001b[0m\u001b[0;34m:\u001b[0m\u001b[0;34m\u001b[0m\u001b[0;34m\u001b[0m\u001b[0m\n\u001b[0;32m-> 2059\u001b[0;31m             \u001b[0mdata\u001b[0m \u001b[0;34m=\u001b[0m \u001b[0mself\u001b[0m\u001b[0;34m.\u001b[0m\u001b[0m_reader\u001b[0m\u001b[0;34m.\u001b[0m\u001b[0mread\u001b[0m\u001b[0;34m(\u001b[0m\u001b[0mnrows\u001b[0m\u001b[0;34m)\u001b[0m\u001b[0;34m\u001b[0m\u001b[0;34m\u001b[0m\u001b[0m\n\u001b[0m\u001b[1;32m   2060\u001b[0m         \u001b[0;32mexcept\u001b[0m \u001b[0mStopIteration\u001b[0m\u001b[0;34m:\u001b[0m\u001b[0;34m\u001b[0m\u001b[0;34m\u001b[0m\u001b[0m\n\u001b[1;32m   2061\u001b[0m             \u001b[0;32mif\u001b[0m \u001b[0mself\u001b[0m\u001b[0;34m.\u001b[0m\u001b[0m_first_chunk\u001b[0m\u001b[0;34m:\u001b[0m\u001b[0;34m\u001b[0m\u001b[0;34m\u001b[0m\u001b[0m\n",
      "\u001b[0;32mpandas/_libs/parsers.pyx\u001b[0m in \u001b[0;36mpandas._libs.parsers.TextReader.read\u001b[0;34m()\u001b[0m\n",
      "\u001b[0;32mpandas/_libs/parsers.pyx\u001b[0m in \u001b[0;36mpandas._libs.parsers.TextReader._read_low_memory\u001b[0;34m()\u001b[0m\n",
      "\u001b[0;32mpandas/_libs/parsers.pyx\u001b[0m in \u001b[0;36mpandas._libs.parsers.TextReader._read_rows\u001b[0;34m()\u001b[0m\n",
      "\u001b[0;32mpandas/_libs/parsers.pyx\u001b[0m in \u001b[0;36mpandas._libs.parsers.TextReader._convert_column_data\u001b[0;34m()\u001b[0m\n",
      "\u001b[0;32mpandas/_libs/parsers.pyx\u001b[0m in \u001b[0;36mpandas._libs.parsers.TextReader._convert_tokens\u001b[0;34m()\u001b[0m\n",
      "\u001b[0;32mpandas/_libs/parsers.pyx\u001b[0m in \u001b[0;36mpandas._libs.parsers.TextReader._convert_with_dtype\u001b[0;34m()\u001b[0m\n",
      "\u001b[0;32mpandas/_libs/parsers.pyx\u001b[0m in \u001b[0;36mpandas._libs.parsers.TextReader._string_convert\u001b[0;34m()\u001b[0m\n",
      "\u001b[0;32mpandas/_libs/parsers.pyx\u001b[0m in \u001b[0;36mpandas._libs.parsers._string_box_utf8\u001b[0;34m()\u001b[0m\n",
      "\u001b[0;31mUnicodeDecodeError\u001b[0m: 'utf-8' codec can't decode byte 0xe9 in position 3: invalid continuation byte"
     ]
    }
   ],
   "source": [
    "# the movies file contains columns indicating the movie's genres\n",
    "# let's only load the first five columns of the file with usecols\n",
    "m_cols = ['movie_id', 'title', 'release_date', 'video_release_date']\n",
    "\n",
    "movies = pd.read_csv(\n",
    "    'http://files.grouplens.org/datasets/movielens/ml-100k/u.item',\n",
    "    sep='|', names=m_cols, usecols=[0,1,2,3])\n",
    "\n",
    "movies.head()"
   ]
  },
  {
   "cell_type": "markdown",
   "metadata": {
    "slideshow": {
     "slide_type": "slide"
    }
   },
   "source": [
    "Get information about data\n",
    "======================="
   ]
  },
  {
   "cell_type": "code",
   "execution_count": null,
   "metadata": {},
   "outputs": [],
   "source": [
    "print movies.dtypes\n",
    "print\n",
    "print movies.describe()\n",
    "# *** Why only those two columns? ***"
   ]
  },
  {
   "cell_type": "markdown",
   "metadata": {
    "slideshow": {
     "slide_type": "slide"
    }
   },
   "source": [
    "Selecting data\n",
    "==============\n",
    "\n",
    "* DataFrame => group of Series with shared index\n",
    "* single DataFrame column => Series"
   ]
  },
  {
   "cell_type": "code",
   "execution_count": 26,
   "metadata": {
    "slideshow": {
     "slide_type": "slide"
    }
   },
   "outputs": [
    {
     "name": "stdout",
     "output_type": "stream",
     "text": [
      "   user_id  age sex  occupation zip_code\n",
      "0        1   24   M  technician    85711\n",
      "1        2   53   F       other    94043\n",
      "2        3   23   M      writer    32067\n",
      "3        4   24   M  technician    43537\n",
      "4        5   33   F       other    15213\n",
      "user_id                4\n",
      "age                   24\n",
      "sex                    M\n",
      "occupation    technician\n",
      "zip_code           43537\n",
      "Name: 3, dtype: object\n"
     ]
    }
   ],
   "source": [
    "users.head()\n",
    "users['occupation'].head()\n",
    "## *** Where did the nice design go? ***\n",
    "columns_you_want = ['occupation', 'sex'] \n",
    "users[columns_you_want].head()\n",
    "\n",
    "print(users.head())\n",
    "\n",
    "print(users.iloc[3])"
   ]
  },
  {
   "cell_type": "markdown",
   "metadata": {
    "slideshow": {
     "slide_type": "slide"
    }
   },
   "source": [
    "Filtering data\n",
    "==============\n",
    "\n",
    "Select users older than 25"
   ]
  },
  {
   "cell_type": "code",
   "execution_count": 27,
   "metadata": {},
   "outputs": [
    {
     "data": {
      "text/html": [
       "<div>\n",
       "<style scoped>\n",
       "    .dataframe tbody tr th:only-of-type {\n",
       "        vertical-align: middle;\n",
       "    }\n",
       "\n",
       "    .dataframe tbody tr th {\n",
       "        vertical-align: top;\n",
       "    }\n",
       "\n",
       "    .dataframe thead th {\n",
       "        text-align: right;\n",
       "    }\n",
       "</style>\n",
       "<table border=\"1\" class=\"dataframe\">\n",
       "  <thead>\n",
       "    <tr style=\"text-align: right;\">\n",
       "      <th></th>\n",
       "      <th>user_id</th>\n",
       "      <th>age</th>\n",
       "      <th>sex</th>\n",
       "      <th>occupation</th>\n",
       "      <th>zip_code</th>\n",
       "    </tr>\n",
       "  </thead>\n",
       "  <tbody>\n",
       "    <tr>\n",
       "      <td>1</td>\n",
       "      <td>2</td>\n",
       "      <td>53</td>\n",
       "      <td>F</td>\n",
       "      <td>other</td>\n",
       "      <td>94043</td>\n",
       "    </tr>\n",
       "    <tr>\n",
       "      <td>4</td>\n",
       "      <td>5</td>\n",
       "      <td>33</td>\n",
       "      <td>F</td>\n",
       "      <td>other</td>\n",
       "      <td>15213</td>\n",
       "    </tr>\n",
       "    <tr>\n",
       "      <td>5</td>\n",
       "      <td>6</td>\n",
       "      <td>42</td>\n",
       "      <td>M</td>\n",
       "      <td>executive</td>\n",
       "      <td>98101</td>\n",
       "    </tr>\n",
       "    <tr>\n",
       "      <td>6</td>\n",
       "      <td>7</td>\n",
       "      <td>57</td>\n",
       "      <td>M</td>\n",
       "      <td>administrator</td>\n",
       "      <td>91344</td>\n",
       "    </tr>\n",
       "    <tr>\n",
       "      <td>7</td>\n",
       "      <td>8</td>\n",
       "      <td>36</td>\n",
       "      <td>M</td>\n",
       "      <td>administrator</td>\n",
       "      <td>05201</td>\n",
       "    </tr>\n",
       "  </tbody>\n",
       "</table>\n",
       "</div>"
      ],
      "text/plain": [
       "   user_id  age sex     occupation zip_code\n",
       "1        2   53   F          other    94043\n",
       "4        5   33   F          other    15213\n",
       "5        6   42   M      executive    98101\n",
       "6        7   57   M  administrator    91344\n",
       "7        8   36   M  administrator    05201"
      ]
     },
     "execution_count": 27,
     "metadata": {},
     "output_type": "execute_result"
    }
   ],
   "source": [
    "oldUsers = users[users.age > 25]\n",
    "oldUsers.head()"
   ]
  },
  {
   "cell_type": "markdown",
   "metadata": {
    "slideshow": {
     "slide_type": "slide"
    }
   },
   "source": [
    "Quiz:\n",
    "=====\n",
    "\n",
    "* show users aged 40 and male\n",
    "\n",
    "* show the mean age of female programmers"
   ]
  },
  {
   "cell_type": "code",
   "execution_count": 42,
   "metadata": {
    "slideshow": {
     "slide_type": "slide"
    }
   },
   "outputs": [
    {
     "data": {
      "text/html": [
       "<div>\n",
       "<style scoped>\n",
       "    .dataframe tbody tr th:only-of-type {\n",
       "        vertical-align: middle;\n",
       "    }\n",
       "\n",
       "    .dataframe tbody tr th {\n",
       "        vertical-align: top;\n",
       "    }\n",
       "\n",
       "    .dataframe thead th {\n",
       "        text-align: right;\n",
       "    }\n",
       "</style>\n",
       "<table border=\"1\" class=\"dataframe\">\n",
       "  <thead>\n",
       "    <tr style=\"text-align: right;\">\n",
       "      <th></th>\n",
       "      <th>user_id</th>\n",
       "      <th>age</th>\n",
       "      <th>sex</th>\n",
       "      <th>occupation</th>\n",
       "      <th>zip_code</th>\n",
       "    </tr>\n",
       "  </thead>\n",
       "  <tbody>\n",
       "    <tr>\n",
       "      <td>18</td>\n",
       "      <td>19</td>\n",
       "      <td>40</td>\n",
       "      <td>M</td>\n",
       "      <td>librarian</td>\n",
       "      <td>02138</td>\n",
       "    </tr>\n",
       "    <tr>\n",
       "      <td>82</td>\n",
       "      <td>83</td>\n",
       "      <td>40</td>\n",
       "      <td>M</td>\n",
       "      <td>other</td>\n",
       "      <td>44133</td>\n",
       "    </tr>\n",
       "    <tr>\n",
       "      <td>115</td>\n",
       "      <td>116</td>\n",
       "      <td>40</td>\n",
       "      <td>M</td>\n",
       "      <td>healthcare</td>\n",
       "      <td>97232</td>\n",
       "    </tr>\n",
       "    <tr>\n",
       "      <td>199</td>\n",
       "      <td>200</td>\n",
       "      <td>40</td>\n",
       "      <td>M</td>\n",
       "      <td>programmer</td>\n",
       "      <td>93402</td>\n",
       "    </tr>\n",
       "    <tr>\n",
       "      <td>283</td>\n",
       "      <td>284</td>\n",
       "      <td>40</td>\n",
       "      <td>M</td>\n",
       "      <td>executive</td>\n",
       "      <td>92629</td>\n",
       "    </tr>\n",
       "    <tr>\n",
       "      <td>289</td>\n",
       "      <td>290</td>\n",
       "      <td>40</td>\n",
       "      <td>M</td>\n",
       "      <td>engineer</td>\n",
       "      <td>93550</td>\n",
       "    </tr>\n",
       "    <tr>\n",
       "      <td>308</td>\n",
       "      <td>309</td>\n",
       "      <td>40</td>\n",
       "      <td>M</td>\n",
       "      <td>scientist</td>\n",
       "      <td>70802</td>\n",
       "    </tr>\n",
       "    <tr>\n",
       "      <td>357</td>\n",
       "      <td>358</td>\n",
       "      <td>40</td>\n",
       "      <td>M</td>\n",
       "      <td>educator</td>\n",
       "      <td>10022</td>\n",
       "    </tr>\n",
       "    <tr>\n",
       "      <td>397</td>\n",
       "      <td>398</td>\n",
       "      <td>40</td>\n",
       "      <td>M</td>\n",
       "      <td>other</td>\n",
       "      <td>60008</td>\n",
       "    </tr>\n",
       "    <tr>\n",
       "      <td>564</td>\n",
       "      <td>565</td>\n",
       "      <td>40</td>\n",
       "      <td>M</td>\n",
       "      <td>student</td>\n",
       "      <td>55422</td>\n",
       "    </tr>\n",
       "    <tr>\n",
       "      <td>646</td>\n",
       "      <td>647</td>\n",
       "      <td>40</td>\n",
       "      <td>M</td>\n",
       "      <td>educator</td>\n",
       "      <td>45810</td>\n",
       "    </tr>\n",
       "    <tr>\n",
       "      <td>791</td>\n",
       "      <td>792</td>\n",
       "      <td>40</td>\n",
       "      <td>M</td>\n",
       "      <td>programmer</td>\n",
       "      <td>12205</td>\n",
       "    </tr>\n",
       "    <tr>\n",
       "      <td>841</td>\n",
       "      <td>842</td>\n",
       "      <td>40</td>\n",
       "      <td>M</td>\n",
       "      <td>writer</td>\n",
       "      <td>93055</td>\n",
       "    </tr>\n",
       "    <tr>\n",
       "      <td>917</td>\n",
       "      <td>918</td>\n",
       "      <td>40</td>\n",
       "      <td>M</td>\n",
       "      <td>scientist</td>\n",
       "      <td>70116</td>\n",
       "    </tr>\n",
       "  </tbody>\n",
       "</table>\n",
       "</div>"
      ],
      "text/plain": [
       "     user_id  age sex  occupation zip_code\n",
       "18        19   40   M   librarian    02138\n",
       "82        83   40   M       other    44133\n",
       "115      116   40   M  healthcare    97232\n",
       "199      200   40   M  programmer    93402\n",
       "283      284   40   M   executive    92629\n",
       "289      290   40   M    engineer    93550\n",
       "308      309   40   M   scientist    70802\n",
       "357      358   40   M    educator    10022\n",
       "397      398   40   M       other    60008\n",
       "564      565   40   M     student    55422\n",
       "646      647   40   M    educator    45810\n",
       "791      792   40   M  programmer    12205\n",
       "841      842   40   M      writer    93055\n",
       "917      918   40   M   scientist    70116"
      ]
     },
     "execution_count": 42,
     "metadata": {},
     "output_type": "execute_result"
    }
   ],
   "source": [
    "# users aged 40 AND male\n",
    "# your code here\n",
    "#users.dtypes\n",
    "users[(users.age == 40) & (users.sex == 'M')]"
   ]
  },
  {
   "cell_type": "code",
   "execution_count": 46,
   "metadata": {
    "slideshow": {
     "slide_type": "slide"
    }
   },
   "outputs": [
    {
     "data": {
      "text/plain": [
       "32.166666666666664"
      ]
     },
     "execution_count": 46,
     "metadata": {},
     "output_type": "execute_result"
    }
   ],
   "source": [
    "## users who are female and programmers\n",
    "# your code here\n",
    "users[(users.occupation == 'programmer') & (users.sex == 'F')]\n",
    "\n",
    "## show statistic summary or compute mean\n",
    "# your code here\n",
    "fem_prog = users[(users.occupation == 'programmer') & (users.sex == 'F')]\n",
    "fem_prog.age.mean()"
   ]
  },
  {
   "cell_type": "markdown",
   "metadata": {
    "slideshow": {
     "slide_type": "slide"
    }
   },
   "source": [
    "Split-apply-combine\n",
    "===================\n",
    "\n",
    "* splitting the data into groups based on some criteria\n",
    "* applying a function to each group independently\n",
    "* combining the results into a data structure"
   ]
  },
  {
   "cell_type": "markdown",
   "metadata": {
    "slideshow": {
     "slide_type": "slide"
    }
   },
   "source": [
    "Split-apply-combine\n",
    "===================\n",
    "\n",
    "<img src=http://i.imgur.com/yjNkiwL.png></img>"
   ]
  },
  {
   "cell_type": "markdown",
   "metadata": {
    "slideshow": {
     "slide_type": "slide"
    }
   },
   "source": [
    "Find Diligent Users\n",
    "===================\n",
    "\n",
    "* split data per user ID\n",
    "* count ratings\n",
    "* combine result"
   ]
  },
  {
   "cell_type": "code",
   "execution_count": 48,
   "metadata": {
    "slideshow": {
     "slide_type": "slide"
    }
   },
   "outputs": [
    {
     "name": "stdout",
     "output_type": "stream",
     "text": [
      "   user_id  movie_id  rating  unix_timestamp\n",
      "0      196       242       3       881250949\n",
      "1      186       302       3       891717742\n",
      "2       22       377       1       878887116\n",
      "3      244        51       2       880606923\n",
      "4      166       346       1       886397596\n"
     ]
    },
    {
     "data": {
      "text/html": [
       "<div>\n",
       "<style scoped>\n",
       "    .dataframe tbody tr th:only-of-type {\n",
       "        vertical-align: middle;\n",
       "    }\n",
       "\n",
       "    .dataframe tbody tr th {\n",
       "        vertical-align: top;\n",
       "    }\n",
       "\n",
       "    .dataframe thead th {\n",
       "        text-align: right;\n",
       "    }\n",
       "</style>\n",
       "<table border=\"1\" class=\"dataframe\">\n",
       "  <thead>\n",
       "    <tr style=\"text-align: right;\">\n",
       "      <th></th>\n",
       "      <th>movie_id</th>\n",
       "      <th>rating</th>\n",
       "      <th>unix_timestamp</th>\n",
       "    </tr>\n",
       "    <tr>\n",
       "      <th>user_id</th>\n",
       "      <th></th>\n",
       "      <th></th>\n",
       "      <th></th>\n",
       "    </tr>\n",
       "  </thead>\n",
       "  <tbody>\n",
       "    <tr>\n",
       "      <td>1</td>\n",
       "      <td>272</td>\n",
       "      <td>272</td>\n",
       "      <td>272</td>\n",
       "    </tr>\n",
       "    <tr>\n",
       "      <td>2</td>\n",
       "      <td>62</td>\n",
       "      <td>62</td>\n",
       "      <td>62</td>\n",
       "    </tr>\n",
       "    <tr>\n",
       "      <td>3</td>\n",
       "      <td>54</td>\n",
       "      <td>54</td>\n",
       "      <td>54</td>\n",
       "    </tr>\n",
       "    <tr>\n",
       "      <td>4</td>\n",
       "      <td>24</td>\n",
       "      <td>24</td>\n",
       "      <td>24</td>\n",
       "    </tr>\n",
       "    <tr>\n",
       "      <td>5</td>\n",
       "      <td>175</td>\n",
       "      <td>175</td>\n",
       "      <td>175</td>\n",
       "    </tr>\n",
       "  </tbody>\n",
       "</table>\n",
       "</div>"
      ],
      "text/plain": [
       "         movie_id  rating  unix_timestamp\n",
       "user_id                                  \n",
       "1             272     272             272\n",
       "2              62      62              62\n",
       "3              54      54              54\n",
       "4              24      24              24\n",
       "5             175     175             175"
      ]
     },
     "execution_count": 48,
     "metadata": {},
     "output_type": "execute_result"
    }
   ],
   "source": [
    "print(ratings.head())\n",
    "## split data\n",
    "grouped_data = ratings.groupby('user_id')\n",
    "#grouped_data = ratings['movie_id'].groupby(ratings['user_id'])\n",
    "\n",
    "## count and combine\n",
    "ratings_per_user = grouped_data.count()\n",
    "\n",
    "ratings_per_user.head(5)"
   ]
  },
  {
   "cell_type": "markdown",
   "metadata": {
    "slideshow": {
     "slide_type": "slide"
    }
   },
   "source": [
    "Quiz\n",
    "====\n",
    "\n",
    "* get the average rating per movie\n",
    "* advanced: get the movie titles with the highest average rating"
   ]
  },
  {
   "cell_type": "code",
   "execution_count": 61,
   "metadata": {
    "slideshow": {
     "slide_type": "slide"
    }
   },
   "outputs": [
    {
     "ename": "NameError",
     "evalue": "name 'movies' is not defined",
     "output_type": "error",
     "traceback": [
      "\u001b[0;31m---------------------------------------------------------------------------\u001b[0m",
      "\u001b[0;31mNameError\u001b[0m                                 Traceback (most recent call last)",
      "\u001b[0;32m<ipython-input-61-29225a1ca338>\u001b[0m in \u001b[0;36m<module>\u001b[0;34m\u001b[0m\n\u001b[1;32m     13\u001b[0m \u001b[0;31m# get movie ids with that rating\u001b[0m\u001b[0;34m\u001b[0m\u001b[0;34m\u001b[0m\u001b[0;34m\u001b[0m\u001b[0m\n\u001b[1;32m     14\u001b[0m \u001b[0;31m# your code here\u001b[0m\u001b[0;34m\u001b[0m\u001b[0;34m\u001b[0m\u001b[0;34m\u001b[0m\u001b[0m\n\u001b[0;32m---> 15\u001b[0;31m \u001b[0mmoviestitles_ratings\u001b[0m \u001b[0;34m=\u001b[0m \u001b[0mpd\u001b[0m\u001b[0;34m.\u001b[0m\u001b[0mmerge\u001b[0m\u001b[0;34m(\u001b[0m\u001b[0mmovies\u001b[0m\u001b[0;34m,\u001b[0m \u001b[0mratings\u001b[0m\u001b[0;34m)\u001b[0m\u001b[0;34m\u001b[0m\u001b[0;34m\u001b[0m\u001b[0m\n\u001b[0m\u001b[1;32m     16\u001b[0m \u001b[0mmovies_max_rating\u001b[0m \u001b[0;34m=\u001b[0m \u001b[0mmoviestitles_ratings\u001b[0m\u001b[0;34m[\u001b[0m\u001b[0mrating\u001b[0m \u001b[0;34m==\u001b[0m \u001b[0maverage_max\u001b[0m\u001b[0;34m]\u001b[0m\u001b[0;34m\u001b[0m\u001b[0;34m\u001b[0m\u001b[0m\n",
      "\u001b[0;31mNameError\u001b[0m: name 'movies' is not defined"
     ]
    }
   ],
   "source": [
    "## split data\n",
    "# your code here\n",
    "grouped_data2 = ratings['rating'].groupby(ratings['movie_id'])\n",
    "\n",
    "## average and combine\n",
    "# your code here\n",
    "average_per_movie = grouped_data2.mean()\n",
    "\n",
    "# get the maximum rating\n",
    "# your code here\n",
    "average_max = average_per_movie.max()\n",
    "\n",
    "# get movie ids with that rating\n",
    "# your code here\n",
    "moviestitles_ratings = pd.merge(movies, ratings)\n",
    "movies_max_rating = moviestitles_ratings[rating == average_max]"
   ]
  },
  {
   "cell_type": "code",
   "execution_count": 55,
   "metadata": {
    "slideshow": {
     "slide_type": "slide"
    }
   },
   "outputs": [
    {
     "name": "stdout",
     "output_type": "stream",
     "text": [
      "Good movie ids:\n",
      "movie_id\n",
      "1    3.878319\n",
      "2    3.206107\n",
      "3    3.033333\n",
      "4    3.550239\n",
      "5    3.302326\n",
      "Name: rating, dtype: float64\n",
      "Best movie titles\n"
     ]
    },
    {
     "data": {
      "text/plain": [
       "<function print>"
      ]
     },
     "execution_count": 55,
     "metadata": {},
     "output_type": "execute_result"
    }
   ],
   "source": [
    "print(\"Good movie ids:\")\n",
    "print #your code here\n",
    "print(average_per_movie.head())\n",
    "\n",
    "print(\"Best movie titles\")\n",
    "print # your code here\n",
    "print"
   ]
  },
  {
   "cell_type": "code",
   "execution_count": null,
   "metadata": {
    "slideshow": {
     "slide_type": "slide"
    }
   },
   "outputs": [],
   "source": [
    "# get number of ratings per movie\n",
    "# your code here\n",
    "\n",
    "print \"Number of ratings per movie\"\n",
    "print # your code here"
   ]
  },
  {
   "cell_type": "markdown",
   "metadata": {
    "slideshow": {
     "slide_type": "slide"
    }
   },
   "source": [
    "Passing a Function\n",
    "==================\n"
   ]
  },
  {
   "cell_type": "code",
   "execution_count": null,
   "metadata": {},
   "outputs": [],
   "source": [
    "average_ratings = grouped_data.apply(lambda f: f.mean())\n",
    "average_ratings.head()"
   ]
  },
  {
   "cell_type": "markdown",
   "metadata": {
    "slideshow": {
     "slide_type": "slide"
    }
   },
   "source": [
    "Quiz\n",
    "====\n",
    "\n",
    "* get the average rating per user\n",
    "* advanced: list all occupations and if they are male or female dominant"
   ]
  },
  {
   "cell_type": "code",
   "execution_count": null,
   "metadata": {
    "slideshow": {
     "slide_type": "slide"
    }
   },
   "outputs": [],
   "source": [
    "# get the average rating per user\n",
    "# your code here"
   ]
  },
  {
   "cell_type": "code",
   "execution_count": null,
   "metadata": {
    "slideshow": {
     "slide_type": "slide"
    }
   },
   "outputs": [],
   "source": [
    "# list all occupations and if they are male or female dominant\n",
    "# your code here"
   ]
  },
  {
   "cell_type": "code",
   "execution_count": null,
   "metadata": {
    "slideshow": {
     "slide_type": "slide"
    }
   },
   "outputs": [],
   "source": [
    "print 'number of male users: '\n",
    "print sum(users['sex'] == 'M')\n",
    "\n",
    "print 'number of female users: '\n",
    "print sum(users['sex'] == 'F')"
   ]
  },
  {
   "cell_type": "markdown",
   "metadata": {
    "slideshow": {
     "slide_type": "slide"
    }
   },
   "source": [
    "Pandas \"wrapup\"\n",
    "==========\n",
    "\n",
    "- create data frames\n",
    "- get sub-frames\n",
    "- filter data \n",
    "- use group-by\n",
    "- apply a user defined function\n",
    "\n",
    "\n",
    "![cute panda](images/cute_panda.jpg)"
   ]
  },
  {
   "cell_type": "markdown",
   "metadata": {
    "slideshow": {
     "slide_type": "slide"
    }
   },
   "source": [
    "Python data scraping\n",
    "====================\n",
    "\n",
    "* Why scrape the web?\n",
    "    - vast source of information\n",
    "    - automate tasks\n",
    "    - keep up with sites\n",
    "    - fun!\n",
    "\n",
    "** Can you think of examples ? **"
   ]
  },
  {
   "cell_type": "markdown",
   "metadata": {
    "slideshow": {
     "slide_type": "slide"
    }
   },
   "source": [
    "Read and Tweet!\n",
    "=================\n",
    "\n",
    "![ReadTweet](http://developer.nytimes.com/files/readtweet.jpg)\n",
    "\n",
    "* by Justin Blinder\n",
    "* http://projects.justinblinder.com/We-Read-We-Tweet"
   ]
  },
  {
   "cell_type": "markdown",
   "metadata": {
    "slideshow": {
     "slide_type": "skip"
    }
   },
   "source": [
    "“We Read, We Tweet” geographically visualizes the dissemination of New York Times articles through Twitter. Each line connects the location of a tweet to the contextual location of the New York Times article it referenced. The lines are generated in a sequence based on the time in which a tweet occurs. The project explores digital news distribution in a temporal and spatial context through the social space of Twitter."
   ]
  },
  {
   "cell_type": "markdown",
   "metadata": {
    "slideshow": {
     "slide_type": "slide"
    }
   },
   "source": [
    "Twitter Sentiments\n",
    "=================\n",
    "\n",
    "![TwitterSentiments](http://www.csc.ncsu.edu/faculty/healey/tweet_viz/figs/tweet-viz-ex.png\n",
    " \"Twitter Sentiments\")\n",
    "\n",
    "* by Healey and Ramaswamy\n",
    "* http://www.csc.ncsu.edu/faculty/healey/tweet_viz/tweet_app/"
   ]
  },
  {
   "cell_type": "markdown",
   "metadata": {
    "slideshow": {
     "slide_type": "skip"
    }
   },
   "source": [
    "Type a keyword into the input field, then click the Query button. Recent tweets that contain your keyword are pulled from Twitter and visualized in the Sentiment tab as circles. Hover your mouse over a tweet or click on it to see its text."
   ]
  },
  {
   "cell_type": "markdown",
   "metadata": {
    "slideshow": {
     "slide_type": "slide"
    }
   },
   "source": [
    "Python data scraping\n",
    "====================\n",
    "\n",
    "* copyrights and permission:\n",
    "    - be careful and polite\n",
    "    - give credit\n",
    "    - care about media law\n",
    "    - don't be evil (no spam, overloading sites, etc.)"
   ]
  },
  {
   "cell_type": "markdown",
   "metadata": {
    "slideshow": {
     "slide_type": "slide"
    }
   },
   "source": [
    "Robots.txt\n",
    "==========\n",
    "\n",
    "![Robots.txt](images/robots_txt.jpg \"Robots.txt\")"
   ]
  },
  {
   "cell_type": "markdown",
   "metadata": {
    "slideshow": {
     "slide_type": "slide"
    }
   },
   "source": [
    "Robots.txt\n",
    "==========\n",
    "\n",
    "* specified by web site owner\n",
    "* gives instructions to web robots (aka your script)\n",
    "* is located at the top-level directory of the web server\n",
    "\n",
    "http://www.example.com/robots.txt\n",
    "\n",
    "If you want you can also have a look at\n",
    "\n",
    "http://google.com/robots.txt"
   ]
  },
  {
   "cell_type": "markdown",
   "metadata": {
    "slideshow": {
     "slide_type": "slide"
    }
   },
   "source": [
    "Robots.txt\n",
    "==========\n",
    "\n",
    "*** What does this one do? ***"
   ]
  },
  {
   "cell_type": "raw",
   "metadata": {},
   "source": [
    "\n",
    "User-agent: Google\n",
    "Disallow:\n",
    "\n",
    "User-agent: *\n",
    "Disallow: /"
   ]
  },
  {
   "cell_type": "markdown",
   "metadata": {
    "slideshow": {
     "slide_type": "slide"
    }
   },
   "source": [
    "Things to consider:\n",
    "-------------------\n",
    "\n",
    "* can be just ignored\n",
    "* can be a security risk - *** Why? ***"
   ]
  },
  {
   "cell_type": "markdown",
   "metadata": {
    "slideshow": {
     "slide_type": "slide"
    }
   },
   "source": [
    "Scraping with Python:\n",
    "=====================\n",
    "\n",
    "* scraping is all about HTML tags\n",
    "* bad news: \n",
    "    - need to learn about tags\n",
    "    - websites can be ugly"
   ]
  },
  {
   "cell_type": "markdown",
   "metadata": {
    "slideshow": {
     "slide_type": "slide"
    }
   },
   "source": [
    "HTML\n",
    "=====\n",
    "\n",
    "* HyperText Markup Language\n",
    "\n",
    "* standard for creating webpages\n",
    "\n",
    "* HTML tags \n",
    "    - have angle brackets\n",
    "    - typically come in pairs"
   ]
  },
  {
   "cell_type": "markdown",
   "metadata": {
    "slideshow": {
     "slide_type": "skip"
    }
   },
   "source": [
    "This is an example for a minimal webpage defined in HTML tags. The root tag is `<html>` and then you have the `<head>` tag. This part of the page typically includes the title of the page and might also have other meta information like the author or keywords that are important for search engines. The `<body>` tag marks the actual content of the page. You can play around with the `<h2>` tag trying different header levels. They range from 1 to 6. "
   ]
  },
  {
   "cell_type": "code",
   "execution_count": null,
   "metadata": {
    "slideshow": {
     "slide_type": "slide"
    }
   },
   "outputs": [],
   "source": [
    "htmlString = \"\"\"<!DOCTYPE html>\n",
    "<html>\n",
    "  <head>\n",
    "    <title>This is a title</title>\n",
    "  </head>\n",
    "  <body>\n",
    "    <h2> Test </h2>\n",
    "    <p>Hello world!</p>\n",
    "  </body>\n",
    "</html>\"\"\"\n",
    "\n",
    "htmlOutput = HTML(htmlString)\n",
    "htmlOutput"
   ]
  },
  {
   "cell_type": "markdown",
   "metadata": {
    "slideshow": {
     "slide_type": "slide"
    }
   },
   "source": [
    "Useful Tags\n",
    "===========\n",
    "\n",
    "* heading\n",
    "`<h1></h1> ... <h6></h6>`\n",
    "\n",
    "* paragraph\n",
    "`<p></p>` \n",
    "\n",
    "* line break\n",
    "`<br>` \n",
    "\n",
    "* link with attribute\n",
    "\n",
    "`<a href=\"http://www.example.com/\">An example link</a>`\n"
   ]
  },
  {
   "cell_type": "markdown",
   "metadata": {
    "slideshow": {
     "slide_type": "slide"
    }
   },
   "source": [
    "Scraping with Python:\n",
    "=====================\n",
    "\n",
    "* example of a beautifully simple webpage:\n",
    "\n",
    "http://www.crummy.com/software/BeautifulSoup"
   ]
  },
  {
   "cell_type": "markdown",
   "metadata": {
    "slideshow": {
     "slide_type": "slide"
    }
   },
   "source": [
    "Scraping with Python:\n",
    "=====================\n",
    "\n",
    "* good news: \n",
    "    - some browsers help\n",
    "    - look for: inspect element\n",
    "    - need only basic html\n",
    "    \n",
    "** Try 'Ctrl-Shift I' in Chrome **\n",
    "\n",
    "** Try 'Command-Option I' in Safari **\n"
   ]
  },
  {
   "cell_type": "markdown",
   "metadata": {
    "slideshow": {
     "slide_type": "slide"
    }
   },
   "source": [
    "Scraping with Python\n",
    "==================\n",
    "\n",
    "* different useful libraries:\n",
    "    - urllib\n",
    "    - beautifulsoup\n",
    "    - pattern\n",
    "    - soupy\n",
    "    - LXML\n",
    "    - ...\n",
    "    "
   ]
  },
  {
   "cell_type": "markdown",
   "metadata": {
    "slideshow": {
     "slide_type": "skip"
    }
   },
   "source": [
    "The following cell just defines a url as a string and then reads the data from that url using the `urllib` library. If you uncomment the print command you see that we got the whole HTML content of the page into the string variable source."
   ]
  },
  {
   "cell_type": "code",
   "execution_count": 79,
   "metadata": {
    "slideshow": {
     "slide_type": "slide"
    }
   },
   "outputs": [
    {
     "name": "stdout",
     "output_type": "stream",
     "text": [
      "<!doctype html>\n",
      "<!--[if lt IE 7]>   <html class=\"no-js ie6 lt-ie7 lt-ie8 lt-ie9\">   <![endif]-->\n",
      "<!--[if IE 7]>      <html class=\"no-js ie7 lt-ie8 lt-ie9\">          <![endif]-->\n",
      "<!--[if IE 8]>      <html class=\"no-js ie8 lt-ie9\">                 <![endif]-->\n",
      "<!--[if gt IE 8]><!--><html class=\"no-js\" lang=\"en\" dir=\"ltr\">  <!--<![endif]-->\n",
      "\n",
      "<head>\n",
      "    <meta charset=\"utf-8\">\n",
      "    <meta http-equiv=\"X-UA-Compatible\" content=\"IE=edge\">\n",
      "\n",
      "    <link rel=\"prefetch\" href=\"//ajax.googleapis.com/ajax/libs/jquery/1.8.2/jquery.min.js\">\n",
      "\n",
      "    <meta name=\"application-name\" content=\"Python.org\">\n",
      "    <meta name=\"msapplication-tooltip\" content=\"The official home of the Python Programming Language\">\n",
      "    <meta name=\"apple-mobile-web-app-title\" content=\"Python.org\">\n",
      "    <meta name=\"apple-mobile-web-app-capable\" content=\"yes\">\n",
      "    <meta name=\"apple-mobile-web-app-status-bar-style\" content=\"black\">\n",
      "\n",
      "    <meta name=\"viewport\" content=\"width=device-width, initial-scale=1.0\">\n",
      "    <meta name=\"HandheldFriendly\" content=\"True\">\n",
      "    <meta name=\"format-detection\" content=\"telephone=no\">\n",
      "    <meta http-equiv=\"cleartype\" content=\"on\">\n",
      "    <meta http-equiv=\"imagetoolbar\" content=\"false\">\n",
      "\n",
      "    <script src=\"/static/js/libs/modernizr.js\"></script>\n",
      "\n",
      "    <link href=\"/static/stylesheets/style.67f4b30f7483.css\" rel=\"stylesheet\" type=\"text/css\" title=\"default\" />\n",
      "    <link href=\"/static/stylesheets/mq.3ae8e02ece5b.css\" rel=\"stylesheet\" type=\"text/css\" media=\"not print, braille, embossed, speech, tty\" />\n",
      "    \n",
      "\n",
      "    <!--[if (lte IE 8)&(!IEMobile)]>\n",
      "    <link href=\"/static/stylesheets/no-mq.fcf414dc68a3.css\" rel=\"stylesheet\" type=\"text/css\" media=\"screen\" />\n",
      "    \n",
      "    \n",
      "    <![endif]-->\n",
      "\n",
      "    \n",
      "    <link rel=\"icon\" type=\"image/x-icon\" href=\"/static/favicon.ico\">\n",
      "    <link rel=\"apple-touch-icon-precomposed\" sizes=\"144x144\" href=\"/static/apple-touch-icon-144x144-precomposed.png\">\n",
      "    <link rel=\"apple-touch-icon-precomposed\" sizes=\"114x114\" href=\"/static/apple-touch-icon-114x114-precomposed.png\">\n",
      "    <link rel=\"apple-touch-icon-precomposed\" sizes=\"72x72\" href=\"/static/apple-touch-icon-72x72-precomposed.png\">\n",
      "    <link rel=\"apple-touch-icon-precomposed\" href=\"/static/apple-touch-icon-precomposed.png\">\n",
      "    <link rel=\"apple-touch-icon\" href=\"/static/apple-touch-icon-precomposed.png\">\n",
      "\n",
      "    \n",
      "    <meta name=\"msapplication-TileImage\" content=\"/static/metro-icon-144x144-precomposed.png\"><!-- white shape -->\n",
      "    <meta name=\"msapplication-TileColor\" content=\"#3673a5\"><!-- python blue -->\n",
      "    <meta name=\"msapplication-navbutton-color\" content=\"#3673a5\">\n",
      "\n",
      "    <title>Welcome to Python.org</title>\n",
      "\n",
      "    <meta name=\"description\" content=\"The official home of the Python Programming Language\">\n",
      "    <meta name=\"keywords\" content=\"Python programming language object oriented web free open source software license documentation download community\">\n",
      "\n",
      "    \n",
      "    <meta property=\"og:type\" content=\"website\">\n",
      "    <meta property=\"og:site_name\" content=\"Python.org\">\n",
      "    <meta property=\"og:title\" content=\"Welcome to Python.org\">\n",
      "    <meta property=\"og:description\" content=\"The official home of the Python Programming Language\">\n",
      "    \n",
      "    <meta property=\"og:image\" content=\"https://www.python.org/static/opengraph-icon-200x200.png\">\n",
      "    <meta property=\"og:image:secure_url\" content=\"https://www.python.org/static/opengraph-icon-200x200.png\">\n",
      "    \n",
      "    <meta property=\"og:url\" content=\"https://www.python.org/\">\n",
      "\n",
      "    <link rel=\"author\" href=\"/static/humans.txt\">\n",
      "\n",
      "    <link rel=\"alternate\" type=\"application/rss+xml\" title=\"Python Enhancement Proposals\"\n",
      "          href=\"https://www.python.org/dev/peps/peps.rss/\">\n",
      "    <link rel=\"alternate\" type=\"application/rss+xml\" title=\"Python Job Opportunities\"\n",
      "          href=\"https://www.python.org/jobs/feed/rss/\">\n",
      "    <link rel=\"alternate\" type=\"application/rss+xml\" title=\"Python Software Foundation News\"\n",
      "          href=\"https://feeds.feedburner.com/PythonSoftwareFoundationNews\">\n",
      "    <link rel=\"alternate\" type=\"application/rss+xml\" title=\"Python Insider\"\n",
      "          href=\"https://feeds.feedburner.com/PythonInsider\">\n",
      "\n",
      "    \n",
      "\n",
      "    \n",
      "    <script type=\"application/ld+json\">\n",
      "     {\n",
      "       \"@context\": \"https://schema.org\",\n",
      "       \"@type\": \"WebSite\",\n",
      "       \"url\": \"https://www.python.org/\",\n",
      "       \"potentialAction\": {\n",
      "         \"@type\": \"SearchAction\",\n",
      "         \"target\": \"https://www.python.org/search/?q={search_term_string}\",\n",
      "         \"query-input\": \"required name=search_term_string\"\n",
      "       }\n",
      "     }\n",
      "    </script>\n",
      "\n",
      "    \n",
      "    <script type=\"text/javascript\">\n",
      "    var _gaq = _gaq || [];\n",
      "    _gaq.push(['_setAccount', 'UA-39055973-1']);\n",
      "    _gaq.push(['_trackPageview']);\n",
      "\n",
      "    (function() {\n",
      "        var ga = document.createElement('script'); ga.type = 'text/javascript'; ga.async = true;\n",
      "        ga.src = ('https:' == document.location.protocol ? 'https://ssl' : 'http://www') + '.google-analytics.com/ga.js';\n",
      "        var s = document.getElementsByTagName('script')[0]; s.parentNode.insertBefore(ga, s);\n",
      "    })();\n",
      "    </script>\n",
      "    \n",
      "</head>\n",
      "\n",
      "<body class=\"python home\" id=\"homepage\">\n",
      "\n",
      "    <div id=\"touchnav-wrapper\">\n",
      "\n",
      "        <div id=\"nojs\" class=\"do-not-print\">\n",
      "            <p><strong>Notice:</strong> While Javascript is not essential for this website, your interaction with the content will be limited. Please turn Javascript on for the full experience. </p>\n",
      "        </div>\n",
      "\n",
      "        <!--[if lte IE 8]>\n",
      "        <div id=\"oldie-warning\" class=\"do-not-print\">\n",
      "            <p>\n",
      "                <strong>Notice:</strong> Your browser is <em>ancient</em>. Please\n",
      "                <a href=\"http://browsehappy.com/\">upgrade to a different browser</a> to experience a better web.\n",
      "            </p>\n",
      "        </div>\n",
      "        <![endif]-->\n",
      "\n",
      "        <!-- Sister Site Links -->\n",
      "        <div id=\"top\" class=\"top-bar do-not-print\">\n",
      "\n",
      "            <nav class=\"meta-navigation container\" role=\"navigation\">\n",
      "\n",
      "                \n",
      "                <div class=\"skip-link screen-reader-text\">\n",
      "                    <a href=\"#content\" title=\"Skip to content\">Skip to content</a>\n",
      "                </div>\n",
      "\n",
      "                \n",
      "                <a id=\"close-python-network\" class=\"jump-link\" href=\"#python-network\" aria-hidden=\"true\">\n",
      "                    <span aria-hidden=\"true\" class=\"icon-arrow-down\"><span>&#9660;</span></span> Close\n",
      "                </a>\n",
      "\n",
      "                \n",
      "\n",
      "<ul class=\"menu\" role=\"tree\">\n",
      "    \n",
      "    <li class=\"python-meta current_item selectedcurrent_branch selected\">\n",
      "        <a href=\"/\" title=\"The Python Programming Language\" class=\"current_item selectedcurrent_branch selected\">Python</a>\n",
      "    </li>\n",
      "    \n",
      "    <li class=\"psf-meta \">\n",
      "        <a href=\"/psf-landing/\" title=\"The Python Software Foundation\" >PSF</a>\n",
      "    </li>\n",
      "    \n",
      "    <li class=\"docs-meta \">\n",
      "        <a href=\"https://docs.python.org\" title=\"Python Documentation\" >Docs</a>\n",
      "    </li>\n",
      "    \n",
      "    <li class=\"pypi-meta \">\n",
      "        <a href=\"https://pypi.python.org/\" title=\"Python Package Index\" >PyPI</a>\n",
      "    </li>\n",
      "    \n",
      "    <li class=\"jobs-meta \">\n",
      "        <a href=\"/jobs/\" title=\"Python Job Board\" >Jobs</a>\n",
      "    </li>\n",
      "    \n",
      "    <li class=\"shop-meta \">\n",
      "        <a href=\"/community/\" title=\"Python Community\" >Community</a>\n",
      "    </li>\n",
      "    \n",
      "</ul>\n",
      "\n",
      "\n",
      "                <a id=\"python-network\" class=\"jump-link\" href=\"#top\" aria-hidden=\"true\">\n",
      "                    <span aria-hidden=\"true\" class=\"icon-arrow-up\"><span>&#9650;</span></span> The Python Network\n",
      "                </a>\n",
      "\n",
      "            </nav>\n",
      "\n",
      "        </div>\n",
      "\n",
      "        <!-- Header elements -->\n",
      "        <header class=\"main-header\" role=\"banner\">\n",
      "            <div class=\"container\">\n",
      "\n",
      "                <h1 class=\"site-headline\">\n",
      "                    <a href=\"/\"><img class=\"python-logo\" src=\"/static/img/python-logo.png\" alt=\"python&trade;\"></a>\n",
      "                </h1>\n",
      "\n",
      "                <div class=\"options-bar-container do-not-print\">\n",
      "                    <a href=\"/psf/donations/\" class=\"donate-button\">Donate</a>\n",
      "                    <div class=\"options-bar\">\n",
      "                        \n",
      "                        <a id=\"site-map-link\" class=\"jump-to-menu\" href=\"#site-map\"><span class=\"menu-icon\">&equiv;</span> Menu</a><form class=\"search-the-site\" action=\"/search/\" method=\"get\">\n",
      "                            <fieldset title=\"Search Python.org\">\n",
      "\n",
      "                                <span aria-hidden=\"true\" class=\"icon-search\"></span>\n",
      "\n",
      "                                <label class=\"screen-reader-text\" for=\"id-search-field\">Search This Site</label>\n",
      "                                <input id=\"id-search-field\" name=\"q\" type=\"search\" role=\"textbox\" class=\"search-field\" placeholder=\"Search\" value=\"\" tabindex=\"1\">\n",
      "\n",
      "                                <button type=\"submit\" name=\"submit\" id=\"submit\" class=\"search-button\" title=\"Submit this Search\" tabindex=\"3\">\n",
      "                                    GO\n",
      "                                </button>\n",
      "\n",
      "                                \n",
      "                                <!--[if IE]><input type=\"text\" style=\"display: none;\" disabled=\"disabled\" size=\"1\" tabindex=\"4\"><![endif]-->\n",
      "\n",
      "                            </fieldset>\n",
      "                        </form><span class=\"breaker\"></span><div class=\"adjust-font-size\" aria-hidden=\"true\">\n",
      "                            <ul class=\"navigation menu\" aria-label=\"Adjust Text Size on Page\">\n",
      "                                <li class=\"tier-1 last\" aria-haspopup=\"true\">\n",
      "                                    <a href=\"#\" class=\"action-trigger\"><strong><small>A</small> A</strong></a>\n",
      "                                    <ul class=\"subnav menu\">\n",
      "                                        <li class=\"tier-2 element-1\" role=\"treeitem\"><a class=\"text-shrink\" title=\"Make Text Smaller\" href=\"javascript:;\">Smaller</a></li>\n",
      "                                        <li class=\"tier-2 element-2\" role=\"treeitem\"><a class=\"text-grow\" title=\"Make Text Larger\" href=\"javascript:;\">Larger</a></li>\n",
      "                                        <li class=\"tier-2 element-3\" role=\"treeitem\"><a class=\"text-reset\" title=\"Reset any font size changes I have made\" href=\"javascript:;\">Reset</a></li>\n",
      "                                    </ul>\n",
      "                                </li>\n",
      "                            </ul>\n",
      "                        </div><div class=\"winkwink-nudgenudge\">\n",
      "                            <ul class=\"navigation menu\" aria-label=\"Social Media Navigation\">\n",
      "                                <li class=\"tier-1 last\" aria-haspopup=\"true\">\n",
      "                                    <a href=\"#\" class=\"action-trigger\">Socialize</a>\n",
      "                                    <ul class=\"subnav menu\">\n",
      "                                        <li class=\"tier-2 element-1\" role=\"treeitem\"><a href=\"https://www.facebook.com/pythonlang?fref=ts\"><span aria-hidden=\"true\" class=\"icon-facebook\"></span>Facebook</a></li>\n",
      "                                        <li class=\"tier-2 element-2\" role=\"treeitem\"><a href=\"https://twitter.com/ThePSF\"><span aria-hidden=\"true\" class=\"icon-twitter\"></span>Twitter</a></li>\n",
      "                                        <li class=\"tier-2 element-3\" role=\"treeitem\"><a href=\"/community/irc/\"><span aria-hidden=\"true\" class=\"icon-freenode\"></span>Chat on IRC</a></li>\n",
      "                                    </ul>\n",
      "                                </li>\n",
      "                            </ul>\n",
      "                        </div>\n",
      "                        <span data-html-include=\"/authenticated\"></span>\n",
      "                    </div><!-- end options-bar -->\n",
      "                </div>\n",
      "\n",
      "                <nav id=\"mainnav\" class=\"python-navigation main-navigation do-not-print\" role=\"navigation\">\n",
      "                    \n",
      "                        \n",
      "<ul class=\"navigation menu\" role=\"menubar\" aria-label=\"Main Navigation\">\n",
      "  \n",
      "    \n",
      "    \n",
      "    <li id=\"about\" class=\"tier-1 element-1  \" aria-haspopup=\"true\">\n",
      "        <a href=\"/about/\" title=\"\" class=\"\">About</a>\n",
      "        \n",
      "            \n",
      "\n",
      "<ul class=\"subnav menu\" role=\"menu\" aria-hidden=\"true\">\n",
      "    \n",
      "        <li class=\"tier-2 element-1\" role=\"treeitem\"><a href=\"/about/apps/\" title=\"\">Applications</a></li>\n",
      "    \n",
      "        <li class=\"tier-2 element-2\" role=\"treeitem\"><a href=\"/about/quotes/\" title=\"\">Quotes</a></li>\n",
      "    \n",
      "        <li class=\"tier-2 element-3\" role=\"treeitem\"><a href=\"/about/gettingstarted/\" title=\"\">Getting Started</a></li>\n",
      "    \n",
      "        <li class=\"tier-2 element-4\" role=\"treeitem\"><a href=\"/about/help/\" title=\"\">Help</a></li>\n",
      "    \n",
      "        <li class=\"tier-2 element-5\" role=\"treeitem\"><a href=\"http://brochure.getpython.info/\" title=\"\">Python Brochure</a></li>\n",
      "    \n",
      "</ul>\n",
      "\n",
      "        \n",
      "    </li>\n",
      "    \n",
      "    \n",
      "    \n",
      "    <li id=\"downloads\" class=\"tier-1 element-2  \" aria-haspopup=\"true\">\n",
      "        <a href=\"/downloads/\" title=\"\" class=\"\">Downloads</a>\n",
      "        \n",
      "            \n",
      "\n",
      "<ul class=\"subnav menu\" role=\"menu\" aria-hidden=\"true\">\n",
      "    \n",
      "        <li class=\"tier-2 element-1\" role=\"treeitem\"><a href=\"/downloads/\" title=\"\">All releases</a></li>\n",
      "    \n",
      "        <li class=\"tier-2 element-2\" role=\"treeitem\"><a href=\"/downloads/source/\" title=\"\">Source code</a></li>\n",
      "    \n",
      "        <li class=\"tier-2 element-3\" role=\"treeitem\"><a href=\"/downloads/windows/\" title=\"\">Windows</a></li>\n",
      "    \n",
      "        <li class=\"tier-2 element-4\" role=\"treeitem\"><a href=\"/downloads/mac-osx/\" title=\"\">Mac OS X</a></li>\n",
      "    \n",
      "        <li class=\"tier-2 element-5\" role=\"treeitem\"><a href=\"/download/other/\" title=\"\">Other Platforms</a></li>\n",
      "    \n",
      "        <li class=\"tier-2 element-6\" role=\"treeitem\"><a href=\"https://docs.python.org/3/license.html\" title=\"\">License</a></li>\n",
      "    \n",
      "        <li class=\"tier-2 element-7\" role=\"treeitem\"><a href=\"/download/alternatives\" title=\"\">Alternative Implementations</a></li>\n",
      "    \n",
      "</ul>\n",
      "\n",
      "        \n",
      "    </li>\n",
      "    \n",
      "    \n",
      "    \n",
      "    <li id=\"documentation\" class=\"tier-1 element-3  \" aria-haspopup=\"true\">\n",
      "        <a href=\"/doc/\" title=\"\" class=\"\">Documentation</a>\n",
      "        \n",
      "            \n",
      "\n",
      "<ul class=\"subnav menu\" role=\"menu\" aria-hidden=\"true\">\n",
      "    \n",
      "        <li class=\"tier-2 element-1\" role=\"treeitem\"><a href=\"/doc/\" title=\"\">Docs</a></li>\n",
      "    \n",
      "        <li class=\"tier-2 element-2\" role=\"treeitem\"><a href=\"/doc/av\" title=\"\">Audio/Visual Talks</a></li>\n",
      "    \n",
      "        <li class=\"tier-2 element-3\" role=\"treeitem\"><a href=\"https://wiki.python.org/moin/BeginnersGuide\" title=\"\">Beginner&#39;s Guide</a></li>\n",
      "    \n",
      "        <li class=\"tier-2 element-4\" role=\"treeitem\"><a href=\"https://devguide.python.org/\" title=\"\">Developer&#39;s Guide</a></li>\n",
      "    \n",
      "        <li class=\"tier-2 element-5\" role=\"treeitem\"><a href=\"https://docs.python.org/faq/\" title=\"\">FAQ</a></li>\n",
      "    \n",
      "        <li class=\"tier-2 element-6\" role=\"treeitem\"><a href=\"http://wiki.python.org/moin/Languages\" title=\"\">Non-English Docs</a></li>\n",
      "    \n",
      "        <li class=\"tier-2 element-7\" role=\"treeitem\"><a href=\"http://python.org/dev/peps/\" title=\"\">PEP Index</a></li>\n",
      "    \n",
      "        <li class=\"tier-2 element-8\" role=\"treeitem\"><a href=\"https://wiki.python.org/moin/PythonBooks\" title=\"\">Python Books</a></li>\n",
      "    \n",
      "        <li class=\"tier-2 element-9\" role=\"treeitem\"><a href=\"/doc/essays/\" title=\"\">Python Essays</a></li>\n",
      "    \n",
      "</ul>\n",
      "\n",
      "        \n",
      "    </li>\n",
      "    \n",
      "    \n",
      "    \n",
      "    <li id=\"community\" class=\"tier-1 element-4  \" aria-haspopup=\"true\">\n",
      "        <a href=\"/community/\" title=\"\" class=\"\">Community</a>\n",
      "        \n",
      "            \n",
      "\n",
      "<ul class=\"subnav menu\" role=\"menu\" aria-hidden=\"true\">\n",
      "    \n",
      "        <li class=\"tier-2 element-1\" role=\"treeitem\"><a href=\"/community/survey\" title=\"\">Community Survey</a></li>\n",
      "    \n",
      "        <li class=\"tier-2 element-2\" role=\"treeitem\"><a href=\"/community/diversity/\" title=\"\">Diversity</a></li>\n",
      "    \n",
      "        <li class=\"tier-2 element-3\" role=\"treeitem\"><a href=\"/community/lists/\" title=\"\">Mailing Lists</a></li>\n",
      "    \n",
      "        <li class=\"tier-2 element-4\" role=\"treeitem\"><a href=\"/community/irc/\" title=\"\">IRC</a></li>\n",
      "    \n",
      "        <li class=\"tier-2 element-5\" role=\"treeitem\"><a href=\"/community/forums/\" title=\"\">Forums</a></li>\n",
      "    \n",
      "        <li class=\"tier-2 element-6\" role=\"treeitem\"><a href=\"/psf/annual-report/2019/\" title=\"\">PSF Annual Impact Report</a></li>\n",
      "    \n",
      "        <li class=\"tier-2 element-7\" role=\"treeitem\"><a href=\"/community/workshops/\" title=\"\">Python Conferences</a></li>\n",
      "    \n",
      "        <li class=\"tier-2 element-8\" role=\"treeitem\"><a href=\"/community/sigs/\" title=\"\">Special Interest Groups</a></li>\n",
      "    \n",
      "        <li class=\"tier-2 element-9\" role=\"treeitem\"><a href=\"/community/logos/\" title=\"\">Python Logo</a></li>\n",
      "    \n",
      "        <li class=\"tier-2 element-10\" role=\"treeitem\"><a href=\"https://wiki.python.org/moin/\" title=\"\">Python Wiki</a></li>\n",
      "    \n",
      "        <li class=\"tier-2 element-11\" role=\"treeitem\"><a href=\"/community/merchandise/\" title=\"\">Merchandise</a></li>\n",
      "    \n",
      "        <li class=\"tier-2 element-12\" role=\"treeitem\"><a href=\"/community/awards\" title=\"\">Community Awards</a></li>\n",
      "    \n",
      "        <li class=\"tier-2 element-13\" role=\"treeitem\"><a href=\"/psf/conduct/\" title=\"\">Code of Conduct</a></li>\n",
      "    \n",
      "</ul>\n",
      "\n",
      "        \n",
      "    </li>\n",
      "    \n",
      "    \n",
      "    \n",
      "    <li id=\"success-stories\" class=\"tier-1 element-5  \" aria-haspopup=\"true\">\n",
      "        <a href=\"/success-stories/\" title=\"success-stories\" class=\"\">Success Stories</a>\n",
      "        \n",
      "            \n",
      "\n",
      "<ul class=\"subnav menu\" role=\"menu\" aria-hidden=\"true\">\n",
      "    \n",
      "        <li class=\"tier-2 element-1\" role=\"treeitem\"><a href=\"/success-stories/category/arts/\" title=\"\">Arts</a></li>\n",
      "    \n",
      "        <li class=\"tier-2 element-2\" role=\"treeitem\"><a href=\"/success-stories/category/business/\" title=\"\">Business</a></li>\n",
      "    \n",
      "        <li class=\"tier-2 element-3\" role=\"treeitem\"><a href=\"/success-stories/category/education/\" title=\"\">Education</a></li>\n",
      "    \n",
      "        <li class=\"tier-2 element-4\" role=\"treeitem\"><a href=\"/success-stories/category/engineering/\" title=\"\">Engineering</a></li>\n",
      "    \n",
      "        <li class=\"tier-2 element-5\" role=\"treeitem\"><a href=\"/success-stories/category/government/\" title=\"\">Government</a></li>\n",
      "    \n",
      "        <li class=\"tier-2 element-6\" role=\"treeitem\"><a href=\"/success-stories/category/scientific/\" title=\"\">Scientific</a></li>\n",
      "    \n",
      "        <li class=\"tier-2 element-7\" role=\"treeitem\"><a href=\"/success-stories/category/software-development/\" title=\"\">Software Development</a></li>\n",
      "    \n",
      "</ul>\n",
      "\n",
      "        \n",
      "    </li>\n",
      "    \n",
      "    \n",
      "    \n",
      "    <li id=\"news\" class=\"tier-1 element-6  \" aria-haspopup=\"true\">\n",
      "        <a href=\"/blogs/\" title=\"News from around the Python world\" class=\"\">News</a>\n",
      "        \n",
      "            \n",
      "\n",
      "<ul class=\"subnav menu\" role=\"menu\" aria-hidden=\"true\">\n",
      "    \n",
      "        <li class=\"tier-2 element-1\" role=\"treeitem\"><a href=\"/blogs/\" title=\"Python Insider Blog Posts\">Python News</a></li>\n",
      "    \n",
      "        <li class=\"tier-2 element-2\" role=\"treeitem\"><a href=\"/psf/newsletter/\" title=\"Python Software Foundation Newsletter\">PSF Newsletter</a></li>\n",
      "    \n",
      "        <li class=\"tier-2 element-3\" role=\"treeitem\"><a href=\"http://planetpython.org/\" title=\"Planet Python\">Community News</a></li>\n",
      "    \n",
      "        <li class=\"tier-2 element-4\" role=\"treeitem\"><a href=\"http://pyfound.blogspot.com/\" title=\"PSF Blog\">PSF News</a></li>\n",
      "    \n",
      "        <li class=\"tier-2 element-5\" role=\"treeitem\"><a href=\"http://pycon.blogspot.com/\" title=\"PyCon Blog\">PyCon News</a></li>\n",
      "    \n",
      "</ul>\n",
      "\n",
      "        \n",
      "    </li>\n",
      "    \n",
      "    \n",
      "    \n",
      "    <li id=\"events\" class=\"tier-1 element-7  \" aria-haspopup=\"true\">\n",
      "        <a href=\"/events/\" title=\"\" class=\"\">Events</a>\n",
      "        \n",
      "            \n",
      "\n",
      "<ul class=\"subnav menu\" role=\"menu\" aria-hidden=\"true\">\n",
      "    \n",
      "        <li class=\"tier-2 element-1\" role=\"treeitem\"><a href=\"/events/python-events\" title=\"\">Python Events</a></li>\n",
      "    \n",
      "        <li class=\"tier-2 element-2\" role=\"treeitem\"><a href=\"/events/python-user-group/\" title=\"\">User Group Events</a></li>\n",
      "    \n",
      "        <li class=\"tier-2 element-3\" role=\"treeitem\"><a href=\"/events/python-events/past/\" title=\"\">Python Events Archive</a></li>\n",
      "    \n",
      "        <li class=\"tier-2 element-4\" role=\"treeitem\"><a href=\"/events/python-user-group/past/\" title=\"\">User Group Events Archive</a></li>\n",
      "    \n",
      "        <li class=\"tier-2 element-5\" role=\"treeitem\"><a href=\"https://wiki.python.org/moin/PythonEventsCalendar#Submitting_an_Event\" title=\"\">Submit an Event</a></li>\n",
      "    \n",
      "</ul>\n",
      "\n",
      "        \n",
      "    </li>\n",
      "    \n",
      "    \n",
      "    \n",
      "    \n",
      "  \n",
      "</ul>\n",
      "\n",
      "                    \n",
      "                </nav>\n",
      "\n",
      "                <div class=\"header-banner \"> <!-- for optional \"do-not-print\" class -->\n",
      "                    \n",
      "        <div id=\"dive-into-python\" class=\"flex-slideshow slideshow\">\n",
      "\n",
      "            <ul class=\"launch-shell menu\" id=\"launch-shell\">\n",
      "                <li>\n",
      "                    <a class=\"button prompt\" id=\"start-shell\" data-shell-container=\"#dive-into-python\" href=\"/shell/\">&gt;_\n",
      "                        <span class=\"message\">Launch Interactive Shell</span>\n",
      "                    </a>\n",
      "                </li>\n",
      "            </ul>\n",
      "\n",
      "            <ul class=\"slides menu\">\n",
      "                \n",
      "                <li>\n",
      "                    <div class=\"slide-code\"><pre><code><span class=\"comment\"># Python 3: Fibonacci series up to n</span>\r\n",
      ">>> def fib(n):\r\n",
      ">>>     a, b = 0, 1\r\n",
      ">>>     while a &lt; n:\r\n",
      ">>>         print(a, end=' ')\r\n",
      ">>>         a, b = b, a+b\r\n",
      ">>>     print()\r\n",
      ">>> fib(1000)\r\n",
      "<span class=\"output\">0 1 1 2 3 5 8 13 21 34 55 89 144 233 377 610 987</span></code></pre></div>\n",
      "                    <div class=\"slide-copy\"><h1>Functions Defined</h1>\r\n",
      "<p>The core of extensible programming is defining functions. Python allows mandatory and optional arguments, keyword arguments, and even arbitrary argument lists. <a href=\"//docs.python.org/3/tutorial/controlflow.html#defining-functions\">More about defining functions in Python&nbsp;3</a></p></div>\n",
      "                </li>\n",
      "                \n",
      "                <li>\n",
      "                    <div class=\"slide-code\"><pre><code><span class=\"comment\"># Python 3: List comprehensions</span>\r\n",
      ">>> fruits = ['Banana', 'Apple', 'Lime']\r\n",
      ">>> loud_fruits = [fruit.upper() for fruit in fruits]\r\n",
      ">>> print(loud_fruits)\r\n",
      "<span class=\"output\">['BANANA', 'APPLE', 'LIME']</span>\r\n",
      "\r\n",
      "<span class=\"comment\"># List and the enumerate function</span>\r\n",
      ">>> list(enumerate(fruits))\r\n",
      "<span class=\"output\">[(0, 'Banana'), (1, 'Apple'), (2, 'Lime')]</span></code></pre></div>\n",
      "                    <div class=\"slide-copy\"><h1>Compound Data Types</h1>\r\n",
      "<p>Lists (known as arrays in other languages) are one of the compound data types that Python understands. Lists can be indexed, sliced and manipulated with other built-in functions. <a href=\"//docs.python.org/3/tutorial/introduction.html#lists\">More about lists in Python&nbsp;3</a></p></div>\n",
      "                </li>\n",
      "                \n",
      "                <li>\n",
      "                    <div class=\"slide-code\"><pre><code><span class=\"comment\"># Python 3: Simple arithmetic</span>\r\n",
      ">>> 1 / 2\r\n",
      "<span class=\"output\">0.5</span>\r\n",
      ">>> 2 ** 3\r\n",
      "<span class=\"output\">8</span>\r\n",
      ">>> 17 / 3  <span class=\"comment\"># classic division returns a float</span>\r\n",
      "<span class=\"output\">5.666666666666667</span>\r\n",
      ">>> 17 // 3  <span class=\"comment\"># floor division</span>\r\n",
      "<span class=\"output\">5</span></code></pre></div>\n",
      "                    <div class=\"slide-copy\"><h1>Intuitive Interpretation</h1>\r\n",
      "<p>Calculations are simple with Python, and expression syntax is straightforward: the operators <code>+</code>, <code>-</code>, <code>*</code> and <code>/</code> work as expected; parentheses <code>()</code> can be used for grouping. <a href=\"http://docs.python.org/3/tutorial/introduction.html#using-python-as-a-calculator\">More about simple math functions in Python&nbsp;3</a>.</p></div>\n",
      "                </li>\n",
      "                \n",
      "                <li>\n",
      "                    <div class=\"slide-code\"><pre><code><span class=\"comment\"># Python 3: Simple output (with Unicode)</span>\r\n",
      ">>> print(\"Hello, I'm Python!\")\r\n",
      "<span class=\"output\">Hello, I'm Python!</span>\r\n",
      "\r\n",
      "<span class=\"comment\"># Input, assignment</span>\r\n",
      ">>> name = input('What is your name?\\n')\r\n",
      ">>> print('Hi, %s.' % name)\r\n",
      "<span class=\"output\">What is your name?\r\n",
      "Python\r\n",
      "Hi, Python.</span></code></pre></div>\n",
      "                    <div class=\"slide-copy\"><h1>Quick &amp; Easy to Learn</h1>\r\n",
      "<p>Experienced programmers in any other language can pick up Python very quickly, and beginners find the clean syntax and indentation structure easy to learn. <a href=\"//docs.python.org/3/tutorial/\">Whet your appetite</a> with our Python&nbsp;3 overview.</p>\r\n",
      "                   </div>\n",
      "                </li>\n",
      "                \n",
      "                <li>\n",
      "                    <div class=\"slide-code\"><pre><code><span class=\"comment\"># For loop on a list</span>\r\n",
      ">>> numbers = [2, 4, 6, 8]\r\n",
      ">>> product = 1\r\n",
      ">>> for number in numbers:\r\n",
      "...    product = product * number\r\n",
      "... \r\n",
      ">>> print('The product is:', product)\r\n",
      "<span class=\"output\">The product is: 384</span></code></pre></div>\n",
      "                    <div class=\"slide-copy\"><h1>All the Flow You&rsquo;d Expect</h1>\r\n",
      "<p>Python knows the usual control flow statements that other languages speak &mdash; <code>if</code>, <code>for</code>, <code>while</code> and <code>range</code> &mdash; with some of its own twists, of course. <a href=\"//docs.python.org/3/tutorial/controlflow.html\">More control flow tools in Python&nbsp;3</a></p></div>\n",
      "                </li>\n",
      "                \n",
      "            </ul>\n",
      "        </div>\n",
      "\n",
      "\n",
      "                </div>\n",
      "\n",
      "                \n",
      "        <div class=\"introduction\">\n",
      "            <p>Python is a programming language that lets you work quickly <span class=\"breaker\"></span>and integrate systems more effectively. <a class=\"readmore\" href=\"/doc/\">Learn More</a></p>\n",
      "        </div>\n",
      "\n",
      "\n",
      "             </div><!-- end .container -->\n",
      "        </header>\n",
      "\n",
      "        <div id=\"content\" class=\"content-wrapper\">\n",
      "            <!-- Main Content Column -->\n",
      "            <div class=\"container\">\n",
      "\n",
      "                <section class=\"main-content \" role=\"main\">\n",
      "\n",
      "                    \n",
      "                    \n",
      "\n",
      "                    \n",
      "\n",
      "                    \n",
      "\n",
      "                \n",
      "\n",
      "                <div class=\"row\">\n",
      "\n",
      "                    <div class=\"small-widget get-started-widget\">\n",
      "                        <h2 class=\"widget-title\"><span aria-hidden=\"true\" class=\"icon-get-started\"></span>Get Started</h2>\r\n",
      "<p>Whether you're new to programming or an experienced developer, it's easy to learn and use Python.</p>\r\n",
      "<p><a href=\"/about/gettingstarted/\">Start with our Beginner&rsquo;s Guide</a></p>\n",
      "                    </div>\n",
      "\n",
      "                    <div class=\"small-widget download-widget\">\n",
      "                        <h2 class=\"widget-title\"><span aria-hidden=\"true\" class=\"icon-download\"></span>Download</h2>\n",
      "<p>Python source code and installers are available for download for all versions!</p>\n",
      "<p>Latest: <a href=\"/downloads/release/python-381/\">Python 3.8.1</a></p>\n",
      "                    </div>\n",
      "\n",
      "                    <div class=\"small-widget documentation-widget\">\n",
      "                        <h2 class=\"widget-title\"><span aria-hidden=\"true\" class=\"icon-documentation\"></span>Docs</h2>\r\n",
      "<p>Documentation for Python's standard library, along with tutorials and guides, are available online.</p>\r\n",
      "<p><a href=\"https://docs.python.org\">docs.python.org</a></p>\n",
      "                    </div>\n",
      "\n",
      "                    <div class=\"small-widget jobs-widget last\">\n",
      "                        <h2 class=\"widget-title\"><span aria-hidden=\"true\" class=\"icon-jobs\"></span>Jobs</h2>\r\n",
      "<p>Looking for work or have a Python related position that you're trying to hire for? Our <strong>relaunched community-run job board</strong> is the place to go.</p>\r\n",
      "<p><a href=\"//jobs.python.org\">jobs.python.org</a></p>\n",
      "                    </div>\n",
      "\n",
      "                </div>\n",
      "\n",
      "                <div class=\"list-widgets row\">\n",
      "\n",
      "                    <div class=\"medium-widget blog-widget\">\n",
      "                        \n",
      "                        <div class=\"shrubbery\">\n",
      "                        \n",
      "                            <h2 class=\"widget-title\"><span aria-hidden=\"true\" class=\"icon-news\"></span>Latest News</h2>\n",
      "                            <p class=\"give-me-more\"><a href=\"https://blog.python.org\" title=\"More News\">More</a></p>\n",
      "                            \n",
      "                            <ul class=\"menu\">\n",
      "                                \n",
      "                                \n",
      "                                <li>\n",
      "<time datetime=\"2020-01-07T16:00:00.000001+00:00\"><span class=\"say-no-more\">2020-</span>01-07</time>\n",
      " <a href=\"http://feedproxy.google.com/~r/PythonSoftwareFoundationNews/~3/J-QMrALXO0g/python-software-foundation-fellow.html\">Python Software Foundation Fellow Members for Q4 2019</a></li>\n",
      "                                \n",
      "                                <li>\n",
      "<time datetime=\"2019-12-20T14:37:00.000004+00:00\"><span class=\"say-no-more\">2019-</span>12-20</time>\n",
      " <a href=\"http://feedproxy.google.com/~r/PythonSoftwareFoundationNews/~3/jVt_4dZJWag/python-2-sunset.html\">Python 2 series to be retired by April 2020</a></li>\n",
      "                                \n",
      "                                <li>\n",
      "<time datetime=\"2019-12-19T16:57:00.000003+00:00\"><span class=\"say-no-more\">2019-</span>12-19</time>\n",
      " <a href=\"http://feedproxy.google.com/~r/PythonInsider/~3/F67HAXZew8A/python-381-376-3610-and-390a2-are-now.html\">Python 3.8.1, 3.7.6, 3.6.10, and 3.9.0a2 are now available!</a></li>\n",
      "                                \n",
      "                                <li>\n",
      "<time datetime=\"2019-12-11T23:30:00.000002+00:00\"><span class=\"say-no-more\">2019-</span>12-11</time>\n",
      " <a href=\"http://feedproxy.google.com/~r/PythonInsider/~3/u-RWoxRRaOQ/python-376rc1-and-3610rc1-are-now.html\">Python 3.7.6rc1 and 3.6.10rc1 are now available for testing</a></li>\n",
      "                                \n",
      "                                <li>\n",
      "<time datetime=\"2019-12-10T09:26:00.000001+00:00\"><span class=\"say-no-more\">2019-</span>12-10</time>\n",
      " <a href=\"http://feedproxy.google.com/~r/PythonInsider/~3/of_F9IzoM6Y/python-381rc1-is-now-available-for.html\">Python 3.8.1rc1 is now available for testing</a></li>\n",
      "                                \n",
      "                            </ul>\n",
      "                        </div><!-- end .shrubbery -->\n",
      "\n",
      "                    </div>\n",
      "\n",
      "                    <div class=\"medium-widget event-widget last\">\n",
      "                        \n",
      "                        <div class=\"shrubbery\">\n",
      "                        \n",
      "                            <h2 class=\"widget-title\"><span aria-hidden=\"true\" class=\"icon-calendar\"></span>Upcoming Events</h2>\n",
      "                            <p class=\"give-me-more\"><a href=\"/events/calendars/\" title=\"More Events\">More</a></p>\n",
      "                            \n",
      "                            <ul class=\"menu\">\n",
      "                                \n",
      "                                \n",
      "                                \n",
      "                                <li>\n",
      "<time datetime=\"2020-02-08T00:00:00+00:00\"><span class=\"say-no-more\">2020-</span>02-08</time>\n",
      " <a href=\"/events/python-events/861/\">PyCascades 2020</a></li>\n",
      "                                \n",
      "                                \n",
      "                                \n",
      "                                <li>\n",
      "<time datetime=\"2020-02-18T00:00:00+00:00\"><span class=\"say-no-more\">2020-</span>02-18</time>\n",
      " <a href=\"/events/python-events/880/\">PyCon Namibia 2020</a></li>\n",
      "                                \n",
      "                                \n",
      "                                \n",
      "                                <li>\n",
      "<time datetime=\"2020-03-27T00:00:00+00:00\"><span class=\"say-no-more\">2020-</span>03-27</time>\n",
      " <a href=\"/events/python-events/879/\">PyCon SK 2020</a></li>\n",
      "                                \n",
      "                                \n",
      "                                \n",
      "                                <li>\n",
      "<time datetime=\"2020-04-02T00:00:00+00:00\"><span class=\"say-no-more\">2020-</span>04-02</time>\n",
      " <a href=\"/events/python-events/884/\">PyCon Italia 2020</a></li>\n",
      "                                \n",
      "                                \n",
      "                                \n",
      "                                <li>\n",
      "<time datetime=\"2020-04-17T00:00:00+00:00\"><span class=\"say-no-more\">2020-</span>04-17</time>\n",
      " <a href=\"/events/python-events/881/\">Django Day Copenhagen</a></li>\n",
      "                                \n",
      "                                \n",
      "                            </ul>\n",
      "                        </div>\n",
      "\n",
      "                    </div>\n",
      "\n",
      "                </div>\n",
      "\n",
      "                <div class=\"row\">\n",
      "\n",
      "                    <div class=\"medium-widget success-stories-widget\">\n",
      "                        \n",
      "\n",
      "\n",
      "\n",
      "                        <div class=\"shrubbery\">\n",
      "                            \n",
      "\n",
      "                            <h2 class=\"widget-title\"><span aria-hidden=\"true\" class=\"icon-success-stories\"></span>Success Stories</h2>\n",
      "                            <p class=\"give-me-more\"><a href=\"/success-stories/\" title=\"More Success Stories\">More</a></p>\n",
      "\n",
      "                            \n",
      "                            <div class=\"success-story-item\" id=\"success-story-839\">\n",
      "\n",
      "                            <blockquote>\n",
      "                                <a href=\"/success-stories/building-an-open-source-and-cross-platform-azure-cli-with-python/\">Thanks to the flexibility of Python and the powerful ecosystem of packages, the Azure CLI supports features such as autocompletion (in shells that support it), persistent credentials, JMESPath result parsing, lazy initialization, network-less unit tests, and more.</a>\n",
      "                            </blockquote>\n",
      "\n",
      "                            <table cellpadding=\"0\" cellspacing=\"0\" border=\"0\" width=\"100%\" class=\"quote-from\">\n",
      "                                <tbody>\n",
      "                                    <tr>\n",
      "                                        \n",
      "                                        <td><p><a href=\"/success-stories/building-an-open-source-and-cross-platform-azure-cli-with-python/\">Building an open-source and cross-platform Azure CLI with Python</a> <em>by Dan Taylor</em></p></td>\n",
      "                                    </tr>\n",
      "                                </tbody>\n",
      "                            </table>\n",
      "                            </div>\n",
      "                            \n",
      "\n",
      "                        </div><!-- end .shrubbery -->\n",
      "\n",
      "                    </div>\n",
      "\n",
      "                    <div class=\"medium-widget applications-widget last\">\n",
      "                        <div class=\"shrubbery\">\n",
      "                            <h2 class=\"widget-title\"><span aria-hidden=\"true\" class=\"icon-python\"></span>Use Python for&hellip;</h2>\r\n",
      "<p class=\"give-me-more\"><a href=\"/about/apps\" title=\"More Applications\">More</a></p>\r\n",
      "\r\n",
      "<ul class=\"menu\">\r\n",
      "    <li><b>Web Development</b>:\r\n",
      "        <span class=\"tag-wrapper\"><a class=\"tag\" href=\"http://www.djangoproject.com/\">Django</a>, <a class=\"tag\" href=\"http://www.pylonsproject.org/\">Pyramid</a>, <a class=\"tag\" href=\"http://bottlepy.org\">Bottle</a>, <a class=\"tag\" href=\"http://tornadoweb.org\">Tornado</a>, <a href=\"http://flask.pocoo.org/\" class=\"tag\">Flask</a>, <a class=\"tag\" href=\"http://www.web2py.com/\">web2py</a></span></li>\r\n",
      "    <li><b>GUI Development</b>:\r\n",
      "        <span class=\"tag-wrapper\"><a class=\"tag\" href=\"http://wiki.python.org/moin/TkInter\">tkInter</a>, <a class=\"tag\" href=\"https://wiki.gnome.org/Projects/PyGObject\">PyGObject</a>, <a class=\"tag\" href=\"http://www.riverbankcomputing.co.uk/software/pyqt/intro\">PyQt</a>, <a class=\"tag\" href=\"https://wiki.qt.io/PySide\">PySide</a>, <a class=\"tag\" href=\"https://kivy.org/\">Kivy</a>, <a class=\"tag\" href=\"http://www.wxpython.org/\">wxPython</a></span></li>\r\n",
      "    <li><b>Scientific and Numeric</b>:\r\n",
      "        <span class=\"tag-wrapper\">\r\n",
      "<a class=\"tag\" href=\"http://www.scipy.org\">SciPy</a>, <a class=\"tag\" href=\"http://pandas.pydata.org/\">Pandas</a>, <a href=\"http://ipython.org\" class=\"tag\">IPython</a></span></li>\r\n",
      "    <li><b>Software Development</b>:\r\n",
      "        <span class=\"tag-wrapper\"><a class=\"tag\" href=\"http://buildbot.net/\">Buildbot</a>, <a class=\"tag\" href=\"http://trac.edgewall.org/\">Trac</a>, <a class=\"tag\" href=\"http://roundup.sourceforge.net/\">Roundup</a></span></li>\r\n",
      "    <li><b>System Administration</b>:\r\n",
      "        <span class=\"tag-wrapper\"><a class=\"tag\" href=\"http://www.ansible.com\">Ansible</a>, <a class=\"tag\" href=\"http://www.saltstack.com\">Salt</a>, <a class=\"tag\" href=\"https://www.openstack.org\">OpenStack</a></span></li>\r\n",
      "</ul>\r\n",
      "\n",
      "                        </div><!-- end .shrubbery -->\n",
      "                    </div>\n",
      "\n",
      "                </div>\n",
      "\n",
      "                \n",
      "                <div class=\"pep-widget\">\n",
      "\n",
      "                    <h2 class=\"widget-title\">\n",
      "                        <span class=\"prompt\">&gt;&gt;&gt;</span> <a href=\"/dev/peps/\">Python Enhancement Proposals<span class=\"say-no-more\"> (PEPs)</span></a>: The future of Python<span class=\"say-no-more\"> is discussed here.</span>\n",
      "                        <a aria-hidden=\"true\" class=\"rss-link\" href=\"/dev/peps/peps.rss\"><span class=\"icon-feed\"></span> RSS</a>\n",
      "                    </h2>\n",
      "\n",
      "\n",
      "                    \n",
      "                    \n",
      "                </div>\n",
      "\n",
      "                                <div class=\"psf-widget\">\n",
      "\n",
      "                    <div class=\"python-logo\"></div>\n",
      "                    \n",
      "                    <h2 class=\"widget-title\">\r\n",
      "    <span class=\"prompt\">&gt;&gt;&gt;</span> <a href=\"/psf/\">Python Software Foundation</a>\r\n",
      "</h2>\r\n",
      "<p>The mission of the Python Software Foundation is to promote, protect, and advance the Python programming language, and to support and facilitate the growth of a diverse and international community of Python programmers. <a class=\"readmore\" href=\"/psf/\">Learn more</a> </p>\r\n",
      "<p class=\"click-these\">\r\n",
      "    <a class=\"button\" href=\"/users/membership/\">Become a Member</a>\r\n",
      "    <a class=\"button\" href=\"/psf/donations/\">Donate to the PSF</a>\r\n",
      "</p>\n",
      "                </div>\n",
      "\n",
      "\n",
      "\n",
      "\n",
      "                </section>\n",
      "\n",
      "                \n",
      "                \n",
      "\n",
      "                \n",
      "                \n",
      "\n",
      "\n",
      "            </div><!-- end .container -->\n",
      "        </div><!-- end #content .content-wrapper -->\n",
      "\n",
      "        <!-- Footer and social media list -->\n",
      "        <footer id=\"site-map\" class=\"main-footer\" role=\"contentinfo\">\n",
      "            <div class=\"main-footer-links\">\n",
      "                <div class=\"container\">\n",
      "\n",
      "                    \n",
      "                    <a id=\"back-to-top-1\" class=\"jump-link\" href=\"#python-network\"><span aria-hidden=\"true\" class=\"icon-arrow-up\"><span>&#9650;</span></span> Back to Top</a>\n",
      "\n",
      "                    \n",
      "\n",
      "<ul class=\"sitemap navigation menu do-not-print\" role=\"tree\" id=\"container\">\n",
      "    \n",
      "    <li class=\"tier-1 element-1\">\n",
      "        <a href=\"/about/\" >About</a>\n",
      "        \n",
      "            \n",
      "\n",
      "<ul class=\"subnav menu\">\n",
      "    \n",
      "        <li class=\"tier-2 element-1\" role=\"treeitem\"><a href=\"/about/apps/\" title=\"\">Applications</a></li>\n",
      "    \n",
      "        <li class=\"tier-2 element-2\" role=\"treeitem\"><a href=\"/about/quotes/\" title=\"\">Quotes</a></li>\n",
      "    \n",
      "        <li class=\"tier-2 element-3\" role=\"treeitem\"><a href=\"/about/gettingstarted/\" title=\"\">Getting Started</a></li>\n",
      "    \n",
      "        <li class=\"tier-2 element-4\" role=\"treeitem\"><a href=\"/about/help/\" title=\"\">Help</a></li>\n",
      "    \n",
      "        <li class=\"tier-2 element-5\" role=\"treeitem\"><a href=\"http://brochure.getpython.info/\" title=\"\">Python Brochure</a></li>\n",
      "    \n",
      "</ul>\n",
      "\n",
      "        \n",
      "    </li>\n",
      "    \n",
      "    <li class=\"tier-1 element-2\">\n",
      "        <a href=\"/downloads/\" >Downloads</a>\n",
      "        \n",
      "            \n",
      "\n",
      "<ul class=\"subnav menu\">\n",
      "    \n",
      "        <li class=\"tier-2 element-1\" role=\"treeitem\"><a href=\"/downloads/\" title=\"\">All releases</a></li>\n",
      "    \n",
      "        <li class=\"tier-2 element-2\" role=\"treeitem\"><a href=\"/downloads/source/\" title=\"\">Source code</a></li>\n",
      "    \n",
      "        <li class=\"tier-2 element-3\" role=\"treeitem\"><a href=\"/downloads/windows/\" title=\"\">Windows</a></li>\n",
      "    \n",
      "        <li class=\"tier-2 element-4\" role=\"treeitem\"><a href=\"/downloads/mac-osx/\" title=\"\">Mac OS X</a></li>\n",
      "    \n",
      "        <li class=\"tier-2 element-5\" role=\"treeitem\"><a href=\"/download/other/\" title=\"\">Other Platforms</a></li>\n",
      "    \n",
      "        <li class=\"tier-2 element-6\" role=\"treeitem\"><a href=\"https://docs.python.org/3/license.html\" title=\"\">License</a></li>\n",
      "    \n",
      "        <li class=\"tier-2 element-7\" role=\"treeitem\"><a href=\"/download/alternatives\" title=\"\">Alternative Implementations</a></li>\n",
      "    \n",
      "</ul>\n",
      "\n",
      "        \n",
      "    </li>\n",
      "    \n",
      "    <li class=\"tier-1 element-3\">\n",
      "        <a href=\"/doc/\" >Documentation</a>\n",
      "        \n",
      "            \n",
      "\n",
      "<ul class=\"subnav menu\">\n",
      "    \n",
      "        <li class=\"tier-2 element-1\" role=\"treeitem\"><a href=\"/doc/\" title=\"\">Docs</a></li>\n",
      "    \n",
      "        <li class=\"tier-2 element-2\" role=\"treeitem\"><a href=\"/doc/av\" title=\"\">Audio/Visual Talks</a></li>\n",
      "    \n",
      "        <li class=\"tier-2 element-3\" role=\"treeitem\"><a href=\"https://wiki.python.org/moin/BeginnersGuide\" title=\"\">Beginner&#39;s Guide</a></li>\n",
      "    \n",
      "        <li class=\"tier-2 element-4\" role=\"treeitem\"><a href=\"https://devguide.python.org/\" title=\"\">Developer&#39;s Guide</a></li>\n",
      "    \n",
      "        <li class=\"tier-2 element-5\" role=\"treeitem\"><a href=\"https://docs.python.org/faq/\" title=\"\">FAQ</a></li>\n",
      "    \n",
      "        <li class=\"tier-2 element-6\" role=\"treeitem\"><a href=\"http://wiki.python.org/moin/Languages\" title=\"\">Non-English Docs</a></li>\n",
      "    \n",
      "        <li class=\"tier-2 element-7\" role=\"treeitem\"><a href=\"http://python.org/dev/peps/\" title=\"\">PEP Index</a></li>\n",
      "    \n",
      "        <li class=\"tier-2 element-8\" role=\"treeitem\"><a href=\"https://wiki.python.org/moin/PythonBooks\" title=\"\">Python Books</a></li>\n",
      "    \n",
      "        <li class=\"tier-2 element-9\" role=\"treeitem\"><a href=\"/doc/essays/\" title=\"\">Python Essays</a></li>\n",
      "    \n",
      "</ul>\n",
      "\n",
      "        \n",
      "    </li>\n",
      "    \n",
      "    <li class=\"tier-1 element-4\">\n",
      "        <a href=\"/community/\" >Community</a>\n",
      "        \n",
      "            \n",
      "\n",
      "<ul class=\"subnav menu\">\n",
      "    \n",
      "        <li class=\"tier-2 element-1\" role=\"treeitem\"><a href=\"/community/survey\" title=\"\">Community Survey</a></li>\n",
      "    \n",
      "        <li class=\"tier-2 element-2\" role=\"treeitem\"><a href=\"/community/diversity/\" title=\"\">Diversity</a></li>\n",
      "    \n",
      "        <li class=\"tier-2 element-3\" role=\"treeitem\"><a href=\"/community/lists/\" title=\"\">Mailing Lists</a></li>\n",
      "    \n",
      "        <li class=\"tier-2 element-4\" role=\"treeitem\"><a href=\"/community/irc/\" title=\"\">IRC</a></li>\n",
      "    \n",
      "        <li class=\"tier-2 element-5\" role=\"treeitem\"><a href=\"/community/forums/\" title=\"\">Forums</a></li>\n",
      "    \n",
      "        <li class=\"tier-2 element-6\" role=\"treeitem\"><a href=\"/psf/annual-report/2019/\" title=\"\">PSF Annual Impact Report</a></li>\n",
      "    \n",
      "        <li class=\"tier-2 element-7\" role=\"treeitem\"><a href=\"/community/workshops/\" title=\"\">Python Conferences</a></li>\n",
      "    \n",
      "        <li class=\"tier-2 element-8\" role=\"treeitem\"><a href=\"/community/sigs/\" title=\"\">Special Interest Groups</a></li>\n",
      "    \n",
      "        <li class=\"tier-2 element-9\" role=\"treeitem\"><a href=\"/community/logos/\" title=\"\">Python Logo</a></li>\n",
      "    \n",
      "        <li class=\"tier-2 element-10\" role=\"treeitem\"><a href=\"https://wiki.python.org/moin/\" title=\"\">Python Wiki</a></li>\n",
      "    \n",
      "        <li class=\"tier-2 element-11\" role=\"treeitem\"><a href=\"/community/merchandise/\" title=\"\">Merchandise</a></li>\n",
      "    \n",
      "        <li class=\"tier-2 element-12\" role=\"treeitem\"><a href=\"/community/awards\" title=\"\">Community Awards</a></li>\n",
      "    \n",
      "        <li class=\"tier-2 element-13\" role=\"treeitem\"><a href=\"/psf/conduct/\" title=\"\">Code of Conduct</a></li>\n",
      "    \n",
      "</ul>\n",
      "\n",
      "        \n",
      "    </li>\n",
      "    \n",
      "    <li class=\"tier-1 element-5\">\n",
      "        <a href=\"/success-stories/\" title=\"success-stories\">Success Stories</a>\n",
      "        \n",
      "            \n",
      "\n",
      "<ul class=\"subnav menu\">\n",
      "    \n",
      "        <li class=\"tier-2 element-1\" role=\"treeitem\"><a href=\"/success-stories/category/arts/\" title=\"\">Arts</a></li>\n",
      "    \n",
      "        <li class=\"tier-2 element-2\" role=\"treeitem\"><a href=\"/success-stories/category/business/\" title=\"\">Business</a></li>\n",
      "    \n",
      "        <li class=\"tier-2 element-3\" role=\"treeitem\"><a href=\"/success-stories/category/education/\" title=\"\">Education</a></li>\n",
      "    \n",
      "        <li class=\"tier-2 element-4\" role=\"treeitem\"><a href=\"/success-stories/category/engineering/\" title=\"\">Engineering</a></li>\n",
      "    \n",
      "        <li class=\"tier-2 element-5\" role=\"treeitem\"><a href=\"/success-stories/category/government/\" title=\"\">Government</a></li>\n",
      "    \n",
      "        <li class=\"tier-2 element-6\" role=\"treeitem\"><a href=\"/success-stories/category/scientific/\" title=\"\">Scientific</a></li>\n",
      "    \n",
      "        <li class=\"tier-2 element-7\" role=\"treeitem\"><a href=\"/success-stories/category/software-development/\" title=\"\">Software Development</a></li>\n",
      "    \n",
      "</ul>\n",
      "\n",
      "        \n",
      "    </li>\n",
      "    \n",
      "    <li class=\"tier-1 element-6\">\n",
      "        <a href=\"/blogs/\" title=\"News from around the Python world\">News</a>\n",
      "        \n",
      "            \n",
      "\n",
      "<ul class=\"subnav menu\">\n",
      "    \n",
      "        <li class=\"tier-2 element-1\" role=\"treeitem\"><a href=\"/blogs/\" title=\"Python Insider Blog Posts\">Python News</a></li>\n",
      "    \n",
      "        <li class=\"tier-2 element-2\" role=\"treeitem\"><a href=\"/psf/newsletter/\" title=\"Python Software Foundation Newsletter\">PSF Newsletter</a></li>\n",
      "    \n",
      "        <li class=\"tier-2 element-3\" role=\"treeitem\"><a href=\"http://planetpython.org/\" title=\"Planet Python\">Community News</a></li>\n",
      "    \n",
      "        <li class=\"tier-2 element-4\" role=\"treeitem\"><a href=\"http://pyfound.blogspot.com/\" title=\"PSF Blog\">PSF News</a></li>\n",
      "    \n",
      "        <li class=\"tier-2 element-5\" role=\"treeitem\"><a href=\"http://pycon.blogspot.com/\" title=\"PyCon Blog\">PyCon News</a></li>\n",
      "    \n",
      "</ul>\n",
      "\n",
      "        \n",
      "    </li>\n",
      "    \n",
      "    <li class=\"tier-1 element-7\">\n",
      "        <a href=\"/events/\" >Events</a>\n",
      "        \n",
      "            \n",
      "\n",
      "<ul class=\"subnav menu\">\n",
      "    \n",
      "        <li class=\"tier-2 element-1\" role=\"treeitem\"><a href=\"/events/python-events\" title=\"\">Python Events</a></li>\n",
      "    \n",
      "        <li class=\"tier-2 element-2\" role=\"treeitem\"><a href=\"/events/python-user-group/\" title=\"\">User Group Events</a></li>\n",
      "    \n",
      "        <li class=\"tier-2 element-3\" role=\"treeitem\"><a href=\"/events/python-events/past/\" title=\"\">Python Events Archive</a></li>\n",
      "    \n",
      "        <li class=\"tier-2 element-4\" role=\"treeitem\"><a href=\"/events/python-user-group/past/\" title=\"\">User Group Events Archive</a></li>\n",
      "    \n",
      "        <li class=\"tier-2 element-5\" role=\"treeitem\"><a href=\"https://wiki.python.org/moin/PythonEventsCalendar#Submitting_an_Event\" title=\"\">Submit an Event</a></li>\n",
      "    \n",
      "</ul>\n",
      "\n",
      "        \n",
      "    </li>\n",
      "    \n",
      "    <li class=\"tier-1 element-8\">\n",
      "        <a href=\"/dev/\" >Contributing</a>\n",
      "        \n",
      "            \n",
      "\n",
      "<ul class=\"subnav menu\">\n",
      "    \n",
      "        <li class=\"tier-2 element-1\" role=\"treeitem\"><a href=\"https://devguide.python.org/\" title=\"\">Developer&#39;s Guide</a></li>\n",
      "    \n",
      "        <li class=\"tier-2 element-2\" role=\"treeitem\"><a href=\"https://bugs.python.org/\" title=\"\">Issue Tracker</a></li>\n",
      "    \n",
      "        <li class=\"tier-2 element-3\" role=\"treeitem\"><a href=\"https://mail.python.org/mailman/listinfo/python-dev\" title=\"\">python-dev list</a></li>\n",
      "    \n",
      "        <li class=\"tier-2 element-4\" role=\"treeitem\"><a href=\"/dev/core-mentorship/\" title=\"\">Core Mentorship</a></li>\n",
      "    \n",
      "        <li class=\"tier-2 element-5\" role=\"treeitem\"><a href=\"/dev/security/\" title=\"\">Report a Security Issue</a></li>\n",
      "    \n",
      "</ul>\n",
      "\n",
      "        \n",
      "    </li>\n",
      "    \n",
      "</ul>\n",
      "\n",
      "\n",
      "                    <a id=\"back-to-top-2\" class=\"jump-link\" href=\"#python-network\"><span aria-hidden=\"true\" class=\"icon-arrow-up\"><span>&#9650;</span></span> Back to Top</a>\n",
      "                    \n",
      "\n",
      "                </div><!-- end .container -->\n",
      "            </div> <!-- end .main-footer-links -->\n",
      "\n",
      "            <div class=\"site-base\">\n",
      "                <div class=\"container\">\n",
      "                    \n",
      "                    <ul class=\"footer-links navigation menu do-not-print\" role=\"tree\">\n",
      "                        <li class=\"tier-1 element-1\"><a href=\"/about/help/\">Help &amp; <span class=\"say-no-more\">General</span> Contact</a></li>\n",
      "                        <li class=\"tier-1 element-2\"><a href=\"/community/diversity/\">Diversity <span class=\"say-no-more\">Initiatives</span></a></li>\n",
      "                        <li class=\"tier-1 element-3\"><a href=\"https://github.com/python/pythondotorg/issues\">Submit Website Bug</a></li>\n",
      "                        <li class=\"tier-1 element-4\">\n",
      "                            <a href=\"https://status.python.org/\">Status <span class=\"python-status-indicator-default\" id=\"python-status-indicator\"></span></a>\n",
      "                        </li>\n",
      "                    </ul>\n",
      "\n",
      "                    <div class=\"copyright\">\n",
      "                        <p><small>\n",
      "                            <span class=\"pre\">Copyright &copy;2001-2020.</span>\n",
      "                            &nbsp;<span class=\"pre\"><a href=\"/psf-landing/\">Python Software Foundation</a></span>\n",
      "                            &nbsp;<span class=\"pre\"><a href=\"/about/legal/\">Legal Statements</a></span>\n",
      "                            &nbsp;<span class=\"pre\"><a href=\"/privacy/\">Privacy Policy</a></span>\n",
      "                            &nbsp;<span class=\"pre\"><a href=\"/psf/sponsorship/sponsors/#heroku\">Powered by Heroku</a></span>\n",
      "                        </small></p>\n",
      "                    </div>\n",
      "\n",
      "                </div><!-- end .container -->\n",
      "            </div><!-- end .site-base -->\n",
      "\n",
      "        </footer>\n",
      "\n",
      "    </div><!-- end #touchnav-wrapper -->\n",
      "\n",
      "    \n",
      "    <script src=\"//ajax.googleapis.com/ajax/libs/jquery/1.8.2/jquery.min.js\"></script>\n",
      "    <script>window.jQuery || document.write('<script src=\"/static/js/libs/jquery-1.8.2.min.js\"><\\/script>')</script>\n",
      "\n",
      "    <script src=\"/static/js/libs/masonry.pkgd.min.js\"></script>\n",
      "    <script src=\"/static/js/libs/html-includes.js\"></script>\n",
      "\n",
      "    <script type=\"text/javascript\" src=\"/static/js/main-min.037d9037f112.js\" charset=\"utf-8\"></script>\n",
      "    \n",
      "\n",
      "    <!--[if lte IE 7]>\n",
      "    <script type=\"text/javascript\" src=\"/static/js/plugins/IE8-min.798605d5f7a2.js\" charset=\"utf-8\"></script>\n",
      "    \n",
      "    \n",
      "    <![endif]-->\n",
      "\n",
      "    <!--[if lte IE 8]>\n",
      "    <script type=\"text/javascript\" src=\"/static/js/plugins/getComputedStyle-min.c3860be1d290.js\" charset=\"utf-8\"></script>\n",
      "    \n",
      "    \n",
      "    <![endif]-->\n",
      "\n",
      "    \n",
      "\n",
      "    \n",
      "    \n",
      "\n",
      "</body>\n",
      "</html>\n",
      "\n"
     ]
    }
   ],
   "source": [
    "url = 'http://www.crummy.com/software/BeautifulSoup'\n",
    "#source = urllib2.urlopen(url).read()\n",
    "#print(source)\n",
    "\n",
    "with urllib.request.urlopen('http://python.org/') as response:\n",
    "   #source = response.read()\n",
    "   content =  response.read().decode(response.headers.get_content_charset())\n",
    "print(content)\n"
   ]
  },
  {
   "cell_type": "markdown",
   "metadata": {
    "slideshow": {
     "slide_type": "slide"
    }
   },
   "source": [
    "Quiz :\n",
    "======\n",
    "\n",
    "* Is the word 'Alice' mentioned on the beautiful soup homepage?\n",
    "* How often does the word 'Soup' occur on the site?\n",
    "    - hint: use `.count()`\n",
    "* At what index occurs the substring 'alien video games' ?\n",
    "    - hint: use `.find()`"
   ]
  },
  {
   "cell_type": "code",
   "execution_count": 85,
   "metadata": {
    "slideshow": {
     "slide_type": "slide"
    }
   },
   "outputs": [
    {
     "data": {
      "text/plain": [
       "2738"
      ]
     },
     "execution_count": 85,
     "metadata": {},
     "output_type": "execute_result"
    }
   ],
   "source": [
    "## is 'Alice' in source?\n",
    "type(content)\n",
    "'Alice' in content\n",
    "#'Alice' in source\n",
    "\n",
    "## count occurences of 'Soup'\n",
    "content.count('Soup')\n",
    "\n",
    "## find index of 'alien video games\n",
    "content.find('oriented web free open source')"
   ]
  },
  {
   "cell_type": "markdown",
   "metadata": {
    "slideshow": {
     "slide_type": "slide"
    }
   },
   "source": [
    "Beautiful Soup\n",
    "==============\n",
    "\n",
    "* designed to make your life easier\n",
    "* many good functions for parsing html code"
   ]
  },
  {
   "cell_type": "markdown",
   "metadata": {
    "slideshow": {
     "slide_type": "slide"
    }
   },
   "source": [
    "Some examples\n",
    "=============\n"
   ]
  },
  {
   "cell_type": "code",
   "execution_count": 87,
   "metadata": {},
   "outputs": [
    {
     "data": {
      "text/plain": [
       "[<a href=\"#content\" title=\"Skip to content\">Skip to content</a>,\n",
       " <a aria-hidden=\"true\" class=\"jump-link\" href=\"#python-network\" id=\"close-python-network\">\n",
       " <span aria-hidden=\"true\" class=\"icon-arrow-down\"><span>▼</span></span> Close\n",
       "                 </a>,\n",
       " <a class=\"current_item selectedcurrent_branch selected\" href=\"/\" title=\"The Python Programming Language\">Python</a>,\n",
       " <a href=\"/psf-landing/\" title=\"The Python Software Foundation\">PSF</a>,\n",
       " <a href=\"https://docs.python.org\" title=\"Python Documentation\">Docs</a>,\n",
       " <a href=\"https://pypi.python.org/\" title=\"Python Package Index\">PyPI</a>,\n",
       " <a href=\"/jobs/\" title=\"Python Job Board\">Jobs</a>,\n",
       " <a href=\"/community/\" title=\"Python Community\">Community</a>,\n",
       " <a aria-hidden=\"true\" class=\"jump-link\" href=\"#top\" id=\"python-network\">\n",
       " <span aria-hidden=\"true\" class=\"icon-arrow-up\"><span>▲</span></span> The Python Network\n",
       "                 </a>,\n",
       " <a href=\"/\"><img alt=\"python™\" class=\"python-logo\" src=\"/static/img/python-logo.png\"/></a>,\n",
       " <a class=\"donate-button\" href=\"/psf/donations/\">Donate</a>,\n",
       " <a class=\"jump-to-menu\" href=\"#site-map\" id=\"site-map-link\"><span class=\"menu-icon\">≡</span> Menu</a>,\n",
       " <a class=\"action-trigger\" href=\"#\"><strong><small>A</small> A</strong></a>,\n",
       " <a class=\"text-shrink\" href=\"javascript:;\" title=\"Make Text Smaller\">Smaller</a>,\n",
       " <a class=\"text-grow\" href=\"javascript:;\" title=\"Make Text Larger\">Larger</a>,\n",
       " <a class=\"text-reset\" href=\"javascript:;\" title=\"Reset any font size changes I have made\">Reset</a>,\n",
       " <a class=\"action-trigger\" href=\"#\">Socialize</a>,\n",
       " <a href=\"https://www.facebook.com/pythonlang?fref=ts\"><span aria-hidden=\"true\" class=\"icon-facebook\"></span>Facebook</a>,\n",
       " <a href=\"https://twitter.com/ThePSF\"><span aria-hidden=\"true\" class=\"icon-twitter\"></span>Twitter</a>,\n",
       " <a href=\"/community/irc/\"><span aria-hidden=\"true\" class=\"icon-freenode\"></span>Chat on IRC</a>,\n",
       " <a class=\"\" href=\"/about/\" title=\"\">About</a>,\n",
       " <a href=\"/about/apps/\" title=\"\">Applications</a>,\n",
       " <a href=\"/about/quotes/\" title=\"\">Quotes</a>,\n",
       " <a href=\"/about/gettingstarted/\" title=\"\">Getting Started</a>,\n",
       " <a href=\"/about/help/\" title=\"\">Help</a>,\n",
       " <a href=\"http://brochure.getpython.info/\" title=\"\">Python Brochure</a>,\n",
       " <a class=\"\" href=\"/downloads/\" title=\"\">Downloads</a>,\n",
       " <a href=\"/downloads/\" title=\"\">All releases</a>,\n",
       " <a href=\"/downloads/source/\" title=\"\">Source code</a>,\n",
       " <a href=\"/downloads/windows/\" title=\"\">Windows</a>,\n",
       " <a href=\"/downloads/mac-osx/\" title=\"\">Mac OS X</a>,\n",
       " <a href=\"/download/other/\" title=\"\">Other Platforms</a>,\n",
       " <a href=\"https://docs.python.org/3/license.html\" title=\"\">License</a>,\n",
       " <a href=\"/download/alternatives\" title=\"\">Alternative Implementations</a>,\n",
       " <a class=\"\" href=\"/doc/\" title=\"\">Documentation</a>,\n",
       " <a href=\"/doc/\" title=\"\">Docs</a>,\n",
       " <a href=\"/doc/av\" title=\"\">Audio/Visual Talks</a>,\n",
       " <a href=\"https://wiki.python.org/moin/BeginnersGuide\" title=\"\">Beginner's Guide</a>,\n",
       " <a href=\"https://devguide.python.org/\" title=\"\">Developer's Guide</a>,\n",
       " <a href=\"https://docs.python.org/faq/\" title=\"\">FAQ</a>,\n",
       " <a href=\"http://wiki.python.org/moin/Languages\" title=\"\">Non-English Docs</a>,\n",
       " <a href=\"http://python.org/dev/peps/\" title=\"\">PEP Index</a>,\n",
       " <a href=\"https://wiki.python.org/moin/PythonBooks\" title=\"\">Python Books</a>,\n",
       " <a href=\"/doc/essays/\" title=\"\">Python Essays</a>,\n",
       " <a class=\"\" href=\"/community/\" title=\"\">Community</a>,\n",
       " <a href=\"/community/survey\" title=\"\">Community Survey</a>,\n",
       " <a href=\"/community/diversity/\" title=\"\">Diversity</a>,\n",
       " <a href=\"/community/lists/\" title=\"\">Mailing Lists</a>,\n",
       " <a href=\"/community/irc/\" title=\"\">IRC</a>,\n",
       " <a href=\"/community/forums/\" title=\"\">Forums</a>,\n",
       " <a href=\"/psf/annual-report/2019/\" title=\"\">PSF Annual Impact Report</a>,\n",
       " <a href=\"/community/workshops/\" title=\"\">Python Conferences</a>,\n",
       " <a href=\"/community/sigs/\" title=\"\">Special Interest Groups</a>,\n",
       " <a href=\"/community/logos/\" title=\"\">Python Logo</a>,\n",
       " <a href=\"https://wiki.python.org/moin/\" title=\"\">Python Wiki</a>,\n",
       " <a href=\"/community/merchandise/\" title=\"\">Merchandise</a>,\n",
       " <a href=\"/community/awards\" title=\"\">Community Awards</a>,\n",
       " <a href=\"/psf/conduct/\" title=\"\">Code of Conduct</a>,\n",
       " <a class=\"\" href=\"/success-stories/\" title=\"success-stories\">Success Stories</a>,\n",
       " <a href=\"/success-stories/category/arts/\" title=\"\">Arts</a>,\n",
       " <a href=\"/success-stories/category/business/\" title=\"\">Business</a>,\n",
       " <a href=\"/success-stories/category/education/\" title=\"\">Education</a>,\n",
       " <a href=\"/success-stories/category/engineering/\" title=\"\">Engineering</a>,\n",
       " <a href=\"/success-stories/category/government/\" title=\"\">Government</a>,\n",
       " <a href=\"/success-stories/category/scientific/\" title=\"\">Scientific</a>,\n",
       " <a href=\"/success-stories/category/software-development/\" title=\"\">Software Development</a>,\n",
       " <a class=\"\" href=\"/blogs/\" title=\"News from around the Python world\">News</a>,\n",
       " <a href=\"/blogs/\" title=\"Python Insider Blog Posts\">Python News</a>,\n",
       " <a href=\"/psf/newsletter/\" title=\"Python Software Foundation Newsletter\">PSF Newsletter</a>,\n",
       " <a href=\"http://planetpython.org/\" title=\"Planet Python\">Community News</a>,\n",
       " <a href=\"http://pyfound.blogspot.com/\" title=\"PSF Blog\">PSF News</a>,\n",
       " <a href=\"http://pycon.blogspot.com/\" title=\"PyCon Blog\">PyCon News</a>,\n",
       " <a class=\"\" href=\"/events/\" title=\"\">Events</a>,\n",
       " <a href=\"/events/python-events\" title=\"\">Python Events</a>,\n",
       " <a href=\"/events/python-user-group/\" title=\"\">User Group Events</a>,\n",
       " <a href=\"/events/python-events/past/\" title=\"\">Python Events Archive</a>,\n",
       " <a href=\"/events/python-user-group/past/\" title=\"\">User Group Events Archive</a>,\n",
       " <a href=\"https://wiki.python.org/moin/PythonEventsCalendar#Submitting_an_Event\" title=\"\">Submit an Event</a>,\n",
       " <a class=\"button prompt\" data-shell-container=\"#dive-into-python\" href=\"/shell/\" id=\"start-shell\">&gt;_\n",
       "                         <span class=\"message\">Launch Interactive Shell</span>\n",
       " </a>,\n",
       " <a href=\"//docs.python.org/3/tutorial/controlflow.html#defining-functions\">More about defining functions in Python 3</a>,\n",
       " <a href=\"//docs.python.org/3/tutorial/introduction.html#lists\">More about lists in Python 3</a>,\n",
       " <a href=\"http://docs.python.org/3/tutorial/introduction.html#using-python-as-a-calculator\">More about simple math functions in Python 3</a>,\n",
       " <a href=\"//docs.python.org/3/tutorial/\">Whet your appetite</a>,\n",
       " <a href=\"//docs.python.org/3/tutorial/controlflow.html\">More control flow tools in Python 3</a>,\n",
       " <a class=\"readmore\" href=\"/doc/\">Learn More</a>,\n",
       " <a href=\"/about/gettingstarted/\">Start with our Beginner’s Guide</a>,\n",
       " <a href=\"/downloads/release/python-381/\">Python 3.8.1</a>,\n",
       " <a href=\"https://docs.python.org\">docs.python.org</a>,\n",
       " <a href=\"//jobs.python.org\">jobs.python.org</a>,\n",
       " <a href=\"https://blog.python.org\" title=\"More News\">More</a>,\n",
       " <a href=\"http://feedproxy.google.com/~r/PythonSoftwareFoundationNews/~3/J-QMrALXO0g/python-software-foundation-fellow.html\">Python Software Foundation Fellow Members for Q4 2019</a>,\n",
       " <a href=\"http://feedproxy.google.com/~r/PythonSoftwareFoundationNews/~3/jVt_4dZJWag/python-2-sunset.html\">Python 2 series to be retired by April 2020</a>,\n",
       " <a href=\"http://feedproxy.google.com/~r/PythonInsider/~3/F67HAXZew8A/python-381-376-3610-and-390a2-are-now.html\">Python 3.8.1, 3.7.6, 3.6.10, and 3.9.0a2 are now available!</a>,\n",
       " <a href=\"http://feedproxy.google.com/~r/PythonInsider/~3/u-RWoxRRaOQ/python-376rc1-and-3610rc1-are-now.html\">Python 3.7.6rc1 and 3.6.10rc1 are now available for testing</a>,\n",
       " <a href=\"http://feedproxy.google.com/~r/PythonInsider/~3/of_F9IzoM6Y/python-381rc1-is-now-available-for.html\">Python 3.8.1rc1 is now available for testing</a>,\n",
       " <a href=\"/events/calendars/\" title=\"More Events\">More</a>,\n",
       " <a href=\"/events/python-events/861/\">PyCascades 2020</a>,\n",
       " <a href=\"/events/python-events/880/\">PyCon Namibia 2020</a>,\n",
       " <a href=\"/events/python-events/879/\">PyCon SK 2020</a>,\n",
       " <a href=\"/events/python-events/884/\">PyCon Italia 2020</a>,\n",
       " <a href=\"/events/python-events/881/\">Django Day Copenhagen</a>,\n",
       " <a href=\"/success-stories/\" title=\"More Success Stories\">More</a>,\n",
       " <a href=\"/success-stories/building-an-open-source-and-cross-platform-azure-cli-with-python/\">Thanks to the flexibility of Python and the powerful ecosystem of packages, the Azure CLI supports features such as autocompletion (in shells that support it), persistent credentials, JMESPath result parsing, lazy initialization, network-less unit tests, and more.</a>,\n",
       " <a href=\"/success-stories/building-an-open-source-and-cross-platform-azure-cli-with-python/\">Building an open-source and cross-platform Azure CLI with Python</a>,\n",
       " <a href=\"/about/apps\" title=\"More Applications\">More</a>,\n",
       " <a class=\"tag\" href=\"http://www.djangoproject.com/\">Django</a>,\n",
       " <a class=\"tag\" href=\"http://www.pylonsproject.org/\">Pyramid</a>,\n",
       " <a class=\"tag\" href=\"http://bottlepy.org\">Bottle</a>,\n",
       " <a class=\"tag\" href=\"http://tornadoweb.org\">Tornado</a>,\n",
       " <a class=\"tag\" href=\"http://flask.pocoo.org/\">Flask</a>,\n",
       " <a class=\"tag\" href=\"http://www.web2py.com/\">web2py</a>,\n",
       " <a class=\"tag\" href=\"http://wiki.python.org/moin/TkInter\">tkInter</a>,\n",
       " <a class=\"tag\" href=\"https://wiki.gnome.org/Projects/PyGObject\">PyGObject</a>,\n",
       " <a class=\"tag\" href=\"http://www.riverbankcomputing.co.uk/software/pyqt/intro\">PyQt</a>,\n",
       " <a class=\"tag\" href=\"https://wiki.qt.io/PySide\">PySide</a>,\n",
       " <a class=\"tag\" href=\"https://kivy.org/\">Kivy</a>,\n",
       " <a class=\"tag\" href=\"http://www.wxpython.org/\">wxPython</a>,\n",
       " <a class=\"tag\" href=\"http://www.scipy.org\">SciPy</a>,\n",
       " <a class=\"tag\" href=\"http://pandas.pydata.org/\">Pandas</a>,\n",
       " <a class=\"tag\" href=\"http://ipython.org\">IPython</a>,\n",
       " <a class=\"tag\" href=\"http://buildbot.net/\">Buildbot</a>,\n",
       " <a class=\"tag\" href=\"http://trac.edgewall.org/\">Trac</a>,\n",
       " <a class=\"tag\" href=\"http://roundup.sourceforge.net/\">Roundup</a>,\n",
       " <a class=\"tag\" href=\"http://www.ansible.com\">Ansible</a>,\n",
       " <a class=\"tag\" href=\"http://www.saltstack.com\">Salt</a>,\n",
       " <a class=\"tag\" href=\"https://www.openstack.org\">OpenStack</a>,\n",
       " <a href=\"/dev/peps/\">Python Enhancement Proposals<span class=\"say-no-more\"> (PEPs)</span></a>,\n",
       " <a aria-hidden=\"true\" class=\"rss-link\" href=\"/dev/peps/peps.rss\"><span class=\"icon-feed\"></span> RSS</a>,\n",
       " <a href=\"/psf/\">Python Software Foundation</a>,\n",
       " <a class=\"readmore\" href=\"/psf/\">Learn more</a>,\n",
       " <a class=\"button\" href=\"/users/membership/\">Become a Member</a>,\n",
       " <a class=\"button\" href=\"/psf/donations/\">Donate to the PSF</a>,\n",
       " <a class=\"jump-link\" href=\"#python-network\" id=\"back-to-top-1\"><span aria-hidden=\"true\" class=\"icon-arrow-up\"><span>▲</span></span> Back to Top</a>,\n",
       " <a href=\"/about/\">About</a>,\n",
       " <a href=\"/about/apps/\" title=\"\">Applications</a>,\n",
       " <a href=\"/about/quotes/\" title=\"\">Quotes</a>,\n",
       " <a href=\"/about/gettingstarted/\" title=\"\">Getting Started</a>,\n",
       " <a href=\"/about/help/\" title=\"\">Help</a>,\n",
       " <a href=\"http://brochure.getpython.info/\" title=\"\">Python Brochure</a>,\n",
       " <a href=\"/downloads/\">Downloads</a>,\n",
       " <a href=\"/downloads/\" title=\"\">All releases</a>,\n",
       " <a href=\"/downloads/source/\" title=\"\">Source code</a>,\n",
       " <a href=\"/downloads/windows/\" title=\"\">Windows</a>,\n",
       " <a href=\"/downloads/mac-osx/\" title=\"\">Mac OS X</a>,\n",
       " <a href=\"/download/other/\" title=\"\">Other Platforms</a>,\n",
       " <a href=\"https://docs.python.org/3/license.html\" title=\"\">License</a>,\n",
       " <a href=\"/download/alternatives\" title=\"\">Alternative Implementations</a>,\n",
       " <a href=\"/doc/\">Documentation</a>,\n",
       " <a href=\"/doc/\" title=\"\">Docs</a>,\n",
       " <a href=\"/doc/av\" title=\"\">Audio/Visual Talks</a>,\n",
       " <a href=\"https://wiki.python.org/moin/BeginnersGuide\" title=\"\">Beginner's Guide</a>,\n",
       " <a href=\"https://devguide.python.org/\" title=\"\">Developer's Guide</a>,\n",
       " <a href=\"https://docs.python.org/faq/\" title=\"\">FAQ</a>,\n",
       " <a href=\"http://wiki.python.org/moin/Languages\" title=\"\">Non-English Docs</a>,\n",
       " <a href=\"http://python.org/dev/peps/\" title=\"\">PEP Index</a>,\n",
       " <a href=\"https://wiki.python.org/moin/PythonBooks\" title=\"\">Python Books</a>,\n",
       " <a href=\"/doc/essays/\" title=\"\">Python Essays</a>,\n",
       " <a href=\"/community/\">Community</a>,\n",
       " <a href=\"/community/survey\" title=\"\">Community Survey</a>,\n",
       " <a href=\"/community/diversity/\" title=\"\">Diversity</a>,\n",
       " <a href=\"/community/lists/\" title=\"\">Mailing Lists</a>,\n",
       " <a href=\"/community/irc/\" title=\"\">IRC</a>,\n",
       " <a href=\"/community/forums/\" title=\"\">Forums</a>,\n",
       " <a href=\"/psf/annual-report/2019/\" title=\"\">PSF Annual Impact Report</a>,\n",
       " <a href=\"/community/workshops/\" title=\"\">Python Conferences</a>,\n",
       " <a href=\"/community/sigs/\" title=\"\">Special Interest Groups</a>,\n",
       " <a href=\"/community/logos/\" title=\"\">Python Logo</a>,\n",
       " <a href=\"https://wiki.python.org/moin/\" title=\"\">Python Wiki</a>,\n",
       " <a href=\"/community/merchandise/\" title=\"\">Merchandise</a>,\n",
       " <a href=\"/community/awards\" title=\"\">Community Awards</a>,\n",
       " <a href=\"/psf/conduct/\" title=\"\">Code of Conduct</a>,\n",
       " <a href=\"/success-stories/\" title=\"success-stories\">Success Stories</a>,\n",
       " <a href=\"/success-stories/category/arts/\" title=\"\">Arts</a>,\n",
       " <a href=\"/success-stories/category/business/\" title=\"\">Business</a>,\n",
       " <a href=\"/success-stories/category/education/\" title=\"\">Education</a>,\n",
       " <a href=\"/success-stories/category/engineering/\" title=\"\">Engineering</a>,\n",
       " <a href=\"/success-stories/category/government/\" title=\"\">Government</a>,\n",
       " <a href=\"/success-stories/category/scientific/\" title=\"\">Scientific</a>,\n",
       " <a href=\"/success-stories/category/software-development/\" title=\"\">Software Development</a>,\n",
       " <a href=\"/blogs/\" title=\"News from around the Python world\">News</a>,\n",
       " <a href=\"/blogs/\" title=\"Python Insider Blog Posts\">Python News</a>,\n",
       " <a href=\"/psf/newsletter/\" title=\"Python Software Foundation Newsletter\">PSF Newsletter</a>,\n",
       " <a href=\"http://planetpython.org/\" title=\"Planet Python\">Community News</a>,\n",
       " <a href=\"http://pyfound.blogspot.com/\" title=\"PSF Blog\">PSF News</a>,\n",
       " <a href=\"http://pycon.blogspot.com/\" title=\"PyCon Blog\">PyCon News</a>,\n",
       " <a href=\"/events/\">Events</a>,\n",
       " <a href=\"/events/python-events\" title=\"\">Python Events</a>,\n",
       " <a href=\"/events/python-user-group/\" title=\"\">User Group Events</a>,\n",
       " <a href=\"/events/python-events/past/\" title=\"\">Python Events Archive</a>,\n",
       " <a href=\"/events/python-user-group/past/\" title=\"\">User Group Events Archive</a>,\n",
       " <a href=\"https://wiki.python.org/moin/PythonEventsCalendar#Submitting_an_Event\" title=\"\">Submit an Event</a>,\n",
       " <a href=\"/dev/\">Contributing</a>,\n",
       " <a href=\"https://devguide.python.org/\" title=\"\">Developer's Guide</a>,\n",
       " <a href=\"https://bugs.python.org/\" title=\"\">Issue Tracker</a>,\n",
       " <a href=\"https://mail.python.org/mailman/listinfo/python-dev\" title=\"\">python-dev list</a>,\n",
       " <a href=\"/dev/core-mentorship/\" title=\"\">Core Mentorship</a>,\n",
       " <a href=\"/dev/security/\" title=\"\">Report a Security Issue</a>,\n",
       " <a class=\"jump-link\" href=\"#python-network\" id=\"back-to-top-2\"><span aria-hidden=\"true\" class=\"icon-arrow-up\"><span>▲</span></span> Back to Top</a>,\n",
       " <a href=\"/about/help/\">Help &amp; <span class=\"say-no-more\">General</span> Contact</a>,\n",
       " <a href=\"/community/diversity/\">Diversity <span class=\"say-no-more\">Initiatives</span></a>,\n",
       " <a href=\"https://github.com/python/pythondotorg/issues\">Submit Website Bug</a>,\n",
       " <a href=\"https://status.python.org/\">Status <span class=\"python-status-indicator-default\" id=\"python-status-indicator\"></span></a>,\n",
       " <a href=\"/psf-landing/\">Python Software Foundation</a>,\n",
       " <a href=\"/about/legal/\">Legal Statements</a>,\n",
       " <a href=\"/privacy/\">Privacy Policy</a>,\n",
       " <a href=\"/psf/sponsorship/sponsors/#heroku\">Powered by Heroku</a>]"
      ]
     },
     "execution_count": 87,
     "metadata": {},
     "output_type": "execute_result"
    }
   ],
   "source": [
    "## get bs4 object\n",
    "soup = bs4.BeautifulSoup(content)\n",
    " \n",
    "## compare the two print statements\n",
    "#print soup\n",
    "#print soup.prettify()\n",
    "\n",
    "## show how to find all a tags\n",
    "soup.findAll('a')\n",
    "\n",
    "## ***Why does this not work? ***\n",
    "#soup.findAll('Soup')"
   ]
  },
  {
   "cell_type": "markdown",
   "metadata": {
    "slideshow": {
     "slide_type": "slide"
    }
   },
   "source": [
    "Some examples\n",
    "============="
   ]
  },
  {
   "cell_type": "code",
   "execution_count": 88,
   "metadata": {},
   "outputs": [
    {
     "data": {
      "text/plain": [
       "['#content',\n",
       " '#python-network',\n",
       " '/',\n",
       " '/psf-landing/',\n",
       " 'https://docs.python.org',\n",
       " 'https://pypi.python.org/',\n",
       " '/jobs/',\n",
       " '/community/',\n",
       " '#top',\n",
       " '/',\n",
       " '/psf/donations/',\n",
       " '#site-map',\n",
       " '#',\n",
       " 'javascript:;',\n",
       " 'javascript:;',\n",
       " 'javascript:;',\n",
       " '#',\n",
       " 'https://www.facebook.com/pythonlang?fref=ts',\n",
       " 'https://twitter.com/ThePSF',\n",
       " '/community/irc/',\n",
       " '/about/',\n",
       " '/about/apps/',\n",
       " '/about/quotes/',\n",
       " '/about/gettingstarted/',\n",
       " '/about/help/',\n",
       " 'http://brochure.getpython.info/',\n",
       " '/downloads/',\n",
       " '/downloads/',\n",
       " '/downloads/source/',\n",
       " '/downloads/windows/',\n",
       " '/downloads/mac-osx/',\n",
       " '/download/other/',\n",
       " 'https://docs.python.org/3/license.html',\n",
       " '/download/alternatives',\n",
       " '/doc/',\n",
       " '/doc/',\n",
       " '/doc/av',\n",
       " 'https://wiki.python.org/moin/BeginnersGuide',\n",
       " 'https://devguide.python.org/',\n",
       " 'https://docs.python.org/faq/',\n",
       " 'http://wiki.python.org/moin/Languages',\n",
       " 'http://python.org/dev/peps/',\n",
       " 'https://wiki.python.org/moin/PythonBooks',\n",
       " '/doc/essays/',\n",
       " '/community/',\n",
       " '/community/survey',\n",
       " '/community/diversity/',\n",
       " '/community/lists/',\n",
       " '/community/irc/',\n",
       " '/community/forums/',\n",
       " '/psf/annual-report/2019/',\n",
       " '/community/workshops/',\n",
       " '/community/sigs/',\n",
       " '/community/logos/',\n",
       " 'https://wiki.python.org/moin/',\n",
       " '/community/merchandise/',\n",
       " '/community/awards',\n",
       " '/psf/conduct/',\n",
       " '/success-stories/',\n",
       " '/success-stories/category/arts/',\n",
       " '/success-stories/category/business/',\n",
       " '/success-stories/category/education/',\n",
       " '/success-stories/category/engineering/',\n",
       " '/success-stories/category/government/',\n",
       " '/success-stories/category/scientific/',\n",
       " '/success-stories/category/software-development/',\n",
       " '/blogs/',\n",
       " '/blogs/',\n",
       " '/psf/newsletter/',\n",
       " 'http://planetpython.org/',\n",
       " 'http://pyfound.blogspot.com/',\n",
       " 'http://pycon.blogspot.com/',\n",
       " '/events/',\n",
       " '/events/python-events',\n",
       " '/events/python-user-group/',\n",
       " '/events/python-events/past/',\n",
       " '/events/python-user-group/past/',\n",
       " 'https://wiki.python.org/moin/PythonEventsCalendar#Submitting_an_Event',\n",
       " '/shell/',\n",
       " '//docs.python.org/3/tutorial/controlflow.html#defining-functions',\n",
       " '//docs.python.org/3/tutorial/introduction.html#lists',\n",
       " 'http://docs.python.org/3/tutorial/introduction.html#using-python-as-a-calculator',\n",
       " '//docs.python.org/3/tutorial/',\n",
       " '//docs.python.org/3/tutorial/controlflow.html',\n",
       " '/doc/',\n",
       " '/about/gettingstarted/',\n",
       " '/downloads/release/python-381/',\n",
       " 'https://docs.python.org',\n",
       " '//jobs.python.org',\n",
       " 'https://blog.python.org',\n",
       " 'http://feedproxy.google.com/~r/PythonSoftwareFoundationNews/~3/J-QMrALXO0g/python-software-foundation-fellow.html',\n",
       " 'http://feedproxy.google.com/~r/PythonSoftwareFoundationNews/~3/jVt_4dZJWag/python-2-sunset.html',\n",
       " 'http://feedproxy.google.com/~r/PythonInsider/~3/F67HAXZew8A/python-381-376-3610-and-390a2-are-now.html',\n",
       " 'http://feedproxy.google.com/~r/PythonInsider/~3/u-RWoxRRaOQ/python-376rc1-and-3610rc1-are-now.html',\n",
       " 'http://feedproxy.google.com/~r/PythonInsider/~3/of_F9IzoM6Y/python-381rc1-is-now-available-for.html',\n",
       " '/events/calendars/',\n",
       " '/events/python-events/861/',\n",
       " '/events/python-events/880/',\n",
       " '/events/python-events/879/',\n",
       " '/events/python-events/884/',\n",
       " '/events/python-events/881/',\n",
       " '/success-stories/',\n",
       " '/success-stories/building-an-open-source-and-cross-platform-azure-cli-with-python/',\n",
       " '/success-stories/building-an-open-source-and-cross-platform-azure-cli-with-python/',\n",
       " '/about/apps',\n",
       " 'http://www.djangoproject.com/',\n",
       " 'http://www.pylonsproject.org/',\n",
       " 'http://bottlepy.org',\n",
       " 'http://tornadoweb.org',\n",
       " 'http://flask.pocoo.org/',\n",
       " 'http://www.web2py.com/',\n",
       " 'http://wiki.python.org/moin/TkInter',\n",
       " 'https://wiki.gnome.org/Projects/PyGObject',\n",
       " 'http://www.riverbankcomputing.co.uk/software/pyqt/intro',\n",
       " 'https://wiki.qt.io/PySide',\n",
       " 'https://kivy.org/',\n",
       " 'http://www.wxpython.org/',\n",
       " 'http://www.scipy.org',\n",
       " 'http://pandas.pydata.org/',\n",
       " 'http://ipython.org',\n",
       " 'http://buildbot.net/',\n",
       " 'http://trac.edgewall.org/',\n",
       " 'http://roundup.sourceforge.net/',\n",
       " 'http://www.ansible.com',\n",
       " 'http://www.saltstack.com',\n",
       " 'https://www.openstack.org',\n",
       " '/dev/peps/',\n",
       " '/dev/peps/peps.rss',\n",
       " '/psf/',\n",
       " '/psf/',\n",
       " '/users/membership/',\n",
       " '/psf/donations/',\n",
       " '#python-network',\n",
       " '/about/',\n",
       " '/about/apps/',\n",
       " '/about/quotes/',\n",
       " '/about/gettingstarted/',\n",
       " '/about/help/',\n",
       " 'http://brochure.getpython.info/',\n",
       " '/downloads/',\n",
       " '/downloads/',\n",
       " '/downloads/source/',\n",
       " '/downloads/windows/',\n",
       " '/downloads/mac-osx/',\n",
       " '/download/other/',\n",
       " 'https://docs.python.org/3/license.html',\n",
       " '/download/alternatives',\n",
       " '/doc/',\n",
       " '/doc/',\n",
       " '/doc/av',\n",
       " 'https://wiki.python.org/moin/BeginnersGuide',\n",
       " 'https://devguide.python.org/',\n",
       " 'https://docs.python.org/faq/',\n",
       " 'http://wiki.python.org/moin/Languages',\n",
       " 'http://python.org/dev/peps/',\n",
       " 'https://wiki.python.org/moin/PythonBooks',\n",
       " '/doc/essays/',\n",
       " '/community/',\n",
       " '/community/survey',\n",
       " '/community/diversity/',\n",
       " '/community/lists/',\n",
       " '/community/irc/',\n",
       " '/community/forums/',\n",
       " '/psf/annual-report/2019/',\n",
       " '/community/workshops/',\n",
       " '/community/sigs/',\n",
       " '/community/logos/',\n",
       " 'https://wiki.python.org/moin/',\n",
       " '/community/merchandise/',\n",
       " '/community/awards',\n",
       " '/psf/conduct/',\n",
       " '/success-stories/',\n",
       " '/success-stories/category/arts/',\n",
       " '/success-stories/category/business/',\n",
       " '/success-stories/category/education/',\n",
       " '/success-stories/category/engineering/',\n",
       " '/success-stories/category/government/',\n",
       " '/success-stories/category/scientific/',\n",
       " '/success-stories/category/software-development/',\n",
       " '/blogs/',\n",
       " '/blogs/',\n",
       " '/psf/newsletter/',\n",
       " 'http://planetpython.org/',\n",
       " 'http://pyfound.blogspot.com/',\n",
       " 'http://pycon.blogspot.com/',\n",
       " '/events/',\n",
       " '/events/python-events',\n",
       " '/events/python-user-group/',\n",
       " '/events/python-events/past/',\n",
       " '/events/python-user-group/past/',\n",
       " 'https://wiki.python.org/moin/PythonEventsCalendar#Submitting_an_Event',\n",
       " '/dev/',\n",
       " 'https://devguide.python.org/',\n",
       " 'https://bugs.python.org/',\n",
       " 'https://mail.python.org/mailman/listinfo/python-dev',\n",
       " '/dev/core-mentorship/',\n",
       " '/dev/security/',\n",
       " '#python-network',\n",
       " '/about/help/',\n",
       " '/community/diversity/',\n",
       " 'https://github.com/python/pythondotorg/issues',\n",
       " 'https://status.python.org/',\n",
       " '/psf-landing/',\n",
       " '/about/legal/',\n",
       " '/privacy/',\n",
       " '/psf/sponsorship/sponsors/#heroku']"
      ]
     },
     "execution_count": 88,
     "metadata": {},
     "output_type": "execute_result"
    }
   ],
   "source": [
    "## get attribute value from an element:\n",
    "## find tag: this only returns the first occurrence, not all tags in the string\n",
    "first_tag = soup.find('a')\n",
    "\n",
    "## get attribute `href`\n",
    "first_tag.get('href')\n",
    "\n",
    "## get all links in the page\n",
    "link_list = [l.get('href') for l in soup.findAll('a')]\n",
    "link_list"
   ]
  },
  {
   "cell_type": "code",
   "execution_count": 90,
   "metadata": {
    "slideshow": {
     "slide_type": "slide"
    }
   },
   "outputs": [],
   "source": [
    "## filter all external links\n",
    "# create an empty list to collect the valid links\n",
    "external_links = []\n",
    "\n",
    "# write a loop to filter the links\n",
    "# if it starts with 'http' we are happy\n",
    "for l in link_list:\n",
    "    if l[:4] == 'http':\n",
    "        external_links.append(l)\n",
    "\n",
    "# this throws an error! It says something about 'NoneType'"
   ]
  },
  {
   "cell_type": "code",
   "execution_count": 93,
   "metadata": {
    "slideshow": {
     "slide_type": "slide"
    }
   },
   "outputs": [
    {
     "name": "stdout",
     "output_type": "stream",
     "text": [
      "0\n"
     ]
    }
   ],
   "source": [
    "# lets investigate. Have a close look at the link_list:\n",
    "link_list\n",
    "\n",
    "# Seems that there are None elements!\n",
    "# Let's verify\n",
    "print(sum([l is None for l in link_list]))\n",
    "\n",
    "# So there are two elements in the list that are None!"
   ]
  },
  {
   "cell_type": "code",
   "execution_count": 94,
   "metadata": {
    "slideshow": {
     "slide_type": "slide"
    }
   },
   "outputs": [
    {
     "data": {
      "text/plain": [
       "['https://docs.python.org',\n",
       " 'https://pypi.python.org/',\n",
       " 'https://www.facebook.com/pythonlang?fref=ts',\n",
       " 'https://twitter.com/ThePSF',\n",
       " 'http://brochure.getpython.info/',\n",
       " 'https://docs.python.org/3/license.html',\n",
       " 'https://wiki.python.org/moin/BeginnersGuide',\n",
       " 'https://devguide.python.org/',\n",
       " 'https://docs.python.org/faq/',\n",
       " 'http://wiki.python.org/moin/Languages',\n",
       " 'http://python.org/dev/peps/',\n",
       " 'https://wiki.python.org/moin/PythonBooks',\n",
       " 'https://wiki.python.org/moin/',\n",
       " 'http://planetpython.org/',\n",
       " 'http://pyfound.blogspot.com/',\n",
       " 'http://pycon.blogspot.com/',\n",
       " 'https://wiki.python.org/moin/PythonEventsCalendar#Submitting_an_Event',\n",
       " 'http://docs.python.org/3/tutorial/introduction.html#using-python-as-a-calculator',\n",
       " 'https://docs.python.org',\n",
       " 'https://blog.python.org',\n",
       " 'http://feedproxy.google.com/~r/PythonSoftwareFoundationNews/~3/J-QMrALXO0g/python-software-foundation-fellow.html',\n",
       " 'http://feedproxy.google.com/~r/PythonSoftwareFoundationNews/~3/jVt_4dZJWag/python-2-sunset.html',\n",
       " 'http://feedproxy.google.com/~r/PythonInsider/~3/F67HAXZew8A/python-381-376-3610-and-390a2-are-now.html',\n",
       " 'http://feedproxy.google.com/~r/PythonInsider/~3/u-RWoxRRaOQ/python-376rc1-and-3610rc1-are-now.html',\n",
       " 'http://feedproxy.google.com/~r/PythonInsider/~3/of_F9IzoM6Y/python-381rc1-is-now-available-for.html',\n",
       " 'http://www.djangoproject.com/',\n",
       " 'http://www.pylonsproject.org/',\n",
       " 'http://bottlepy.org',\n",
       " 'http://tornadoweb.org',\n",
       " 'http://flask.pocoo.org/',\n",
       " 'http://www.web2py.com/',\n",
       " 'http://wiki.python.org/moin/TkInter',\n",
       " 'https://wiki.gnome.org/Projects/PyGObject',\n",
       " 'http://www.riverbankcomputing.co.uk/software/pyqt/intro',\n",
       " 'https://wiki.qt.io/PySide',\n",
       " 'https://kivy.org/',\n",
       " 'http://www.wxpython.org/',\n",
       " 'http://www.scipy.org',\n",
       " 'http://pandas.pydata.org/',\n",
       " 'http://ipython.org',\n",
       " 'http://buildbot.net/',\n",
       " 'http://trac.edgewall.org/',\n",
       " 'http://roundup.sourceforge.net/',\n",
       " 'http://www.ansible.com',\n",
       " 'http://www.saltstack.com',\n",
       " 'https://www.openstack.org',\n",
       " 'http://brochure.getpython.info/',\n",
       " 'https://docs.python.org/3/license.html',\n",
       " 'https://wiki.python.org/moin/BeginnersGuide',\n",
       " 'https://devguide.python.org/',\n",
       " 'https://docs.python.org/faq/',\n",
       " 'http://wiki.python.org/moin/Languages',\n",
       " 'http://python.org/dev/peps/',\n",
       " 'https://wiki.python.org/moin/PythonBooks',\n",
       " 'https://wiki.python.org/moin/',\n",
       " 'http://planetpython.org/',\n",
       " 'http://pyfound.blogspot.com/',\n",
       " 'http://pycon.blogspot.com/',\n",
       " 'https://wiki.python.org/moin/PythonEventsCalendar#Submitting_an_Event',\n",
       " 'https://devguide.python.org/',\n",
       " 'https://bugs.python.org/',\n",
       " 'https://mail.python.org/mailman/listinfo/python-dev',\n",
       " 'https://github.com/python/pythondotorg/issues',\n",
       " 'https://status.python.org/']"
      ]
     },
     "execution_count": 94,
     "metadata": {},
     "output_type": "execute_result"
    }
   ],
   "source": [
    "# Let's filter those objects out in the for loop\n",
    "external_links = []\n",
    "\n",
    "# write a loop to filter the links\n",
    "# if it is not None and starts with 'http' we are happy\n",
    "for l in link_list:\n",
    "    if l is not None and l[:4] == 'http':\n",
    "        external_links.append(l)\n",
    "        \n",
    "external_links"
   ]
  },
  {
   "cell_type": "markdown",
   "metadata": {
    "slideshow": {
     "slide_type": "skip"
    }
   },
   "source": [
    "Note: The above `if` condition works because of lazy evaluation in Python. The `and` statement becomes `False` if the first part is `False`, so there is no need to ever evaluate the second part. Thus a `None` entry in the list gets never asked about its first four characters. "
   ]
  },
  {
   "cell_type": "code",
   "execution_count": 95,
   "metadata": {
    "slideshow": {
     "slide_type": "slide"
    }
   },
   "outputs": [
    {
     "data": {
      "text/plain": [
       "['https://docs.python.org',\n",
       " 'https://pypi.python.org/',\n",
       " 'https://www.facebook.com/pythonlang?fref=ts',\n",
       " 'https://twitter.com/ThePSF',\n",
       " 'http://brochure.getpython.info/',\n",
       " 'https://docs.python.org/3/license.html',\n",
       " 'https://wiki.python.org/moin/BeginnersGuide',\n",
       " 'https://devguide.python.org/',\n",
       " 'https://docs.python.org/faq/',\n",
       " 'http://wiki.python.org/moin/Languages',\n",
       " 'http://python.org/dev/peps/',\n",
       " 'https://wiki.python.org/moin/PythonBooks',\n",
       " 'https://wiki.python.org/moin/',\n",
       " 'http://planetpython.org/',\n",
       " 'http://pyfound.blogspot.com/',\n",
       " 'http://pycon.blogspot.com/',\n",
       " 'https://wiki.python.org/moin/PythonEventsCalendar#Submitting_an_Event',\n",
       " 'http://docs.python.org/3/tutorial/introduction.html#using-python-as-a-calculator',\n",
       " 'https://docs.python.org',\n",
       " 'https://blog.python.org',\n",
       " 'http://feedproxy.google.com/~r/PythonSoftwareFoundationNews/~3/J-QMrALXO0g/python-software-foundation-fellow.html',\n",
       " 'http://feedproxy.google.com/~r/PythonSoftwareFoundationNews/~3/jVt_4dZJWag/python-2-sunset.html',\n",
       " 'http://feedproxy.google.com/~r/PythonInsider/~3/F67HAXZew8A/python-381-376-3610-and-390a2-are-now.html',\n",
       " 'http://feedproxy.google.com/~r/PythonInsider/~3/u-RWoxRRaOQ/python-376rc1-and-3610rc1-are-now.html',\n",
       " 'http://feedproxy.google.com/~r/PythonInsider/~3/of_F9IzoM6Y/python-381rc1-is-now-available-for.html',\n",
       " 'http://www.djangoproject.com/',\n",
       " 'http://www.pylonsproject.org/',\n",
       " 'http://bottlepy.org',\n",
       " 'http://tornadoweb.org',\n",
       " 'http://flask.pocoo.org/',\n",
       " 'http://www.web2py.com/',\n",
       " 'http://wiki.python.org/moin/TkInter',\n",
       " 'https://wiki.gnome.org/Projects/PyGObject',\n",
       " 'http://www.riverbankcomputing.co.uk/software/pyqt/intro',\n",
       " 'https://wiki.qt.io/PySide',\n",
       " 'https://kivy.org/',\n",
       " 'http://www.wxpython.org/',\n",
       " 'http://www.scipy.org',\n",
       " 'http://pandas.pydata.org/',\n",
       " 'http://ipython.org',\n",
       " 'http://buildbot.net/',\n",
       " 'http://trac.edgewall.org/',\n",
       " 'http://roundup.sourceforge.net/',\n",
       " 'http://www.ansible.com',\n",
       " 'http://www.saltstack.com',\n",
       " 'https://www.openstack.org',\n",
       " 'http://brochure.getpython.info/',\n",
       " 'https://docs.python.org/3/license.html',\n",
       " 'https://wiki.python.org/moin/BeginnersGuide',\n",
       " 'https://devguide.python.org/',\n",
       " 'https://docs.python.org/faq/',\n",
       " 'http://wiki.python.org/moin/Languages',\n",
       " 'http://python.org/dev/peps/',\n",
       " 'https://wiki.python.org/moin/PythonBooks',\n",
       " 'https://wiki.python.org/moin/',\n",
       " 'http://planetpython.org/',\n",
       " 'http://pyfound.blogspot.com/',\n",
       " 'http://pycon.blogspot.com/',\n",
       " 'https://wiki.python.org/moin/PythonEventsCalendar#Submitting_an_Event',\n",
       " 'https://devguide.python.org/',\n",
       " 'https://bugs.python.org/',\n",
       " 'https://mail.python.org/mailman/listinfo/python-dev',\n",
       " 'https://github.com/python/pythondotorg/issues',\n",
       " 'https://status.python.org/']"
      ]
     },
     "execution_count": 95,
     "metadata": {},
     "output_type": "execute_result"
    }
   ],
   "source": [
    "# and we can put this in a list comprehension as well, it almost reads like \n",
    "# a sentence.\n",
    "\n",
    "[l for l in link_list if l is not None and l.startswith('http')]"
   ]
  },
  {
   "cell_type": "markdown",
   "metadata": {
    "slideshow": {
     "slide_type": "slide"
    }
   },
   "source": [
    "Parsing the Tree\n",
    "================\n",
    "\n"
   ]
  },
  {
   "cell_type": "code",
   "execution_count": 96,
   "metadata": {},
   "outputs": [
    {
     "data": {
      "text/plain": [
       "<body><h3> Test </h3><p>Hello world!</p></body>"
      ]
     },
     "execution_count": 96,
     "metadata": {},
     "output_type": "execute_result"
    }
   ],
   "source": [
    "# redifining `s` without any line breaks\n",
    "s = \"\"\"<!DOCTYPE html><html><head><title>This is a title</title></head><body><h3> Test </h3><p>Hello world!</p></body></html>\"\"\"\n",
    "## get bs4 object\n",
    "tree = bs4.BeautifulSoup(s)\n",
    "\n",
    "## get html root node\n",
    "root_node = tree.html\n",
    "\n",
    "## get head from root using contents\n",
    "head = root_node.contents[0]\n",
    "\n",
    "## get body from root\n",
    "body = root_node.contents[1]\n",
    "\n",
    "## could directly access body\n",
    "tree.body"
   ]
  },
  {
   "cell_type": "markdown",
   "metadata": {
    "slideshow": {
     "slide_type": "slide"
    }
   },
   "source": [
    "Quiz:\n",
    "=====\n",
    "\n",
    "* Find the `h3` tag by parsing the tree starting at `body`\n",
    "* Create a list of all __Hall of Fame__ entries listed on the Beautiful Soup webpage\n",
    "    - hint: it is the only unordered list in the page (tag `ul`)\n"
   ]
  },
  {
   "cell_type": "code",
   "execution_count": 99,
   "metadata": {
    "slideshow": {
     "slide_type": "slide"
    }
   },
   "outputs": [
    {
     "name": "stdout",
     "output_type": "stream",
     "text": [
      "<body><h3> Test </h3><p>Hello world!</p></body>\n"
     ]
    },
    {
     "data": {
      "text/plain": [
       "<h3> Test </h3>"
      ]
     },
     "execution_count": 99,
     "metadata": {},
     "output_type": "execute_result"
    }
   ],
   "source": [
    "## get h3 tag from body\n",
    "print(body)\n",
    "tree.body.find('h3')\n"
   ]
  },
  {
   "cell_type": "code",
   "execution_count": 118,
   "metadata": {
    "slideshow": {
     "slide_type": "slide"
    }
   },
   "outputs": [
    {
     "name": "stdout",
     "output_type": "stream",
     "text": [
      "[<li><a href=\"http://www.nytimes.com/2007/10/25/arts/design/25vide.html\">\"Movable\n",
      " Type\"</a>, a work of digital art on display in the lobby of the New\n",
      " York Times building, uses Beautiful Soup to scrape news feeds.\n",
      "\n",
      "</li>, <li>Reddit uses Beautiful Soup to <a href=\"https://github.com/reddit/reddit/blob/85f9cff3e2ab9bb8f19b96acd8da4ebacc079f04/r2/r2/lib/media.py\">parse\n",
      "a page that's been linked to and find a representative image</a>.\n",
      "\n",
      "</li>, <li>Alexander Harrowell uses Beautiful Soup to <a href=\"http://www.harrowell.org.uk/viktormap.html\">track the business\n",
      " activities</a> of an arms merchant.\n",
      "\n",
      "</li>, <li>The developers of Python itself used Beautiful Soup to <a href=\"http://svn.python.org/view/tracker/importer/\">migrate the Python\n",
      "bug tracker from Sourceforge to Roundup</a>.\n",
      "\n",
      "</li>, <li>The <a href=\"http://www2.ljworld.com/\">Lawrence Journal-World</a>\n",
      "uses Beautiful Soup to <a href=\"http://www.b-list.org/weblog/2010/nov/02/news-done-broke/\">gather\n",
      "statewide election results</a>.\n",
      "\n",
      "</li>, <li>The <a href=\"http://esrl.noaa.gov/gsd/fab/\">NOAA's Forecast\n",
      "Applications Branch</a> uses Beautiful Soup in <a href=\"http://laps.noaa.gov/topograbber/\">TopoGrabber</a>, a script for\n",
      "downloading \"high resolution USGS datasets.\"\n",
      "\n",
      "</li>]\n",
      "<li>The developers of Python itself used Beautiful Soup to <a href=\"http://svn.python.org/view/tracker/importer/\">migrate the Python\n",
      "bug tracker from Sourceforge to Roundup</a>.\n",
      "\n",
      "</li>\n"
     ]
    }
   ],
   "source": [
    "url = 'http://www.crummy.com/software/BeautifulSoup'\n",
    "with urllib.request.urlopen(url) as response:\n",
    "    content =  response.read().decode(response.headers.get_content_charset())\n",
    "\n",
    "soup = bs4.BeautifulSoup(content)\n",
    "\n",
    "## use ul as entry point\n",
    "entry_point = soup.find('ul')\n",
    "\n",
    "## get hall of fame list from entry point\n",
    "## skip the first entry \n",
    "hall_of_fame_list = entry_point.contents[1:]\n",
    "print(hall_of_fame_list)\n",
    "\n",
    "## reformat into a list containing strings\n",
    "## it is ok to have a list of lists\n",
    "list = [l for l in hall_of_fame_list]\n",
    "print(list[3])"
   ]
  },
  {
   "cell_type": "markdown",
   "metadata": {
    "slideshow": {
     "slide_type": "slide"
    }
   },
   "source": [
    "`tmp` now is actually a list of lists containing the hall of fame entries. \n",
    "Here is some advanced Python on how to print really just one entry per list item.\n",
    "\n",
    "The cool things about this are: \n",
    "* The use of `\"\"` to just access the `join` function of strings.\n",
    "* The `join` function itself\n",
    "* that you can actually have two nested for loops in a list comprehension"
   ]
  },
  {
   "cell_type": "code",
   "execution_count": 120,
   "metadata": {
    "slideshow": {
     "slide_type": "-"
    }
   },
   "outputs": [
    {
     "name": "stdout",
     "output_type": "stream",
     "text": [
      "<a href=\"http://www.nytimes.com/2007/10/25/arts/design/25vide.html\">\"Movable\n",
      " Type\"</a>, a work of digital art on display in the lobby of the New\n",
      " York Times building, uses Beautiful Soup to scrape news feeds.\n",
      "\n",
      "\n",
      "Reddit uses Beautiful Soup to <a href=\"https://github.com/reddit/reddit/blob/85f9cff3e2ab9bb8f19b96acd8da4ebacc079f04/r2/r2/lib/media.py\">parse\n",
      "a page that's been linked to and find a representative image</a>.\n",
      "\n",
      "\n",
      "Alexander Harrowell uses Beautiful Soup to <a href=\"http://www.harrowell.org.uk/viktormap.html\">track the business\n",
      " activities</a> of an arms merchant.\n",
      "\n",
      "\n",
      "The developers of Python itself used Beautiful Soup to <a href=\"http://svn.python.org/view/tracker/importer/\">migrate the Python\n",
      "bug tracker from Sourceforge to Roundup</a>.\n",
      "\n",
      "\n",
      "The <a href=\"http://www2.ljworld.com/\">Lawrence Journal-World</a>\n",
      "uses Beautiful Soup to <a href=\"http://www.b-list.org/weblog/2010/nov/02/news-done-broke/\">gather\n",
      "statewide election results</a>.\n",
      "\n",
      "\n",
      "The <a href=\"http://esrl.noaa.gov/gsd/fab/\">NOAA's Forecast\n",
      "Applications Branch</a> uses Beautiful Soup in <a href=\"http://laps.noaa.gov/topograbber/\">TopoGrabber</a>, a script for\n",
      "downloading \"high resolution USGS datasets.\"\n",
      "\n",
      "\n"
     ]
    }
   ],
   "source": [
    "test =  [\"\".join(str(a) for a in sublist) for sublist in list]\n",
    "print('\\n'.join(test))"
   ]
  },
  {
   "cell_type": "markdown",
   "metadata": {
    "slideshow": {
     "slide_type": "slide"
    }
   },
   "source": [
    "Advanced Example\n",
    "===============\n",
    "\n",
    "Idea by [Jesse Steinweg-Woods](https://jessesw.com/Data-Science-Skills/)\n",
    "--------------------------------------------------------------------------------"
   ]
  },
  {
   "cell_type": "markdown",
   "metadata": {
    "slideshow": {
     "slide_type": "slide"
    }
   },
   "source": [
    "Scraping data science skills\n",
    "=============================\n",
    "\n",
    "- What skills are in demand for data scientists?\n",
    "- Should we have a lecture on Spark or only on MapReduce?\n",
    "\n",
    "We want to scrape the information from job advertisements for data scientists from indeed.com\n",
    "Let's scrape and find out!"
   ]
  },
  {
   "cell_type": "code",
   "execution_count": 130,
   "metadata": {
    "slideshow": {
     "slide_type": "slide"
    }
   },
   "outputs": [],
   "source": [
    "# Fixed url for job postings containing data scientist\n",
    "url = 'https://www.indeed.com/jobs?q=data+scientist&l='\n",
    "# read the website\n",
    "with urllib.request.urlopen(url) as response:\n",
    "    content = response.read().decode(response.headers.get_content_charset())\n",
    "\n",
    "\n",
    "# parse html code\n",
    "soup = bs4.BeautifulSoup(content)"
   ]
  },
  {
   "cell_type": "code",
   "execution_count": 140,
   "metadata": {
    "slideshow": {
     "slide_type": "slide"
    }
   },
   "outputs": [
    {
     "name": "stdout",
     "output_type": "stream",
     "text": [
      "Search yielded 11,396 hits.\n",
      "11396\n"
     ]
    }
   ],
   "source": [
    "# see how many job postings we found\n",
    "job_count_string = soup.find(id = 'searchCountPages').contents[0]\n",
    "job_count_string = job_count_string.split()[-2]\n",
    "print(\"Search yielded %s hits.\" % (job_count_string))\n",
    "\n",
    "# not that job_count so far is still a string, \n",
    "# not an integer, and the , separator prevents \n",
    "# us from just casting it to int\n",
    "\n",
    "job_count_digits = [int(d) for d in job_count_string if d.isdigit()]\n",
    "job_count = np.sum([digit*(10**exponent) for digit, exponent in \n",
    "                    zip(job_count_digits[::-1], range(len(job_count_digits)))])\n",
    "\n",
    "print(job_count)"
   ]
  },
  {
   "cell_type": "code",
   "execution_count": 195,
   "metadata": {
    "slideshow": {
     "slide_type": "slide"
    }
   },
   "outputs": [
    {
     "name": "stdout",
     "output_type": "stream",
     "text": [
      "1140\n",
      "We found a lot of jobs:  100\n",
      "['http://www.indeed.com/rc/clk?jk=7afce7046a5bc101', 'http://www.indeed.com/rc/clk?jk=71a0b745ee372c66', 'http://www.indeed.com/rc/clk?jk=21091c4562d65586', 'http://www.indeed.com/rc/clk?jk=267e7cf7de2959c7', 'http://www.indeed.com/rc/clk?jk=8a3895ed10ce7a8e', 'http://www.indeed.com/rc/clk?jk=f387d1f3e162d2e0', 'http://www.indeed.com/rc/clk?jk=2216fb9e246193d0', 'http://www.indeed.com/rc/clk?jk=26315eecf1544030', 'http://www.indeed.com/rc/clk?jk=95d7ab7c0864ed5f', 'http://www.indeed.com/rc/clk?jk=535897fbb7051f8e', 'http://www.indeed.com/rc/clk?jk=c2bd6f811c4becec', 'http://www.indeed.com/rc/clk?jk=2a407ea7754b3277', 'http://www.indeed.com/rc/clk?jk=667b333eec02ea0a', 'http://www.indeed.com/rc/clk?jk=11baba484db23433', 'http://www.indeed.com/rc/clk?jk=4cc54b82720d62d1', 'http://www.indeed.com/rc/clk?jk=3afa4b5a60bab58f', 'http://www.indeed.com/rc/clk?jk=a260ab44fede6e42', 'http://www.indeed.com/rc/clk?jk=eccc2c6a3a163da2', 'http://www.indeed.com/rc/clk?jk=bbc0748e9d76eee1', 'http://www.indeed.com/rc/clk?jk=4ff2bc59466d02af', 'http://www.indeed.com/rc/clk?jk=8e4c89f8b77d836b', 'http://www.indeed.com/rc/clk?jk=eccc2c6a3a163da2', 'http://www.indeed.com/rc/clk?jk=a260ab44fede6e42', 'http://www.indeed.com/rc/clk?jk=9a89fb1cd3922dc7', 'http://www.indeed.com/rc/clk?jk=c2609ea2acf765f2', 'http://www.indeed.com/rc/clk?jk=070f2e41e37f300f', 'http://www.indeed.com/rc/clk?jk=bbc0748e9d76eee1', 'http://www.indeed.com/rc/clk?jk=bc25634aedf1a578', 'http://www.indeed.com/rc/clk?jk=1636faa0308fd08f', 'http://www.indeed.com/rc/clk?jk=8987d80886028a8c', 'http://www.indeed.com/rc/clk?jk=6ad9479e68973ed2', 'http://www.indeed.com/rc/clk?jk=17b2ffc9315d7dc4', 'http://www.indeed.com/rc/clk?jk=95e557a6598c7e9a', 'http://www.indeed.com/rc/clk?jk=2a513d4e8660ef8b', 'http://www.indeed.com/rc/clk?jk=f487448625553676', 'http://www.indeed.com/rc/clk?jk=e3e75abc99eee52b', 'http://www.indeed.com/rc/clk?jk=8d8d2fc89d27b1e3', 'http://www.indeed.com/rc/clk?jk=663c1f05ba327a83', 'http://www.indeed.com/rc/clk?jk=ee4f66de14007dc2', 'http://www.indeed.com/rc/clk?jk=4ff2bc59466d02af', 'http://www.indeed.com/rc/clk?jk=c3f20419c113f659', 'http://www.indeed.com/rc/clk?jk=c73a76937d8a17ec', 'http://www.indeed.com/rc/clk?jk=cb3dbc93046c15d0', 'http://www.indeed.com/rc/clk?jk=0ef4b9ab77de56f9', 'http://www.indeed.com/rc/clk?jk=9cdd4da29f77fdd3', 'http://www.indeed.com/rc/clk?jk=8a324b139dd1bdf6', 'http://www.indeed.com/rc/clk?jk=fa01ba0bac6f913f', 'http://www.indeed.com/rc/clk?jk=380dd5ecfbbba073', 'http://www.indeed.com/rc/clk?jk=60e4a3f4b36d4919', 'http://www.indeed.com/rc/clk?jk=f488292baaace6b5', 'http://www.indeed.com/rc/clk?jk=96aab2977aac289f', 'http://www.indeed.com/rc/clk?jk=f98095929ece41c2', 'http://www.indeed.com/rc/clk?jk=53accde2cc382661', 'http://www.indeed.com/rc/clk?jk=bc25634aedf1a578', 'http://www.indeed.com/rc/clk?jk=c3f20419c113f659', 'http://www.indeed.com/rc/clk?jk=6df2c3606466ecb3', 'http://www.indeed.com/rc/clk?jk=ed25e32259353834', 'http://www.indeed.com/rc/clk?jk=7c2c98d9e599219f', 'http://www.indeed.com/rc/clk?jk=8a324b139dd1bdf6', 'http://www.indeed.com/rc/clk?jk=32e4bd8fda74fbd2', 'http://www.indeed.com/rc/clk?jk=1ef5fdb7466e8121', 'http://www.indeed.com/rc/clk?jk=1de6a9e3c3eb1a37', 'http://www.indeed.com/rc/clk?jk=ed25e32259353834', 'http://www.indeed.com/rc/clk?jk=bc4bbe1ba1696821', 'http://www.indeed.com/rc/clk?jk=b8dbe7f6fe2956d1', 'http://www.indeed.com/rc/clk?jk=0fd42b9ad83ee968', 'http://www.indeed.com/rc/clk?jk=32e4bd8fda74fbd2', 'http://www.indeed.com/rc/clk?jk=16e3110d71ef4be8', 'http://www.indeed.com/rc/clk?jk=55493ab2de69783d', 'http://www.indeed.com/rc/clk?jk=726479f61643f8ec', 'http://www.indeed.com/rc/clk?jk=f3316dcd30c23d47', 'http://www.indeed.com/rc/clk?jk=b8dbe7f6fe2956d1', 'http://www.indeed.com/rc/clk?jk=e7431bb6fd6f26de', 'http://www.indeed.com/rc/clk?jk=51ec2dd6416f6e4f', 'http://www.indeed.com/rc/clk?jk=60e4a3f4b36d4919', 'http://www.indeed.com/rc/clk?jk=920d07ca646ee7fe', 'http://www.indeed.com/rc/clk?jk=9f70f105046fa43f', 'http://www.indeed.com/rc/clk?jk=1de6a9e3c3eb1a37', 'http://www.indeed.com/rc/clk?jk=574f9a960c8686c4', 'http://www.indeed.com/rc/clk?jk=726479f61643f8ec', 'http://www.indeed.com/rc/clk?jk=78f0e434ea12b886', 'http://www.indeed.com/rc/clk?jk=1b2ed68b15812735', 'http://www.indeed.com/rc/clk?jk=e3eaf83d4339d244', 'http://www.indeed.com/rc/clk?jk=e0d1132ee4381b17', 'http://www.indeed.com/rc/clk?jk=d213307d23cd674c', 'http://www.indeed.com/rc/clk?jk=9d000401af349b42', 'http://www.indeed.com/rc/clk?jk=f232be196c3c4eb9', 'http://www.indeed.com/rc/clk?jk=a484ffef1ed045ae', 'http://www.indeed.com/rc/clk?jk=b1bf9d975b4cdd0b', 'http://www.indeed.com/rc/clk?jk=729069b95c0a9bd0', 'http://www.indeed.com/rc/clk?jk=a1725e8ae180d3f2', 'http://www.indeed.com/rc/clk?jk=b1bf9d975b4cdd0b', 'http://www.indeed.com/rc/clk?jk=d213307d23cd674c', 'http://www.indeed.com/rc/clk?jk=4ce15d707e856987', 'http://www.indeed.com/rc/clk?jk=574f9a960c8686c4', 'http://www.indeed.com/rc/clk?jk=51ec2dd6416f6e4f', 'http://www.indeed.com/rc/clk?jk=e0d1132ee4381b17', 'http://www.indeed.com/rc/clk?jk=9eb96dd4a9cdb3fc', 'http://www.indeed.com/rc/clk?jk=f232be196c3c4eb9', 'http://www.indeed.com/rc/clk?jk=5560373447d66e3a']\n"
     ]
    }
   ],
   "source": [
    "# The website is only listing 10 results per page, \n",
    "# so we need to scrape them page after page\n",
    "num_pages = int(np.ceil(job_count/10.0))\n",
    "\n",
    "base_url = 'http://www.indeed.com'\n",
    "job_links = []\n",
    "for i in range(10): #do range(num_pages) if you want them all\n",
    "    if i%10==0:\n",
    "        print(num_pages-i)\n",
    "    url = 'http://www.indeed.com/jobs?q=data+scientist&start=' + str(i*10)\n",
    "    with urllib.request.urlopen(url) as response:\n",
    "        html_page = response.read().decode(response.headers.get_content_charset())\n",
    "    bs_tree = bs4.BeautifulSoup(html_page)\n",
    "    job_link_area = bs_tree.find(id = 'resultsCol')\n",
    "    job_postings = job_link_area.findAll(\"div\")\n",
    "    job_postings = [jp for jp in job_postings if not jp.get('class') is None \n",
    "                    and ''.join(jp.get('class')).find('row result')]\n",
    "    #print(job_postings)\n",
    "    job_ids = [jp.get('data-jk') for jp in job_postings]\n",
    "    \n",
    "    # go after each link\n",
    "    for id in job_ids:\n",
    "        if id is not None:\n",
    "            job_links.append(base_url + '/rc/clk?jk=' + id)\n",
    "\n",
    "    time.sleep(1)\n",
    "\n",
    "print(\"We found a lot of jobs: \", len(job_links))\n",
    "print(job_links)"
   ]
  },
  {
   "cell_type": "markdown",
   "metadata": {
    "slideshow": {
     "slide_type": "slide"
    }
   },
   "source": [
    "Some precautions to enable us to restart our search\n",
    "========================="
   ]
  },
  {
   "cell_type": "code",
   "execution_count": 196,
   "metadata": {
    "slideshow": {
     "slide_type": "-"
    }
   },
   "outputs": [],
   "source": [
    "# Save the scraped links\n",
    "with open('data/scraped_links.pkl', 'wb') as f:\n",
    "    pickle.dump(job_links, f)\n",
    "    \n",
    "# Read canned scraped links\n",
    "with open('data/scraped_links.pkl', 'rb') as f:\n",
    "    job_links = pickle.load(f)    "
   ]
  },
  {
   "cell_type": "code",
   "execution_count": 208,
   "metadata": {
    "slideshow": {
     "slide_type": "slide"
    }
   },
   "outputs": [],
   "source": [
    "skill_set = {'Python': 0, 'R': 0}\n",
    "\n",
    "## write initialization into a file, so we can restart later\n",
    "with open('data/scraped_links_restart.pkl', 'wb') as f:\n",
    "    pickle.dump((skill_set, 0),f)    "
   ]
  },
  {
   "cell_type": "markdown",
   "metadata": {
    "slideshow": {
     "slide_type": "slide"
    }
   },
   "source": [
    "Python Dictonaries\n",
    "==================\n",
    "\n",
    "* build in data type\n",
    "* uses key: value pairs"
   ]
  },
  {
   "cell_type": "code",
   "execution_count": 167,
   "metadata": {
    "slideshow": {
     "slide_type": "slide"
    }
   },
   "outputs": [
    {
     "name": "stdout",
     "output_type": "stream",
     "text": [
      "{'a': 1, 'b': 2}\n",
      "dict_keys(['a', 'b'])\n",
      "dict_values([1, 2])\n",
      "a 1\n",
      "b 2\n",
      "a 1\n",
      "b 2\n"
     ]
    }
   ],
   "source": [
    "a = {'a': 1, 'b':2}\n",
    "print(a)\n",
    "\n",
    "#show keys\n",
    "print(a.keys())\n",
    "\n",
    "#show values\n",
    "print(a.values())\n",
    "\n",
    "#show for loop over all entries\n",
    "# option 1 using zip\n",
    "# this works also for iterating over any\n",
    "# other two lists\n",
    "for k,v in zip(a.keys(), a.values()):\n",
    "    print(k,v)\n",
    "# option 2 using the dictionary `iteritems()` function\n",
    "for k,v in a.items():\n",
    "    print(k,v)"
   ]
  },
  {
   "cell_type": "code",
   "execution_count": 209,
   "metadata": {
    "slideshow": {
     "slide_type": "slide"
    }
   },
   "outputs": [
    {
     "name": "stdout",
     "output_type": "stream",
     "text": [
      "How many websites still to go?  100\n",
      "{'Python': 0, 'R': 0}\n"
     ]
    }
   ],
   "source": [
    "# This code below does the trick, but could be optimized for speed if necessary\n",
    "# e.g. skills are typically listed at the end of the webpage\n",
    "# might not need to split/join the whole webpage, as we already know\n",
    "# which words we are looking for \n",
    "# and could stop after the first occurance of each word\n",
    "\n",
    "with open('data/scraped_links_restart.pkl', 'rb') as f:\n",
    "    skill_set, index = pickle.load(f)\n",
    "    print(\"How many websites still to go? \", len(job_links) - index)\n",
    "    print(skill_set)"
   ]
  },
  {
   "cell_type": "code",
   "execution_count": 210,
   "metadata": {
    "slideshow": {
     "slide_type": "slide"
    }
   },
   "outputs": [
    {
     "name": "stdout",
     "output_type": "stream",
     "text": [
      "95\n",
      "{'Python': 0, 'R': 0}\n",
      "90\n",
      "{'Python': 0, 'R': 0}\n",
      "85\n",
      "{'Python': 0, 'R': 0}\n",
      "80\n",
      "{'Python': 0, 'R': 0}\n",
      "75\n",
      "{'Python': 0, 'R': 0}\n",
      "70\n",
      "{'Python': 0, 'R': 0}\n",
      "65\n",
      "{'Python': 0, 'R': 0}\n",
      "60\n",
      "{'Python': 0, 'R': 0}\n",
      "55\n",
      "{'Python': 0, 'R': 0}\n",
      "50\n",
      "{'Python': 0, 'R': 0}\n",
      "45\n",
      "{'Python': 0, 'R': 0}\n",
      "40\n",
      "{'Python': 0, 'R': 0}\n",
      "35\n",
      "{'Python': 0, 'R': 0}\n",
      "30\n",
      "{'Python': 0, 'R': 0}\n",
      "25\n",
      "{'Python': 0, 'R': 0}\n",
      "20\n",
      "{'Python': 0, 'R': 0}\n",
      "15\n",
      "{'Python': 0, 'R': 0}\n",
      "10\n",
      "{'Python': 0, 'R': 0}\n",
      "5\n",
      "{'Python': 0, 'R': 0}\n",
      "0\n",
      "{'Python': 0, 'R': 0}\n"
     ]
    }
   ],
   "source": [
    "counter = 0\n",
    "\n",
    "for link in job_links[index:]:\n",
    "    counter +=1  \n",
    "    \n",
    "    with urllib.request.urlopen(job_links[0]) as response:\n",
    "        html_page = response.read().decode(response.headers.get_content_charset())\n",
    "\n",
    "    html_text = re.sub(\"[^a-z.+3]\",\" \", html_page.lower()) # replace all but the listed characters\n",
    "\n",
    "    for key in skill_set.keys():\n",
    "        if key in html_text:  \n",
    "            skill_set[key] +=1\n",
    "            \n",
    "    if counter % 5 == 0:\n",
    "        print(len(job_links) - counter - index)\n",
    "        print(skill_set)\n",
    "        with open('scraped_links_restart.pkl','wb') as f:\n",
    "            pickle.dump((skill_set, index+counter),f)"
   ]
  },
  {
   "cell_type": "code",
   "execution_count": 207,
   "metadata": {
    "slideshow": {
     "slide_type": "slide"
    }
   },
   "outputs": [
    {
     "name": "stdout",
     "output_type": "stream",
     "text": [
      "{'mapreduce': 0, 'spark': 0}\n"
     ]
    }
   ],
   "source": [
    "print(skill_set)"
   ]
  },
  {
   "cell_type": "code",
   "execution_count": 176,
   "metadata": {
    "slideshow": {
     "slide_type": "slide"
    }
   },
   "outputs": [
    {
     "data": {
      "image/png": "[encoded data removed]",
      "text/plain": [
       "<Figure size 432x288 with 1 Axes>"
      ]
     },
     "metadata": {},
     "output_type": "display_data"
    }
   ],
   "source": [
    "pseries = pd.Series(skill_set)\n",
    "pseries.sort_values(ascending=False)\n",
    "\n",
    "pseries.plot(kind = 'bar')\n",
    "## set the title to Score Comparison\n",
    "plt.title('Data Science Skills')\n",
    "## set the x label\n",
    "plt.xlabel('Skills')\n",
    "## set the y label\n",
    "plt.ylabel('Count')\n",
    "## show the plot\n",
    "plt.show()"
   ]
  },
  {
   "cell_type": "markdown",
   "metadata": {
    "slideshow": {
     "slide_type": "slide"
    }
   },
   "source": [
    "Another Example\n",
    "================\n",
    "\n",
    "Designed by Katharine Jarmul\n",
    "----------------------------\n",
    "\n",
    "https://github.com/kjam/python-web-scraping-tutorial\n",
    "\n",
    "\n"
   ]
  },
  {
   "cell_type": "markdown",
   "metadata": {
    "slideshow": {
     "slide_type": "slide"
    }
   },
   "source": [
    "Scraping Happy Hours\n",
    "====================\n",
    "\n",
    "Scrape the happy hour list of LA for personal preferences\n",
    "\n",
    "http://www.downtownla.com/3_10_happyHours.asp?action=ALL\n",
    "\n",
    "This example is part of her talk about data scraping at PyCon2014. She is a really good speaker and I enjoyed watching her talk. Check it out: http://www.youtube.com/watch?v=p1iX0uxM1w8"
   ]
  },
  {
   "cell_type": "code",
   "execution_count": null,
   "metadata": {
    "slideshow": {
     "slide_type": "slide"
    }
   },
   "outputs": [],
   "source": [
    "stuff_i_like = ['burger', 'sushi', 'sweet potato fries', 'BBQ','beer']\n",
    "found_happy_hours = []\n",
    "my_happy_hours = []\n",
    "# First, I'm going to identify the areas of the page I want to look at\n",
    "url = 'http://www.downtownla.com/3_10_happyHours.asp?action=ALL'\n",
    "source = urllib2.urlopen(url).read()\n",
    "tables = bs4.BeautifulSoup(source)"
   ]
  },
  {
   "cell_type": "code",
   "execution_count": null,
   "metadata": {
    "slideshow": {
     "slide_type": "slide"
    }
   },
   "outputs": [],
   "source": [
    "# Then, I'm going to sort out the *exact* parts of the page\n",
    "# that match what I'm looking for...\n",
    "for t in tables.findAll('p', {'class': 'calendar_EventTitle'}):\n",
    "    text = t.text\n",
    "    for s in t.findNextSiblings():\n",
    "        text += '\\n' + s.text\n",
    "    found_happy_hours.append(text)\n",
    "\n",
    "print \"The scraper found %d happy hours!\" % len(found_happy_hours)"
   ]
  },
  {
   "cell_type": "code",
   "execution_count": null,
   "metadata": {
    "slideshow": {
     "slide_type": "slide"
    }
   },
   "outputs": [],
   "source": [
    "# Now I'm going to loop through the food I like\n",
    "# and see if any of the happy hour descriptions match\n",
    "for food in stuff_i_like:\n",
    "    for hh in found_happy_hours:\n",
    "        # checking for text AND making sure I don't have duplicates\n",
    "        if food in hh and hh not in my_happy_hours:\n",
    "            print \"YAY! I found some %s!\" % food\n",
    "            my_happy_hours.append(hh)\n",
    "\n",
    "print \"I think you might like %d of them, yipeeeee!\" % len(my_happy_hours)"
   ]
  },
  {
   "cell_type": "code",
   "execution_count": null,
   "metadata": {
    "slideshow": {
     "slide_type": "slide"
    }
   },
   "outputs": [],
   "source": [
    "# Now, let's make a mail message we can read:\n",
    "message = 'Hey Katharine,\\n\\n\\n'\n",
    "message += 'OMG, I found some stuff for you in Downtown, take a look.\\n\\n'\n",
    "message += '==============================\\n'.join(my_happy_hours)\n",
    "message = message.encode('utf-8')\n",
    "# To read more about encoding:\n",
    "# http://diveintopython.org/xml_processing/unicode.html\n",
    "message = message.replace('\\t', '').replace('\\r', '')\n",
    "message += '\\n\\nXOXO,\\n Your Py Script'\n",
    "\n",
    "#print message"
   ]
  },
  {
   "cell_type": "markdown",
   "metadata": {
    "slideshow": {
     "slide_type": "slide"
    }
   },
   "source": [
    "Getting Data with an API\n",
    "=========================\n",
    "\n",
    "* API: application programming interface\n",
    "* some sites try to make your life easier\n",
    "* Twitter, New York Times, ImDB, rotten Tomatoes, Yelp, ..."
   ]
  },
  {
   "cell_type": "markdown",
   "metadata": {
    "slideshow": {
     "slide_type": "slide"
    }
   },
   "source": [
    "Rotten Tomatoes\n",
    "===============\n",
    "\n",
    "![The Wizard of Oz](images/wiz_oz.png \"The wizard of Oz\")\n",
    "\n",
    "http://www.rottentomatoes.com/top/\n"
   ]
  },
  {
   "cell_type": "markdown",
   "metadata": {
    "slideshow": {
     "slide_type": "slide"
    }
   },
   "source": [
    "API keys\n",
    "=========\n",
    "\n",
    "* required for data access\n",
    "* identifies application (you)\n",
    "* monitors usage\n",
    "* limits rates"
   ]
  },
  {
   "cell_type": "markdown",
   "metadata": {
    "slideshow": {
     "slide_type": "slide"
    }
   },
   "source": [
    "Rotten Tomatoes Key\n",
    "===================\n",
    "\n",
    "http://developer.rottentomatoes.com/member/register"
   ]
  },
  {
   "cell_type": "code",
   "execution_count": null,
   "metadata": {},
   "outputs": [],
   "source": [
    "import json\n",
    "import requests\n",
    "\n",
    "api_key = rottenTomatoes_key()\n",
    "\n",
    "url = 'http://api.rottentomatoes.com/api/public/v1.0/lists/dvds/top_rentals.json?apikey=' + api_key\n",
    "data = urllib2.urlopen(url).read()\n",
    "#print data"
   ]
  },
  {
   "cell_type": "markdown",
   "metadata": {
    "slideshow": {
     "slide_type": "slide"
    }
   },
   "source": [
    "JSON\n",
    "======\n",
    "\n",
    "* JavaScript Object Notation\n",
    "* human readable\n",
    "* transmit attribute-value pairs"
   ]
  },
  {
   "cell_type": "code",
   "execution_count": null,
   "metadata": {
    "slideshow": {
     "slide_type": "slide"
    }
   },
   "outputs": [],
   "source": [
    "a = {'a': 1, 'b':2}\n",
    "s = json.dumps(a)\n",
    "a2 = json.loads(s)\n",
    "\n",
    "## a is a dictionary\n",
    "print a\n",
    "## vs s is a string containing a in JSON encoding\n",
    "print s\n",
    "## reading back the keys are now in unicode\n",
    "print a2"
   ]
  },
  {
   "cell_type": "code",
   "execution_count": null,
   "metadata": {
    "slideshow": {
     "slide_type": "slide"
    }
   },
   "outputs": [],
   "source": [
    "## create dictionary from JSON \n",
    "dataDict = json.loads(data)\n",
    "\n",
    "## expore dictionary\n",
    "print dataDict.keys()\n",
    "\n",
    "## there is a key named `movies` containing a list of movies as a value\n",
    "movies = dataDict['movies']\n",
    "\n",
    "## each element of the list `movies` is a dictionary\n",
    "print movies[0].keys()\n",
    "\n",
    "## one of the keys is called `ratings`\n",
    "## the value is yet another dictionary\n",
    "print movies[0]['ratings'].keys()\n",
    "\n",
    "## so we made it all the way to find the critics score\n",
    "print movies[0]['ratings']['critics_score']\n"
   ]
  },
  {
   "cell_type": "markdown",
   "metadata": {
    "slideshow": {
     "slide_type": "slide"
    }
   },
   "source": [
    "Quiz\n",
    "=====\n",
    "\n",
    "* build a list with critics scores\n",
    "* build a list with audience scores"
   ]
  },
  {
   "cell_type": "code",
   "execution_count": null,
   "metadata": {
    "slideshow": {
     "slide_type": "slide"
    }
   },
   "outputs": [],
   "source": [
    "# critics scores list\n",
    "\n",
    "\n",
    "# audience scores list\n"
   ]
  },
  {
   "cell_type": "markdown",
   "metadata": {
    "slideshow": {
     "slide_type": "skip"
    }
   },
   "source": [
    "The following code shows how to create a pandas data frame with the data we gathered from the webpage.\n",
    "Beware of the `set_index()` function in pandas. Per default it does not change the actual data frame! You need to either reassign the output or set the `inplace` argument to `True`."
   ]
  },
  {
   "cell_type": "code",
   "execution_count": null,
   "metadata": {
    "slideshow": {
     "slide_type": "slide"
    }
   },
   "outputs": [],
   "source": [
    "## create pandas data frame with critics and audience score\n",
    "scores = pd.DataFrame(data=[critics_scores, audience_scores]).transpose()\n",
    "scores.columns = ['critics', 'audience']\n",
    "\n",
    "## also create a list with all movie titles\n",
    "movie_titles = [m['title'] for m in movies]\n",
    "\n",
    "## set index of dataFrame BEWARE of inplace!\n",
    "scores.set_index([movie_titles])\n",
    "\n",
    "## the line above does not changes scores!\n",
    "## You need to either reassign\n",
    "\n",
    "scores = scores.set_index([movie_titles])\n",
    "\n",
    "## or set the inplace argument to True\n",
    "scores.set_index([movie_titles], inplace=True)\n",
    "scores.head(3)"
   ]
  },
  {
   "cell_type": "code",
   "execution_count": null,
   "metadata": {
    "slideshow": {
     "slide_type": "slide"
    }
   },
   "outputs": [],
   "source": [
    "## create a bar plot with the data\n",
    "## notice that we are using the data frame itself and call its plot function\n",
    "scores.plot(kind = 'bar')\n",
    "\n",
    "## set the title to Score Comparison\n",
    "plt.title('Score Comparison')\n",
    "\n",
    "## set the x label\n",
    "plt.xlabel('Movies')\n",
    "\n",
    "## set the y label\n",
    "plt.ylabel('Scores')"
   ]
  },
  {
   "cell_type": "code",
   "execution_count": null,
   "metadata": {
    "slideshow": {
     "slide_type": "slide"
    }
   },
   "outputs": [],
   "source": [
    "## show the plot\n",
    "plt.show()"
   ]
  },
  {
   "cell_type": "markdown",
   "metadata": {
    "slideshow": {
     "slide_type": "slide"
    }
   },
   "source": [
    "Twitter Example:\n",
    "================\n",
    "\n",
    "* API a bit more complicated\n",
    "* libraries make life easier\n",
    "* python-twitter\n",
    "\n",
    "https://github.com/bear/python-twitter\n",
    "\n",
    "What we are going to do is scrape Joe's twitter account, and then filter it for the interesting tweets. Defining interesting as tweets that have be re-tweeted at least 10 times. \n"
   ]
  },
  {
   "cell_type": "code",
   "execution_count": null,
   "metadata": {
    "slideshow": {
     "slide_type": "slide"
    }
   },
   "outputs": [],
   "source": [
    "import twitter\n",
    "\n",
    "## define the necessary keys\n",
    "cKey = twitterAPI_key()\n",
    "cSecret = twitterAPI_secret()\n",
    "aKey = twitterAPI_access_token_key()\n",
    "aSecret = twitterAPI_access_token_secret()\n",
    "\n",
    "## create the api object with the twitter-python library\n",
    "api = twitter.Api(consumer_key=cKey, consumer_secret=cSecret, access_token_key=aKey, access_token_secret=aSecret)\n"
   ]
  },
  {
   "cell_type": "code",
   "execution_count": null,
   "metadata": {
    "slideshow": {
     "slide_type": "slide"
    }
   },
   "outputs": [],
   "source": [
    "## get the user timeline with screen_name = 'stat110'\n",
    "twitter_statuses = api.GetUserTimeline(screen_name = 'stat110')\n",
    "\n",
    "## create a data frame\n",
    "## first get a list of panda Series or dict\n",
    "pdSeriesList = [pd.Series(t.AsDict()) for t in twitter_statuses]\n",
    "\n",
    "## then create the data frame\n",
    "data = pd.DataFrame(pdSeriesList)\n",
    "\n",
    "data.head(2)"
   ]
  },
  {
   "cell_type": "code",
   "execution_count": null,
   "metadata": {
    "slideshow": {
     "slide_type": "slide"
    }
   },
   "outputs": [],
   "source": [
    "## filter tweets with enough retweet_count\n",
    "maybe_interesting = data[data.retweet_count>20]\n",
    "\n",
    "## get the text of these tweets\n",
    "tweet_text = maybe_interesting.text\n",
    "\n",
    "## print them out\n",
    "text = tweet_text.values\n",
    "\n",
    "for t in text:\n",
    "    print '######'\n",
    "    print t"
   ]
  },
  {
   "cell_type": "markdown",
   "metadata": {
    "slideshow": {
     "slide_type": "skip"
    }
   },
   "source": [
    "Extracting columns:\n",
    "===================\n",
    "\n",
    "__Warning:__ The returned column `tweet_text` is a `view` on the data\n",
    "    \n",
    "* it is not a copy\n",
    "* you change the Series => you change the DataFrame\n",
    "\n",
    "Below is another example of such a view:"
   ]
  },
  {
   "cell_type": "code",
   "execution_count": null,
   "metadata": {
    "slideshow": {
     "slide_type": "skip"
    }
   },
   "outputs": [],
   "source": [
    "## create a view for favorite_count on maybe_interesting\n",
    "view = maybe_interesting['favorite_count']\n",
    "print '-----------------'\n",
    "print \"This is view:\"\n",
    "print view\n",
    "## change a value\n",
    "view[8] = 9999\n",
    "\n",
    "## look at original frame\n",
    "print '-----------------'\n",
    "print \"This is view after changing view[8]\"\n",
    "print view\n",
    "\n",
    "print '-----------------'\n",
    "print \"This is maybe_interesting after changing view[8]\"\n",
    "print \"It changed too!\"\n",
    "print maybe_interesting['favorite_count']\n",
    "\n",
    "## to avoid this you can use copy\n",
    "independent_data = maybe_interesting['favorite_count'].copy()\n",
    "independent_data[10] = 999\n",
    "print '-----------------'\n",
    "print \"This is independent_data after changed at 10:\"\n",
    "print independent_data\n",
    "print '-----------------'\n",
    "print \"This is maybe_interesting after changing independent_data:\"\n",
    "print \"It did not change because we only changed a copy of it\"\n",
    "print maybe_interesting['favorite_count']"
   ]
  },
  {
   "cell_type": "markdown",
   "metadata": {
    "collapsed": true,
    "slideshow": {
     "slide_type": "slide"
    }
   },
   "source": [
    "What we covered today:\n",
    "============\n",
    "\n",
    "* Pandas data frames\n",
    "* Guidelines for friendly scraping\n",
    "* Scraping html sites\n",
    "* Scraping with Api's\n",
    "* Basic data cleanup\n"
   ]
  },
  {
   "cell_type": "markdown",
   "metadata": {
    "slideshow": {
     "slide_type": "slide"
    }
   },
   "source": [
    "Further material\n",
    "================\n",
    "\n",
    "* I highly recommend Katharine Jarmul's scraping tutorials\n",
    "* For example [this one](https://www.youtube.com/watch?v=p1iX0uxM1w8)\n",
    "* Pandas has extensive [documentation](http://pandas.pydata.org/pandas-docs/stable/)\n",
    "* Especially the [tem minutes to pandas chapter](http://pandas.pydata.org/pandas-docs/stable/10min.html)\n",
    "\n",
    "* [Greg Reda](http://www.gregreda.com/2013/10/26/using-pandas-on-the-movielens-dataset/) did a lot more pandas examples for the movie lens data set"
   ]
  }
 ],
 "metadata": {
  "celltoolbar": "Slideshow",
  "kernelspec": {
   "display_name": "Python (myenv)",
   "language": "python",
   "name": "myenv"
  },
  "language_info": {
   "codemirror_mode": {
    "name": "ipython",
    "version": 3
   },
   "file_extension": ".py",
   "mimetype": "text/x-python",
   "name": "python",
   "nbconvert_exporter": "python",
   "pygments_lexer": "ipython3",
   "version": "3.7.4"
  }
 },
 "nbformat": 4,
 "nbformat_minor": 1
}
